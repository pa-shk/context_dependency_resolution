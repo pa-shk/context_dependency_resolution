{
  "cells": [
    {
      "cell_type": "code",
      "execution_count": 1,
      "metadata": {
        "id": "Db14eoE4wLHQ"
      },
      "outputs": [],
      "source": [
        "import json\n",
        "import itertools\n",
        "\n",
        "from pathlib import Path\n",
        "\n",
        "import matplotlib.pyplot as plt\n",
        "import numpy as np\n",
        "import pandas as pd\n",
        "import seaborn as sns\n",
        "\n",
        "from collections import Counter\n",
        "from tqdm import tqdm"
      ]
    },
    {
      "cell_type": "markdown",
      "metadata": {
        "id": "I7HXEwZ0BxPK"
      },
      "source": [
        "# 2RCa"
      ]
    },
    {
      "cell_type": "markdown",
      "metadata": {
        "id": "Q9voUMEu_8yt"
      },
      "source": [
        "## Data loading"
      ]
    },
    {
      "cell_type": "code",
      "execution_count": 2,
      "metadata": {
        "id": "V_o7oSOPv3s8"
      },
      "outputs": [],
      "source": [
        "with open('2rca_checked_version.json') as f:\n",
        "    data = json.load(f)"
      ]
    },
    {
      "cell_type": "markdown",
      "metadata": {
        "id": "AJ35eu-RAGpo"
      },
      "source": [
        "## Data samples"
      ]
    },
    {
      "cell_type": "code",
      "execution_count": 3,
      "metadata": {
        "colab": {
          "base_uri": "https://localhost:8080/"
        },
        "id": "AblSvXitzUji",
        "outputId": "e22004f9-6b7f-4c43-e2e0-9af5ac87ba00"
      },
      "outputs": [
        {
          "data": {
            "text/plain": [
              "{'History': ['Привет, расскажи о себе.',\n",
              "  'Привет! Под вкусный кофеек настроение поболтать появилось.'],\n",
              " 'Dia_ID_hash': 'dia_628e79cf',\n",
              " 'Utt_ID_hash': 'utt_64c12a9b',\n",
              " 'Phrase': 'Что читаешь? Мне нравится классика. Я тоже люблю пообщаться.',\n",
              " 'Rewrite': 'Что читаешь? Мне нравится читать классику. Я тоже люблю пообщаться.'}"
            ]
          },
          "execution_count": 3,
          "metadata": {},
          "output_type": "execute_result"
        }
      ],
      "source": [
        "data[0]"
      ]
    },
    {
      "cell_type": "code",
      "execution_count": 4,
      "metadata": {
        "colab": {
          "base_uri": "https://localhost:8080/"
        },
        "id": "4cihR2B-zZ6i",
        "outputId": "ae695246-c4f7-45ce-e3bd-d12c9f76cc28"
      },
      "outputs": [
        {
          "data": {
            "text/plain": [
              "{'History': ['Привет, расскажи о себе.',\n",
              "  'Привет! Под вкусный кофеек настроение поболтать появилось.',\n",
              "  'Что читаешь? Мне нравится читать классику. Я тоже люблю пообщаться.'],\n",
              " 'Dia_ID_hash': 'dia_628e79cf',\n",
              " 'Utt_ID_hash': 'utt_5cd9dc06',\n",
              " 'Phrase': 'Люблю животных, просто обожаю, как и свою работу. Я фантастику люблю.',\n",
              " 'Rewrite': 'Люблю животных, просто обожаю, как и свою работу. Я фантастику читать люблю.'}"
            ]
          },
          "execution_count": 4,
          "metadata": {},
          "output_type": "execute_result"
        }
      ],
      "source": [
        "data[1]"
      ]
    },
    {
      "cell_type": "code",
      "execution_count": 5,
      "metadata": {
        "colab": {
          "base_uri": "https://localhost:8080/"
        },
        "id": "Oqn-3_Lqzcx1",
        "outputId": "74502a2d-31af-49e9-9972-d2c7598ede86"
      },
      "outputs": [
        {
          "data": {
            "text/plain": [
              "{'History': ['Привет, расскажи о себе.',\n",
              "  'Привет! Под вкусный кофеек настроение поболтать появилось.',\n",
              "  'Что читаешь? Мне нравится читать классику. Я тоже люблю пообщаться.',\n",
              "  'Люблю животных, просто обожаю, как и свою работу. Я фантастику читать люблю.',\n",
              "  'А я выращиваю фиалки и веду здоровый и активный образ жизни.'],\n",
              " 'Dia_ID_hash': 'dia_628e79cf',\n",
              " 'Utt_ID_hash': 'utt_9d73f6c2',\n",
              " 'Phrase': 'Ух ты, интересно.',\n",
              " 'Rewrite': 'Ух ты, интересно, ты фиалки выращиваешь.'}"
            ]
          },
          "execution_count": 5,
          "metadata": {},
          "output_type": "execute_result"
        }
      ],
      "source": [
        "data[2]"
      ]
    },
    {
      "cell_type": "code",
      "execution_count": 6,
      "metadata": {
        "colab": {
          "base_uri": "https://localhost:8080/"
        },
        "id": "oLER3_u2zebK",
        "outputId": "9c2c8330-55c2-4c3b-eabe-f8f77a00c3a5"
      },
      "outputs": [
        {
          "data": {
            "text/plain": [
              "{'History': ['Привет, расскажи о себе.',\n",
              "  'Привет! Под вкусный кофеек настроение поболтать появилось.',\n",
              "  'Что читаешь? Мне нравится читать классику. Я тоже люблю пообщаться.',\n",
              "  'Люблю животных, просто обожаю, как и свою работу. Я фантастику читать люблю.',\n",
              "  'А я выращиваю фиалки и веду здоровый и активный образ жизни.',\n",
              "  'Ух ты, интересно, ты фиалки выращиваешь.'],\n",
              " 'Dia_ID_hash': 'dia_628e79cf',\n",
              " 'Utt_ID_hash': 'utt_2bfa24e4',\n",
              " 'Phrase': 'Ты случайно не принц на белом коне? Я его очень жду.',\n",
              " 'Rewrite': 'Ты случайно не принц на белом коне? Я принца на белом коне очень жду.'}"
            ]
          },
          "execution_count": 6,
          "metadata": {},
          "output_type": "execute_result"
        }
      ],
      "source": [
        "data[3]"
      ]
    },
    {
      "cell_type": "code",
      "execution_count": 7,
      "metadata": {
        "colab": {
          "base_uri": "https://localhost:8080/"
        },
        "id": "xaig4_6TcSrU",
        "outputId": "bfb0fa3b-aae3-4965-937b-e4773e16a518"
      },
      "outputs": [
        {
          "data": {
            "text/plain": [
              "{'History': ['Привет!', 'Привет. Как жизнь?'],\n",
              " 'Dia_ID_hash': 'dia_ebaf5ccd',\n",
              " 'Utt_ID_hash': 'utt_63affc77',\n",
              " 'Phrase': 'Отлично! Солнышко светит, птички поют!',\n",
              " 'Rewrite': 'Жизнь отлично! Солнышко светит, птички поют!'}"
            ]
          },
          "execution_count": 7,
          "metadata": {},
          "output_type": "execute_result"
        }
      ],
      "source": [
        "data[4]"
      ]
    },
    {
      "cell_type": "markdown",
      "metadata": {
        "id": "e4Xfj1pZBEw0"
      },
      "source": [
        "Saving sample of data for manual examination"
      ]
    },
    {
      "cell_type": "code",
      "execution_count": 8,
      "metadata": {
        "id": "ByL5NvwboMGm"
      },
      "outputs": [],
      "source": [
        "history, phrase, rewrite = [], [], []\n",
        "\n",
        "for i in range(100):\n",
        "    history.append(data[i][\"History\"])\n",
        "    phrase.append(data[i][\"Phrase\"])\n",
        "    rewrite.append(data[i][\"Rewrite\"])"
      ]
    },
    {
      "cell_type": "code",
      "execution_count": 9,
      "metadata": {
        "id": "UW3ciurvoZK-"
      },
      "outputs": [],
      "source": [
        "pd.DataFrame({\"history\": history, \"phrase\": phrase, \"rewrite\": rewrite}).to_csv(\"sample_100.csv\")"
      ]
    },
    {
      "cell_type": "markdown",
      "metadata": {
        "id": "dw4Z864jAQBo"
      },
      "source": [
        "## Statistical Overview of Data"
      ]
    },
    {
      "cell_type": "code",
      "execution_count": 10,
      "metadata": {
        "colab": {
          "base_uri": "https://localhost:8080/"
        },
        "id": "Qkp5urpZUzeF",
        "outputId": "504714c1-190a-4784-f1db-b43233506866"
      },
      "outputs": [
        {
          "data": {
            "text/plain": [
              "{'History': ['Привет, расскажи о себе.',\n",
              "  'Привет! Под вкусный кофеек настроение поболтать появилось.'],\n",
              " 'Dia_ID_hash': 'dia_628e79cf',\n",
              " 'Utt_ID_hash': 'utt_64c12a9b',\n",
              " 'Phrase': 'Что читаешь? Мне нравится классика. Я тоже люблю пообщаться.',\n",
              " 'Rewrite': 'Что читаешь? Мне нравится читать классику. Я тоже люблю пообщаться.'}"
            ]
          },
          "execution_count": 10,
          "metadata": {},
          "output_type": "execute_result"
        }
      ],
      "source": [
        "data[0]"
      ]
    },
    {
      "cell_type": "code",
      "execution_count": 11,
      "metadata": {
        "colab": {
          "base_uri": "https://localhost:8080/"
        },
        "id": "nk-evPFK_53Y",
        "outputId": "32f6f771-1cce-49ef-c80f-2e8dd7899468"
      },
      "outputs": [
        {
          "name": "stdout",
          "output_type": "stream",
          "text": [
            "number of dialogs: 1048\n",
            "number of phrases: 5514\n"
          ]
        }
      ],
      "source": [
        "print(\"number of dialogs:\", len(set(msg['Dia_ID_hash'] for msg in data)))\n",
        "print(\"number of phrases:\", len(set(msg['Utt_ID_hash'] for msg in data)))"
      ]
    },
    {
      "cell_type": "code",
      "execution_count": null,
      "metadata": {
        "colab": {
          "base_uri": "https://localhost:8080/"
        },
        "id": "gUp9lDLaUilV",
        "outputId": "96c907c2-9bf3-45ae-d759-9affcd3994ae"
      },
      "outputs": [
        {
          "data": {
            "text/plain": [
              "5.261450381679389"
            ]
          },
          "execution_count": 12,
          "metadata": {},
          "output_type": "execute_result"
        }
      ],
      "source": [
        "5514 / 1048 # mean number of phrases in dialog"
      ]
    },
    {
      "cell_type": "markdown",
      "metadata": {},
      "source": [
        "### Dialog history length"
      ]
    },
    {
      "cell_type": "code",
      "execution_count": 13,
      "metadata": {
        "id": "MNbLFgaUE3Wd"
      },
      "outputs": [],
      "source": [
        "history_len_msg = [len(msg[\"History\"]) for msg in data]\n",
        "history_len_chr = [len(\"\".join(msg[\"History\"])) for msg in data]\n",
        "history_len_wrd = [len(\"\".join(msg[\"History\"]).split()) for msg in data]"
      ]
    },
    {
      "cell_type": "code",
      "execution_count": 14,
      "metadata": {
        "colab": {
          "base_uri": "https://localhost:8080/",
          "height": 335
        },
        "id": "TI_CyMBxGyKm",
        "outputId": "afef1254-1a5f-4cc4-9e68-002021e3dda5"
      },
      "outputs": [
        {
          "data": {
            "text/plain": [
              "count    5514.000000\n",
              "mean        6.372325\n",
              "std         3.198738\n",
              "min         1.000000\n",
              "25%         4.000000\n",
              "50%         6.000000\n",
              "75%         9.000000\n",
              "max        18.000000\n",
              "dtype: float64"
            ]
          },
          "execution_count": 14,
          "metadata": {},
          "output_type": "execute_result"
        }
      ],
      "source": [
        "pd.Series(history_len_msg).describe()"
      ]
    },
    {
      "cell_type": "code",
      "execution_count": 15,
      "metadata": {
        "colab": {
          "base_uri": "https://localhost:8080/",
          "height": 335
        },
        "id": "FC3hnBRIfvnm",
        "outputId": "ca5b7a49-583a-43e5-e41e-f15731d2e653"
      },
      "outputs": [
        {
          "data": {
            "text/plain": [
              "count    5514.000000\n",
              "mean      363.195140\n",
              "std       302.450948\n",
              "min         7.000000\n",
              "25%       132.000000\n",
              "50%       299.000000\n",
              "75%       506.000000\n",
              "max      2605.000000\n",
              "dtype: float64"
            ]
          },
          "execution_count": 15,
          "metadata": {},
          "output_type": "execute_result"
        }
      ],
      "source": [
        "pd.Series(history_len_chr).describe()"
      ]
    },
    {
      "cell_type": "code",
      "execution_count": 16,
      "metadata": {
        "colab": {
          "base_uri": "https://localhost:8080/",
          "height": 335
        },
        "id": "Tp9nHvQKf3um",
        "outputId": "7e50fe16-dcb4-41d7-b4cd-ddd1c7dfe40b"
      },
      "outputs": [
        {
          "data": {
            "text/plain": [
              "count    5514.000000\n",
              "mean       56.550961\n",
              "std        49.036452\n",
              "min         1.000000\n",
              "25%        19.000000\n",
              "50%        46.000000\n",
              "75%        79.000000\n",
              "max       401.000000\n",
              "dtype: float64"
            ]
          },
          "execution_count": 16,
          "metadata": {},
          "output_type": "execute_result"
        }
      ],
      "source": [
        "pd.Series(history_len_wrd).describe()"
      ]
    },
    {
      "cell_type": "code",
      "execution_count": null,
      "metadata": {},
      "outputs": [
        {
          "data": {
            "image/png": "[encoded data removed]",
            "text/plain": [
              "<Figure size 1200x600 with 2 Axes>"
            ]
          },
          "metadata": {},
          "output_type": "display_data"
        }
      ],
      "source": [
        "plt.figure(figsize=(12, 6))\n",
        "\n",
        "plt.subplot(1, 2, 2)\n",
        "sns.boxplot(y=history_len_chr, color='skyblue')\n",
        "plt.title('Length in characters')\n",
        "plt.grid(axis='y', linestyle='--', alpha=0.7)\n",
        "\n",
        "\n",
        "plt.subplot(1, 2, 1)\n",
        "sns.boxplot(y=history_len_wrd, color='lightgreen')\n",
        "plt.title('Length in words')\n",
        "plt.grid(axis='y', linestyle='--', alpha=0.7)\n",
        "\n",
        "\n",
        "plt.tight_layout()\n",
        "plt.show()"
      ]
    },
    {
      "cell_type": "markdown",
      "metadata": {
        "id": "KwepjjIuBc51"
      },
      "source": [
        "### Length distribution of original and rewritten utterances\n",
        "\n"
      ]
    },
    {
      "cell_type": "code",
      "execution_count": 19,
      "metadata": {
        "id": "t9SKvH5q6hfr"
      },
      "outputs": [],
      "source": [
        "phrase_length_ch = [len(msg['Phrase']) for msg in data]\n",
        "rephrase_length_ch = [len(msg['Rewrite']) for msg in data]\n",
        "\n",
        "phrase_length_w = [len(msg['Phrase'].split()) for msg in data]\n",
        "rephrase_length_w = [len(msg['Rewrite'].split()) for msg in data]"
      ]
    },
    {
      "cell_type": "code",
      "execution_count": 20,
      "metadata": {
        "colab": {
          "base_uri": "https://localhost:8080/",
          "height": 300
        },
        "id": "yQcJP2u48SFx",
        "outputId": "e96b314b-9b3f-4454-b1e8-dc2fa7951a26"
      },
      "outputs": [
        {
          "data": {
            "text/html": [
              "<div>\n",
              "<style scoped>\n",
              "    .dataframe tbody tr th:only-of-type {\n",
              "        vertical-align: middle;\n",
              "    }\n",
              "\n",
              "    .dataframe tbody tr th {\n",
              "        vertical-align: top;\n",
              "    }\n",
              "\n",
              "    .dataframe thead th {\n",
              "        text-align: right;\n",
              "    }\n",
              "</style>\n",
              "<table border=\"1\" class=\"dataframe\">\n",
              "  <thead>\n",
              "    <tr style=\"text-align: right;\">\n",
              "      <th></th>\n",
              "      <th>Длина оригинальной реплики в знаках</th>\n",
              "      <th>Длина восстановленной реплики в знаках</th>\n",
              "      <th>Длина оригинальной реплики в словах</th>\n",
              "      <th>Длина восстановленной реплики в словах</th>\n",
              "    </tr>\n",
              "  </thead>\n",
              "  <tbody>\n",
              "    <tr>\n",
              "      <th>count</th>\n",
              "      <td>5514.000000</td>\n",
              "      <td>5514.000000</td>\n",
              "      <td>5514.000000</td>\n",
              "      <td>5514.000000</td>\n",
              "    </tr>\n",
              "    <tr>\n",
              "      <th>mean</th>\n",
              "      <td>64.853645</td>\n",
              "      <td>82.460827</td>\n",
              "      <td>11.196409</td>\n",
              "      <td>14.168480</td>\n",
              "    </tr>\n",
              "    <tr>\n",
              "      <th>std</th>\n",
              "      <td>57.584832</td>\n",
              "      <td>61.393238</td>\n",
              "      <td>9.687277</td>\n",
              "      <td>10.331881</td>\n",
              "    </tr>\n",
              "    <tr>\n",
              "      <th>min</th>\n",
              "      <td>2.000000</td>\n",
              "      <td>7.000000</td>\n",
              "      <td>1.000000</td>\n",
              "      <td>2.000000</td>\n",
              "    </tr>\n",
              "    <tr>\n",
              "      <th>25%</th>\n",
              "      <td>25.000000</td>\n",
              "      <td>40.000000</td>\n",
              "      <td>4.000000</td>\n",
              "      <td>7.000000</td>\n",
              "    </tr>\n",
              "    <tr>\n",
              "      <th>50%</th>\n",
              "      <td>48.000000</td>\n",
              "      <td>65.500000</td>\n",
              "      <td>9.000000</td>\n",
              "      <td>11.000000</td>\n",
              "    </tr>\n",
              "    <tr>\n",
              "      <th>75%</th>\n",
              "      <td>87.000000</td>\n",
              "      <td>106.000000</td>\n",
              "      <td>15.000000</td>\n",
              "      <td>18.000000</td>\n",
              "    </tr>\n",
              "    <tr>\n",
              "      <th>max</th>\n",
              "      <td>435.000000</td>\n",
              "      <td>483.000000</td>\n",
              "      <td>72.000000</td>\n",
              "      <td>81.000000</td>\n",
              "    </tr>\n",
              "  </tbody>\n",
              "</table>\n",
              "</div>"
            ],
            "text/plain": [
              "       Длина оригинальной реплики в знаках  \\\n",
              "count                          5514.000000   \n",
              "mean                             64.853645   \n",
              "std                              57.584832   \n",
              "min                               2.000000   \n",
              "25%                              25.000000   \n",
              "50%                              48.000000   \n",
              "75%                              87.000000   \n",
              "max                             435.000000   \n",
              "\n",
              "       Длина восстановленной реплики в знаках  \\\n",
              "count                             5514.000000   \n",
              "mean                                82.460827   \n",
              "std                                 61.393238   \n",
              "min                                  7.000000   \n",
              "25%                                 40.000000   \n",
              "50%                                 65.500000   \n",
              "75%                                106.000000   \n",
              "max                                483.000000   \n",
              "\n",
              "       Длина оригинальной реплики в словах  \\\n",
              "count                          5514.000000   \n",
              "mean                             11.196409   \n",
              "std                               9.687277   \n",
              "min                               1.000000   \n",
              "25%                               4.000000   \n",
              "50%                               9.000000   \n",
              "75%                              15.000000   \n",
              "max                              72.000000   \n",
              "\n",
              "       Длина восстановленной реплики в словах  \n",
              "count                             5514.000000  \n",
              "mean                                14.168480  \n",
              "std                                 10.331881  \n",
              "min                                  2.000000  \n",
              "25%                                  7.000000  \n",
              "50%                                 11.000000  \n",
              "75%                                 18.000000  \n",
              "max                                 81.000000  "
            ]
          },
          "execution_count": 20,
          "metadata": {},
          "output_type": "execute_result"
        }
      ],
      "source": [
        "pd.DataFrame({\"Длина оригинальной реплики в знаках\": phrase_length_ch,\n",
        "              \"Длина восстановленной реплики в знаках\": rephrase_length_ch,\n",
        "              \"Длина оригинальной реплики в словах\": phrase_length_w,\n",
        "              \"Длина восстановленной реплики в словах\": rephrase_length_w}).describe()"
      ]
    },
    {
      "cell_type": "code",
      "execution_count": null,
      "metadata": {
        "colab": {
          "base_uri": "https://localhost:8080/",
          "height": 807
        },
        "id": "917Q3T2068y2",
        "outputId": "5973d817-c572-4906-8b7b-44ce64467eaa"
      },
      "outputs": [
        {
          "data": {
            "image/png": "[encoded data removed]",
            "text/plain": [
              "<Figure size 1000x800 with 2 Axes>"
            ]
          },
          "metadata": {},
          "output_type": "display_data"
        }
      ],
      "source": [
        "fig, axes = plt.subplots(2, 1, figsize=(10, 8))\n",
        "\n",
        "\n",
        "sns.histplot(phrase_length_w, ax=axes[0], kde=True, label='incomplete', alpha=0.5)\n",
        "axes[0].set_title('Length in words')\n",
        "axes[0].set_ylabel('Count')\n",
        "axes[0].legend()\n",
        "\n",
        "sns.histplot(rephrase_length_w, ax=axes[1], kde=True, label='complete', alpha=0.5)\n",
        "axes[1].set_ylabel('Count')\n",
        "axes[1].legend()\n",
        "\n",
        "\n",
        "plt.tight_layout()\n",
        "plt.show()"
      ]
    },
    {
      "cell_type": "code",
      "execution_count": 22,
      "metadata": {
        "colab": {
          "base_uri": "https://localhost:8080/",
          "height": 607
        },
        "id": "vlurtu_L75kw",
        "outputId": "18a3dba8-1590-41bb-b6ba-b0a7bb15222f"
      },
      "outputs": [
        {
          "data": {
            "image/png": "[encoded data removed]",
            "text/plain": [
              "<Figure size 1200x600 with 2 Axes>"
            ]
          },
          "metadata": {},
          "output_type": "display_data"
        }
      ],
      "source": [
        "fig, axes = plt.subplots(1, 2, figsize=(12, 6))\n",
        "\n",
        "sns.histplot(phrase_length_ch, ax=axes[0], color='blue', kde=True, label='inital message', alpha=0.5)\n",
        "sns.histplot(rephrase_length_ch, ax=axes[0], color='orange', kde=True, label='restored message', alpha=0.5)\n",
        "axes[0].set_title('Length in words')\n",
        "axes[0].set_ylabel('Count')\n",
        "axes[0].legend()\n",
        "\n",
        "sns.histplot(phrase_length_w, ax=axes[1], color='green', kde=True, label='inital message', alpha=0.5)\n",
        "sns.histplot(rephrase_length_w, ax=axes[1], color='red', kde=True, label='restored message', alpha=0.5)\n",
        "axes[1].set_title('Length in characters')\n",
        "axes[1].set_ylabel('Count')\n",
        "axes[1].legend()\n",
        "\n",
        "plt.tight_layout()\n",
        "plt.show()"
      ]
    },
    {
      "cell_type": "markdown",
      "metadata": {
        "id": "6lLkXET4iyl_"
      },
      "source": [
        "## Comparison of initial and rewritten messages distributons with SpaCy"
      ]
    },
    {
      "cell_type": "markdown",
      "metadata": {
        "id": "G1KHNaPXUXuk"
      },
      "source": [
        "### model loading"
      ]
    },
    {
      "cell_type": "code",
      "execution_count": 23,
      "metadata": {
        "id": "pF7X6iRgInEC"
      },
      "outputs": [],
      "source": [
        "import spacy\n",
        "\n",
        "\n",
        "spacy_model = spacy.load(\"ru_core_news_lg\")"
      ]
    },
    {
      "cell_type": "markdown",
      "metadata": {
        "id": "aHxeVMovUbD-"
      },
      "source": [
        "### data preprocessing"
      ]
    },
    {
      "cell_type": "code",
      "execution_count": 28,
      "metadata": {
        "id": "G4JNyM2WmSbJ"
      },
      "outputs": [],
      "source": [
        "corpus = []\n",
        "for sample in data:\n",
        "    corpus.extend(sample[\"History\"])\n",
        "    corpus.append(sample[\"Phrase\"])\n",
        "\n",
        "corpus = list(set(corpus))\n",
        "corpus = [token.text for doc in corpus for token in spacy_model(doc)]"
      ]
    },
    {
      "cell_type": "code",
      "execution_count": 29,
      "metadata": {
        "colab": {
          "base_uri": "https://localhost:8080/",
          "height": 36
        },
        "id": "gKVsc_uJmr50",
        "outputId": "4393f7b9-c739-4f0d-e159-3cb903ce1bcb"
      },
      "outputs": [
        {
          "data": {
            "application/vnd.google.colaboratory.intrinsic+json": {
              "type": "string"
            },
            "text/plain": [
              "'Да'"
            ]
          },
          "execution_count": 29,
          "metadata": {},
          "output_type": "execute_result"
        }
      ],
      "source": [
        "corpus[0]"
      ]
    },
    {
      "cell_type": "code",
      "execution_count": 30,
      "metadata": {
        "colab": {
          "base_uri": "https://localhost:8080/"
        },
        "id": "3k0-36gVknq8",
        "outputId": "59e6376e-c176-454c-ea34-9fe8054c1f7c"
      },
      "outputs": [
        {
          "data": {
            "text/plain": [
              "214546"
            ]
          },
          "execution_count": 30,
          "metadata": {},
          "output_type": "execute_result"
        }
      ],
      "source": [
        "len(corpus)"
      ]
    },
    {
      "cell_type": "code",
      "execution_count": 31,
      "metadata": {
        "colab": {
          "base_uri": "https://localhost:8080/"
        },
        "id": "o-OmYJi5knnX",
        "outputId": "3fc9cb04-d35f-4edd-e302-732464e0f5a4"
      },
      "outputs": [
        {
          "data": {
            "text/plain": [
              "13095"
            ]
          },
          "execution_count": 31,
          "metadata": {},
          "output_type": "execute_result"
        }
      ],
      "source": [
        "len(set(corpus))"
      ]
    },
    {
      "cell_type": "code",
      "execution_count": 32,
      "metadata": {
        "id": "64dRugkRouJ7"
      },
      "outputs": [],
      "source": [
        "corpus = []\n",
        "for sample in data:\n",
        "    corpus.extend(sample[\"History\"])\n",
        "    corpus.append(sample[\"Phrase\"])\n",
        "\n",
        "corpus = list(set(corpus))\n",
        "corpus = [token.lemma_ for doc in corpus for token in spacy_model(doc) if not token.is_stop and not token.is_punct]"
      ]
    },
    {
      "cell_type": "code",
      "execution_count": 33,
      "metadata": {
        "id": "SdBQ0udFq4Tb"
      },
      "outputs": [],
      "source": [
        "corpus = [token.lower() for token in corpus]"
      ]
    },
    {
      "cell_type": "code",
      "execution_count": 34,
      "metadata": {
        "id": "y0FVp-K7ngOp"
      },
      "outputs": [],
      "source": [
        "most_frequent = pd.DataFrame(list(Counter(corpus).items()), columns=['token', 'count']).sort_values(\n",
        "    by='count', ascending=False).head(100).reset_index(drop=True)"
      ]
    },
    {
      "cell_type": "code",
      "execution_count": 36,
      "metadata": {
        "colab": {
          "base_uri": "https://localhost:8080/"
        },
        "id": "_Wa6XFtht2Go",
        "outputId": "14151a91-ccce-47ae-a0b9-f1f247f86f7c"
      },
      "outputs": [
        {
          "name": "stdout",
          "output_type": "stream",
          "text": [
            "любить (3933), работать (1571), заниматься (1051), ребёнок (1030), привет (913), время (782), работа (779), животное (714), дело (628), звать (603), жить (602), готовить (532), хобби (516), собака (515), год (489), семья (473), нравиться (398), свободный (383), играть (359), увлекаться (359), жизнь (355), учиться (346), читать (341), обожать (331), кошка (331), путешествовать (329), музыка (323), любимый (311), спорт (311), мечтать (308), какой (305), делать (295), жена (294), город (280), человек (272), школа (269), интересный (259), приятный (258), ходить (258), день (242), хороший (238), муж (237), круто (234), кот (232), смотреть (225), сидеть (224), домашний (222), дом (222), море (219), здоровый (217), отлично (217), профессия (214), сын (213), знать (205), друг (203), книга (198), гулять (196), машина (191), познакомиться (190), крутой (190), мечта (188), увлечение (184), рыбалка (182), два (181), дома (180), учитель (174), думать (170), здорово (166), наверное (163), отличный (162), слушать (160), говорить (160), уметь (159), брат (159), москва (158), давать (152), рисовать (152), родитель (150), природа (150), девушка (149), класс (148), мама (144), раз (143), новый (142), ездить (140), женатый (139), замужем (138), настроение (137), пойти (137), дочка (136), вечер (135), рассказать (133), спасибо (132), отдыхать (131), внук (127), гитара (126), игра (125), увлекаешься (124), больший (123), рад (122), "
          ]
        }
      ],
      "source": [
        "for i in range(len(most_frequent)):\n",
        "    print(dict(most_frequent.iloc[i])[\"token\"] + \" (\" + str(int(dict(most_frequent.iloc[i])[\"count\"])) + \"),\", end=' ')"
      ]
    },
    {
      "cell_type": "code",
      "execution_count": 37,
      "metadata": {
        "colab": {
          "base_uri": "https://localhost:8080/"
        },
        "id": "dpW4DhS9zaWc",
        "outputId": "4274d64c-4679-47a5-c9ad-ee1af3866448"
      },
      "outputs": [
        {
          "name": "stdout",
          "output_type": "stream",
          "text": [
            "любить работать заниматься ребёнок привет время работа животное дело звать жить готовить хобби собака год семья нравиться свободный играть увлекаться жизнь учиться читать обожать кошка путешествовать музыка любимый спорт мечтать какой делать жена город человек школа интересный приятный ходить день хороший муж круто кот смотреть сидеть домашний дом море здоровый отлично профессия сын знать друг книга гулять машина познакомиться крутой мечта увлечение рыбалка два дома учитель думать здорово наверное отличный слушать говорить уметь брат москва давать рисовать родитель природа девушка класс мама раз новый ездить женатый замужем настроение пойти дочка вечер рассказать спасибо отдыхать внук гитара игра увлекаешься больший рад "
          ]
        }
      ],
      "source": [
        "for i in range(len(most_frequent)):\n",
        "    print(dict(most_frequent.iloc[i])[\"token\"], end=' ')"
      ]
    },
    {
      "cell_type": "code",
      "execution_count": 38,
      "metadata": {
        "colab": {
          "base_uri": "https://localhost:8080/"
        },
        "id": "6I23lGuitZtn",
        "outputId": "7307d981-d9c4-41a1-8977-b6028faa014b"
      },
      "outputs": [
        {
          "data": {
            "text/plain": [
              "{'token': 'любить', 'count': np.int64(3933)}"
            ]
          },
          "execution_count": 38,
          "metadata": {},
          "output_type": "execute_result"
        }
      ],
      "source": [
        "dict(most_frequent.iloc[0])"
      ]
    },
    {
      "cell_type": "code",
      "execution_count": 39,
      "metadata": {
        "colab": {
          "base_uri": "https://localhost:8080/"
        },
        "id": "VHn5U9CSknkn",
        "outputId": "9b150506-9b37-4638-fc97-be17a69f108e"
      },
      "outputs": [
        {
          "name": "stdout",
          "output_type": "stream",
          "text": [
            "(0, token    любить\n",
            "count      3933\n",
            "Name: 0, dtype: object)\n",
            "(1, token    работать\n",
            "count        1571\n",
            "Name: 1, dtype: object)\n",
            "(2, token    заниматься\n",
            "count          1051\n",
            "Name: 2, dtype: object)\n",
            "(3, token    ребёнок\n",
            "count       1030\n",
            "Name: 3, dtype: object)\n",
            "(4, token    привет\n",
            "count       913\n",
            "Name: 4, dtype: object)\n",
            "(5, token    время\n",
            "count      782\n",
            "Name: 5, dtype: object)\n",
            "(6, token    работа\n",
            "count       779\n",
            "Name: 6, dtype: object)\n",
            "(7, token    животное\n",
            "count         714\n",
            "Name: 7, dtype: object)\n",
            "(8, token    дело\n",
            "count     628\n",
            "Name: 8, dtype: object)\n",
            "(9, token    звать\n",
            "count      603\n",
            "Name: 9, dtype: object)\n",
            "(10, token    жить\n",
            "count     602\n",
            "Name: 10, dtype: object)\n",
            "(11, token    готовить\n",
            "count         532\n",
            "Name: 11, dtype: object)\n",
            "(12, token    хобби\n",
            "count      516\n",
            "Name: 12, dtype: object)\n",
            "(13, token    собака\n",
            "count       515\n",
            "Name: 13, dtype: object)\n",
            "(14, token    год\n",
            "count    489\n",
            "Name: 14, dtype: object)\n",
            "(15, token    семья\n",
            "count      473\n",
            "Name: 15, dtype: object)\n",
            "(16, token    нравиться\n",
            "count          398\n",
            "Name: 16, dtype: object)\n",
            "(17, token    свободный\n",
            "count          383\n",
            "Name: 17, dtype: object)\n",
            "(18, token    играть\n",
            "count       359\n",
            "Name: 18, dtype: object)\n",
            "(19, token    увлекаться\n",
            "count           359\n",
            "Name: 19, dtype: object)\n",
            "(20, token    жизнь\n",
            "count      355\n",
            "Name: 20, dtype: object)\n",
            "(21, token    учиться\n",
            "count        346\n",
            "Name: 21, dtype: object)\n",
            "(22, token    читать\n",
            "count       341\n",
            "Name: 22, dtype: object)\n",
            "(23, token    обожать\n",
            "count        331\n",
            "Name: 23, dtype: object)\n",
            "(24, token    кошка\n",
            "count      331\n",
            "Name: 24, dtype: object)\n",
            "(25, token    путешествовать\n",
            "count               329\n",
            "Name: 25, dtype: object)\n",
            "(26, token    музыка\n",
            "count       323\n",
            "Name: 26, dtype: object)\n",
            "(27, token    любимый\n",
            "count        311\n",
            "Name: 27, dtype: object)\n",
            "(28, token    спорт\n",
            "count      311\n",
            "Name: 28, dtype: object)\n",
            "(29, token    мечтать\n",
            "count        308\n",
            "Name: 29, dtype: object)\n",
            "(30, token    какой\n",
            "count      305\n",
            "Name: 30, dtype: object)\n",
            "(31, token    делать\n",
            "count       295\n",
            "Name: 31, dtype: object)\n",
            "(32, token    жена\n",
            "count     294\n",
            "Name: 32, dtype: object)\n",
            "(33, token    город\n",
            "count      280\n",
            "Name: 33, dtype: object)\n",
            "(34, token    человек\n",
            "count        272\n",
            "Name: 34, dtype: object)\n",
            "(35, token    школа\n",
            "count      269\n",
            "Name: 35, dtype: object)\n",
            "(36, token    интересный\n",
            "count           259\n",
            "Name: 36, dtype: object)\n",
            "(37, token    приятный\n",
            "count         258\n",
            "Name: 37, dtype: object)\n",
            "(38, token    ходить\n",
            "count       258\n",
            "Name: 38, dtype: object)\n",
            "(39, token    день\n",
            "count     242\n",
            "Name: 39, dtype: object)\n",
            "(40, token    хороший\n",
            "count        238\n",
            "Name: 40, dtype: object)\n",
            "(41, token    муж\n",
            "count    237\n",
            "Name: 41, dtype: object)\n",
            "(42, token    круто\n",
            "count      234\n",
            "Name: 42, dtype: object)\n",
            "(43, token    кот\n",
            "count    232\n",
            "Name: 43, dtype: object)\n",
            "(44, token    смотреть\n",
            "count         225\n",
            "Name: 44, dtype: object)\n",
            "(45, token    сидеть\n",
            "count       224\n",
            "Name: 45, dtype: object)\n",
            "(46, token    домашний\n",
            "count         222\n",
            "Name: 46, dtype: object)\n",
            "(47, token    дом\n",
            "count    222\n",
            "Name: 47, dtype: object)\n",
            "(48, token    море\n",
            "count     219\n",
            "Name: 48, dtype: object)\n",
            "(49, token    здоровый\n",
            "count         217\n",
            "Name: 49, dtype: object)\n",
            "(50, token    отлично\n",
            "count        217\n",
            "Name: 50, dtype: object)\n",
            "(51, token    профессия\n",
            "count          214\n",
            "Name: 51, dtype: object)\n",
            "(52, token    сын\n",
            "count    213\n",
            "Name: 52, dtype: object)\n",
            "(53, token    знать\n",
            "count      205\n",
            "Name: 53, dtype: object)\n",
            "(54, token    друг\n",
            "count     203\n",
            "Name: 54, dtype: object)\n",
            "(55, token    книга\n",
            "count      198\n",
            "Name: 55, dtype: object)\n",
            "(56, token    гулять\n",
            "count       196\n",
            "Name: 56, dtype: object)\n",
            "(57, token    машина\n",
            "count       191\n",
            "Name: 57, dtype: object)\n",
            "(58, token    познакомиться\n",
            "count              190\n",
            "Name: 58, dtype: object)\n",
            "(59, token    крутой\n",
            "count       190\n",
            "Name: 59, dtype: object)\n",
            "(60, token    мечта\n",
            "count      188\n",
            "Name: 60, dtype: object)\n",
            "(61, token    увлечение\n",
            "count          184\n",
            "Name: 61, dtype: object)\n",
            "(62, token    рыбалка\n",
            "count        182\n",
            "Name: 62, dtype: object)\n",
            "(63, token    два\n",
            "count    181\n",
            "Name: 63, dtype: object)\n",
            "(64, token    дома\n",
            "count     180\n",
            "Name: 64, dtype: object)\n",
            "(65, token    учитель\n",
            "count        174\n",
            "Name: 65, dtype: object)\n",
            "(66, token    думать\n",
            "count       170\n",
            "Name: 66, dtype: object)\n",
            "(67, token    здорово\n",
            "count        166\n",
            "Name: 67, dtype: object)\n",
            "(68, token    наверное\n",
            "count         163\n",
            "Name: 68, dtype: object)\n",
            "(69, token    отличный\n",
            "count         162\n",
            "Name: 69, dtype: object)\n",
            "(70, token    слушать\n",
            "count        160\n",
            "Name: 70, dtype: object)\n",
            "(71, token    говорить\n",
            "count         160\n",
            "Name: 71, dtype: object)\n",
            "(72, token    уметь\n",
            "count      159\n",
            "Name: 72, dtype: object)\n",
            "(73, token    брат\n",
            "count     159\n",
            "Name: 73, dtype: object)\n",
            "(74, token    москва\n",
            "count       158\n",
            "Name: 74, dtype: object)\n",
            "(75, token    давать\n",
            "count       152\n",
            "Name: 75, dtype: object)\n",
            "(76, token    рисовать\n",
            "count         152\n",
            "Name: 76, dtype: object)\n",
            "(77, token    родитель\n",
            "count         150\n",
            "Name: 77, dtype: object)\n",
            "(78, token    природа\n",
            "count        150\n",
            "Name: 78, dtype: object)\n",
            "(79, token    девушка\n",
            "count        149\n",
            "Name: 79, dtype: object)\n",
            "(80, token    класс\n",
            "count      148\n",
            "Name: 80, dtype: object)\n",
            "(81, token    мама\n",
            "count     144\n",
            "Name: 81, dtype: object)\n",
            "(82, token    раз\n",
            "count    143\n",
            "Name: 82, dtype: object)\n",
            "(83, token    новый\n",
            "count      142\n",
            "Name: 83, dtype: object)\n",
            "(84, token    ездить\n",
            "count       140\n",
            "Name: 84, dtype: object)\n",
            "(85, token    женатый\n",
            "count        139\n",
            "Name: 85, dtype: object)\n",
            "(86, token    замужем\n",
            "count        138\n",
            "Name: 86, dtype: object)\n",
            "(87, token    настроение\n",
            "count           137\n",
            "Name: 87, dtype: object)\n",
            "(88, token    пойти\n",
            "count      137\n",
            "Name: 88, dtype: object)\n",
            "(89, token    дочка\n",
            "count      136\n",
            "Name: 89, dtype: object)\n",
            "(90, token    вечер\n",
            "count      135\n",
            "Name: 90, dtype: object)\n",
            "(91, token    рассказать\n",
            "count           133\n",
            "Name: 91, dtype: object)\n",
            "(92, token    спасибо\n",
            "count        132\n",
            "Name: 92, dtype: object)\n",
            "(93, token    отдыхать\n",
            "count         131\n",
            "Name: 93, dtype: object)\n",
            "(94, token    внук\n",
            "count     127\n",
            "Name: 94, dtype: object)\n",
            "(95, token    гитара\n",
            "count       126\n",
            "Name: 95, dtype: object)\n",
            "(96, token    игра\n",
            "count     125\n",
            "Name: 96, dtype: object)\n",
            "(97, token    увлекаешься\n",
            "count            124\n",
            "Name: 97, dtype: object)\n",
            "(98, token    больший\n",
            "count        123\n",
            "Name: 98, dtype: object)\n",
            "(99, token    рад\n",
            "count    122\n",
            "Name: 99, dtype: object)\n"
          ]
        }
      ],
      "source": [
        "for row in most_frequent.iterrows():\n",
        "    print(row)"
      ]
    },
    {
      "cell_type": "code",
      "execution_count": 40,
      "metadata": {
        "colab": {
          "base_uri": "https://localhost:8080/"
        },
        "id": "Em7Pu684LMrx",
        "outputId": "7b6f8d46-d5de-4919-bcec-aad10494305e"
      },
      "outputs": [
        {
          "name": "stderr",
          "output_type": "stream",
          "text": [
            "100%|██████████| 5514/5514 [02:50<00:00, 32.25it/s]\n"
          ]
        }
      ],
      "source": [
        "phrase2pos, rewrite2pos = {}, {}\n",
        "\n",
        "\n",
        "for msg in tqdm(data):\n",
        "    doc = spacy_model(msg['Phrase'])\n",
        "    phrase2pos[msg['Phrase']] = [{\"text\": token.text, \"lemma\": token.lemma_, \"pos\": token.pos_, \"is_stop\": token.is_stop}\n",
        "                                 for token in doc]\n",
        "\n",
        "    doc = spacy_model(msg['Rewrite'])\n",
        "    rewrite2pos[msg['Rewrite']] = [{\"text\": token.text, \"lemma\": token.lemma_, \"pos\": token.pos_, \"is_stop\": token.is_stop}\n",
        "                                   for token in doc]"
      ]
    },
    {
      "cell_type": "code",
      "execution_count": 41,
      "metadata": {
        "id": "TvhodSmGUmPw"
      },
      "outputs": [],
      "source": [
        "row_text_example, res_example = list(phrase2pos.items())[0]"
      ]
    },
    {
      "cell_type": "code",
      "execution_count": 42,
      "metadata": {
        "colab": {
          "base_uri": "https://localhost:8080/",
          "height": 36
        },
        "id": "tCZHwverU2M1",
        "outputId": "ac340b8f-b7a3-46e6-90d4-53520b48a72e"
      },
      "outputs": [
        {
          "data": {
            "application/vnd.google.colaboratory.intrinsic+json": {
              "type": "string"
            },
            "text/plain": [
              "'Что читаешь? Мне нравится классика. Я тоже люблю пообщаться.'"
            ]
          },
          "execution_count": 42,
          "metadata": {},
          "output_type": "execute_result"
        }
      ],
      "source": [
        "row_text_example"
      ]
    },
    {
      "cell_type": "code",
      "execution_count": 43,
      "metadata": {
        "colab": {
          "base_uri": "https://localhost:8080/"
        },
        "id": "WRatfijKU33l",
        "outputId": "e4dc84f8-b8f6-4da0-d0ed-808c6f7f9f52"
      },
      "outputs": [
        {
          "data": {
            "text/plain": [
              "[{'text': 'Что', 'lemma': 'что', 'pos': 'PRON', 'is_stop': True},\n",
              " {'text': 'читаешь', 'lemma': 'читать', 'pos': 'VERB', 'is_stop': False},\n",
              " {'text': '?', 'lemma': '?', 'pos': 'PUNCT', 'is_stop': False},\n",
              " {'text': 'Мне', 'lemma': 'мне', 'pos': 'PRON', 'is_stop': True},\n",
              " {'text': 'нравится', 'lemma': 'нравиться', 'pos': 'VERB', 'is_stop': False},\n",
              " {'text': 'классика', 'lemma': 'классика', 'pos': 'NOUN', 'is_stop': False},\n",
              " {'text': '.', 'lemma': '.', 'pos': 'PUNCT', 'is_stop': False},\n",
              " {'text': 'Я', 'lemma': 'я', 'pos': 'PRON', 'is_stop': True},\n",
              " {'text': 'тоже', 'lemma': 'тоже', 'pos': 'ADV', 'is_stop': True},\n",
              " {'text': 'люблю', 'lemma': 'любить', 'pos': 'VERB', 'is_stop': False},\n",
              " {'text': 'пообщаться',\n",
              "  'lemma': 'пообщаться',\n",
              "  'pos': 'VERB',\n",
              "  'is_stop': False},\n",
              " {'text': '.', 'lemma': '.', 'pos': 'PUNCT', 'is_stop': False}]"
            ]
          },
          "execution_count": 43,
          "metadata": {},
          "output_type": "execute_result"
        }
      ],
      "source": [
        "res_example"
      ]
    },
    {
      "cell_type": "markdown",
      "metadata": {
        "id": "NUGF4UHxVIcS"
      },
      "source": [
        "### most frequent tokens"
      ]
    },
    {
      "cell_type": "code",
      "execution_count": 44,
      "metadata": {
        "id": "TxiTOp6KNLlZ"
      },
      "outputs": [],
      "source": [
        "all_phrase_tokens = [v[\"lemma\"] for v in itertools.chain.from_iterable(phrase2pos.values())\n",
        "                     if not v[\"is_stop\"] and not v[\"pos\"] == \"PUNCT\"]\n",
        "\n",
        "all_rewrite_tokens = [v[\"lemma\"] for v in itertools.chain.from_iterable(rewrite2pos.values())\n",
        "                     if not v[\"is_stop\"] and not v[\"pos\"] == \"PUNCT\"]"
      ]
    },
    {
      "cell_type": "code",
      "execution_count": 45,
      "metadata": {
        "colab": {
          "base_uri": "https://localhost:8080/",
          "height": 1000
        },
        "id": "yWSai9gKLAkh",
        "outputId": "7fe72726-c05f-406b-c9cf-a00e0e5e46db"
      },
      "outputs": [
        {
          "data": {
            "application/vnd.google.colaboratory.intrinsic+json": {
              "summary": "{\n  \"name\": \"frequent_tokens_df\",\n  \"rows\": 5170,\n  \"fields\": [\n    {\n      \"column\": \"lemma\",\n      \"properties\": {\n        \"dtype\": \"string\",\n        \"num_unique_values\": 5170,\n        \"samples\": [\n          \"\\u043f\\u0440\\u043e\\u0446\\u0435\\u0441\\u0441\",\n          \"\\u0431\\u0438\\u043b\\u0435\\u0442\",\n          \"33\"\n        ],\n        \"semantic_type\": \"\",\n        \"description\": \"\"\n      }\n    },\n    {\n      \"column\": \"counts\",\n      \"properties\": {\n        \"dtype\": \"number\",\n        \"std\": 26,\n        \"min\": 1,\n        \"max\": 1320,\n        \"num_unique_values\": 108,\n        \"samples\": [\n          31,\n          177,\n          298\n        ],\n        \"semantic_type\": \"\",\n        \"description\": \"\"\n      }\n    },\n    {\n      \"column\": \"freq\",\n      \"properties\": {\n        \"dtype\": \"number\",\n        \"std\": 0.0009155477696563316,\n        \"min\": 3.4508937814894056e-05,\n        \"max\": 0.04555179791566016,\n        \"num_unique_values\": 108,\n        \"samples\": [\n          0.0010697770722617158,\n          0.006108081993236248,\n          0.010283663468838428\n        ],\n        \"semantic_type\": \"\",\n        \"description\": \"\"\n      }\n    }\n  ]\n}",
              "type": "dataframe",
              "variable_name": "frequent_tokens_df"
            },
            "text/html": [
              "\n",
              "  <div id=\"df-8686f21c-383c-44b2-b746-032d37d529f4\" class=\"colab-df-container\">\n",
              "    <div>\n",
              "<style scoped>\n",
              "    .dataframe tbody tr th:only-of-type {\n",
              "        vertical-align: middle;\n",
              "    }\n",
              "\n",
              "    .dataframe tbody tr th {\n",
              "        vertical-align: top;\n",
              "    }\n",
              "\n",
              "    .dataframe thead th {\n",
              "        text-align: right;\n",
              "    }\n",
              "</style>\n",
              "<table border=\"1\" class=\"dataframe\">\n",
              "  <thead>\n",
              "    <tr style=\"text-align: right;\">\n",
              "      <th></th>\n",
              "      <th>lemma</th>\n",
              "      <th>counts</th>\n",
              "      <th>freq</th>\n",
              "    </tr>\n",
              "  </thead>\n",
              "  <tbody>\n",
              "    <tr>\n",
              "      <th>3</th>\n",
              "      <td>любить</td>\n",
              "      <td>1320</td>\n",
              "      <td>0.045552</td>\n",
              "    </tr>\n",
              "    <tr>\n",
              "      <th>95</th>\n",
              "      <td>-</td>\n",
              "      <td>659</td>\n",
              "      <td>0.022741</td>\n",
              "    </tr>\n",
              "    <tr>\n",
              "      <th>41</th>\n",
              "      <td>работать</td>\n",
              "      <td>461</td>\n",
              "      <td>0.015909</td>\n",
              "    </tr>\n",
              "    <tr>\n",
              "      <th>49</th>\n",
              "      <td>ребёнок</td>\n",
              "      <td>332</td>\n",
              "      <td>0.011457</td>\n",
              "    </tr>\n",
              "    <tr>\n",
              "      <th>134</th>\n",
              "      <td>время</td>\n",
              "      <td>298</td>\n",
              "      <td>0.010284</td>\n",
              "    </tr>\n",
              "    <tr>\n",
              "      <th>7</th>\n",
              "      <td>работа</td>\n",
              "      <td>296</td>\n",
              "      <td>0.010215</td>\n",
              "    </tr>\n",
              "    <tr>\n",
              "      <th>143</th>\n",
              "      <td>заниматься</td>\n",
              "      <td>276</td>\n",
              "      <td>0.009524</td>\n",
              "    </tr>\n",
              "    <tr>\n",
              "      <th>5</th>\n",
              "      <td>животное</td>\n",
              "      <td>232</td>\n",
              "      <td>0.008006</td>\n",
              "    </tr>\n",
              "    <tr>\n",
              "      <th>55</th>\n",
              "      <td>жить</td>\n",
              "      <td>204</td>\n",
              "      <td>0.007040</td>\n",
              "    </tr>\n",
              "    <tr>\n",
              "      <th>140</th>\n",
              "      <td>готовить</td>\n",
              "      <td>185</td>\n",
              "      <td>0.006384</td>\n",
              "    </tr>\n",
              "    <tr>\n",
              "      <th>122</th>\n",
              "      <td>привет</td>\n",
              "      <td>177</td>\n",
              "      <td>0.006108</td>\n",
              "    </tr>\n",
              "    <tr>\n",
              "      <th>135</th>\n",
              "      <td>хобби</td>\n",
              "      <td>175</td>\n",
              "      <td>0.006039</td>\n",
              "    </tr>\n",
              "    <tr>\n",
              "      <th>186</th>\n",
              "      <td>собака</td>\n",
              "      <td>174</td>\n",
              "      <td>0.006005</td>\n",
              "    </tr>\n",
              "    <tr>\n",
              "      <th>45</th>\n",
              "      <td>семья</td>\n",
              "      <td>165</td>\n",
              "      <td>0.005694</td>\n",
              "    </tr>\n",
              "    <tr>\n",
              "      <th>1</th>\n",
              "      <td>нравиться</td>\n",
              "      <td>142</td>\n",
              "      <td>0.004900</td>\n",
              "    </tr>\n",
              "    <tr>\n",
              "      <th>285</th>\n",
              "      <td>свободный</td>\n",
              "      <td>138</td>\n",
              "      <td>0.004762</td>\n",
              "    </tr>\n",
              "    <tr>\n",
              "      <th>488</th>\n",
              "      <td>год</td>\n",
              "      <td>137</td>\n",
              "      <td>0.004728</td>\n",
              "    </tr>\n",
              "    <tr>\n",
              "      <th>6</th>\n",
              "      <td>обожать</td>\n",
              "      <td>137</td>\n",
              "      <td>0.004728</td>\n",
              "    </tr>\n",
              "    <tr>\n",
              "      <th>47</th>\n",
              "      <td>жена</td>\n",
              "      <td>122</td>\n",
              "      <td>0.004210</td>\n",
              "    </tr>\n",
              "    <tr>\n",
              "      <th>335</th>\n",
              "      <td>приятный</td>\n",
              "      <td>120</td>\n",
              "      <td>0.004141</td>\n",
              "    </tr>\n",
              "    <tr>\n",
              "      <th>191</th>\n",
              "      <td>играть</td>\n",
              "      <td>117</td>\n",
              "      <td>0.004038</td>\n",
              "    </tr>\n",
              "    <tr>\n",
              "      <th>9</th>\n",
              "      <td>интересный</td>\n",
              "      <td>116</td>\n",
              "      <td>0.004003</td>\n",
              "    </tr>\n",
              "    <tr>\n",
              "      <th>88</th>\n",
              "      <td>мечтать</td>\n",
              "      <td>113</td>\n",
              "      <td>0.003900</td>\n",
              "    </tr>\n",
              "    <tr>\n",
              "      <th>468</th>\n",
              "      <td>путешествовать</td>\n",
              "      <td>111</td>\n",
              "      <td>0.003830</td>\n",
              "    </tr>\n",
              "    <tr>\n",
              "      <th>743</th>\n",
              "      <td>учиться</td>\n",
              "      <td>110</td>\n",
              "      <td>0.003796</td>\n",
              "    </tr>\n",
              "    <tr>\n",
              "      <th>0</th>\n",
              "      <td>читать</td>\n",
              "      <td>110</td>\n",
              "      <td>0.003796</td>\n",
              "    </tr>\n",
              "    <tr>\n",
              "      <th>303</th>\n",
              "      <td>кошка</td>\n",
              "      <td>109</td>\n",
              "      <td>0.003761</td>\n",
              "    </tr>\n",
              "    <tr>\n",
              "      <th>37</th>\n",
              "      <td>круто</td>\n",
              "      <td>109</td>\n",
              "      <td>0.003761</td>\n",
              "    </tr>\n",
              "    <tr>\n",
              "      <th>123</th>\n",
              "      <td>звать</td>\n",
              "      <td>108</td>\n",
              "      <td>0.003727</td>\n",
              "    </tr>\n",
              "    <tr>\n",
              "      <th>259</th>\n",
              "      <td>дело</td>\n",
              "      <td>108</td>\n",
              "      <td>0.003727</td>\n",
              "    </tr>\n",
              "    <tr>\n",
              "      <th>159</th>\n",
              "      <td>хороший</td>\n",
              "      <td>107</td>\n",
              "      <td>0.003692</td>\n",
              "    </tr>\n",
              "    <tr>\n",
              "      <th>30</th>\n",
              "      <td>увлекаться</td>\n",
              "      <td>105</td>\n",
              "      <td>0.003623</td>\n",
              "    </tr>\n",
              "    <tr>\n",
              "      <th>33</th>\n",
              "      <td>любимый</td>\n",
              "      <td>105</td>\n",
              "      <td>0.003623</td>\n",
              "    </tr>\n",
              "    <tr>\n",
              "      <th>169</th>\n",
              "      <td>город</td>\n",
              "      <td>104</td>\n",
              "      <td>0.003589</td>\n",
              "    </tr>\n",
              "    <tr>\n",
              "      <th>513</th>\n",
              "      <td>жизнь</td>\n",
              "      <td>102</td>\n",
              "      <td>0.003520</td>\n",
              "    </tr>\n",
              "    <tr>\n",
              "      <th>189</th>\n",
              "      <td>какой</td>\n",
              "      <td>102</td>\n",
              "      <td>0.003520</td>\n",
              "    </tr>\n",
              "    <tr>\n",
              "      <th>111</th>\n",
              "      <td>здоровый</td>\n",
              "      <td>101</td>\n",
              "      <td>0.003485</td>\n",
              "    </tr>\n",
              "    <tr>\n",
              "      <th>157</th>\n",
              "      <td>человек</td>\n",
              "      <td>100</td>\n",
              "      <td>0.003451</td>\n",
              "    </tr>\n",
              "    <tr>\n",
              "      <th>64</th>\n",
              "      <td>крутой</td>\n",
              "      <td>98</td>\n",
              "      <td>0.003382</td>\n",
              "    </tr>\n",
              "    <tr>\n",
              "      <th>188</th>\n",
              "      <td>музыка</td>\n",
              "      <td>95</td>\n",
              "      <td>0.003278</td>\n",
              "    </tr>\n",
              "    <tr>\n",
              "      <th>293</th>\n",
              "      <td>школа</td>\n",
              "      <td>95</td>\n",
              "      <td>0.003278</td>\n",
              "    </tr>\n",
              "    <tr>\n",
              "      <th>209</th>\n",
              "      <td>ходить</td>\n",
              "      <td>88</td>\n",
              "      <td>0.003037</td>\n",
              "    </tr>\n",
              "    <tr>\n",
              "      <th>412</th>\n",
              "      <td>спорт</td>\n",
              "      <td>87</td>\n",
              "      <td>0.003002</td>\n",
              "    </tr>\n",
              "    <tr>\n",
              "      <th>430</th>\n",
              "      <td>знать</td>\n",
              "      <td>86</td>\n",
              "      <td>0.002968</td>\n",
              "    </tr>\n",
              "    <tr>\n",
              "      <th>536</th>\n",
              "      <td>кот</td>\n",
              "      <td>86</td>\n",
              "      <td>0.002968</td>\n",
              "    </tr>\n",
              "    <tr>\n",
              "      <th>107</th>\n",
              "      <td>дом</td>\n",
              "      <td>85</td>\n",
              "      <td>0.002933</td>\n",
              "    </tr>\n",
              "    <tr>\n",
              "      <th>148</th>\n",
              "      <td>делать</td>\n",
              "      <td>84</td>\n",
              "      <td>0.002899</td>\n",
              "    </tr>\n",
              "    <tr>\n",
              "      <th>254</th>\n",
              "      <td>муж</td>\n",
              "      <td>82</td>\n",
              "      <td>0.002830</td>\n",
              "    </tr>\n",
              "    <tr>\n",
              "      <th>248</th>\n",
              "      <td>сын</td>\n",
              "      <td>80</td>\n",
              "      <td>0.002761</td>\n",
              "    </tr>\n",
              "    <tr>\n",
              "      <th>82</th>\n",
              "      <td>думать</td>\n",
              "      <td>79</td>\n",
              "      <td>0.002726</td>\n",
              "    </tr>\n",
              "  </tbody>\n",
              "</table>\n",
              "</div>\n",
              "    <div class=\"colab-df-buttons\">\n",
              "\n",
              "  <div class=\"colab-df-container\">\n",
              "    <button class=\"colab-df-convert\" onclick=\"convertToInteractive('df-8686f21c-383c-44b2-b746-032d37d529f4')\"\n",
              "            title=\"Convert this dataframe to an interactive table.\"\n",
              "            style=\"display:none;\">\n",
              "\n",
              "  <svg xmlns=\"http://www.w3.org/2000/svg\" height=\"24px\" viewBox=\"0 -960 960 960\">\n",
              "    <path d=\"M120-120v-720h720v720H120Zm60-500h600v-160H180v160Zm220 220h160v-160H400v160Zm0 220h160v-160H400v160ZM180-400h160v-160H180v160Zm440 0h160v-160H620v160ZM180-180h160v-160H180v160Zm440 0h160v-160H620v160Z\"/>\n",
              "  </svg>\n",
              "    </button>\n",
              "\n",
              "  <style>\n",
              "    .colab-df-container {\n",
              "      display:flex;\n",
              "      gap: 12px;\n",
              "    }\n",
              "\n",
              "    .colab-df-convert {\n",
              "      background-color: #E8F0FE;\n",
              "      border: none;\n",
              "      border-radius: 50%;\n",
              "      cursor: pointer;\n",
              "      display: none;\n",
              "      fill: #1967D2;\n",
              "      height: 32px;\n",
              "      padding: 0 0 0 0;\n",
              "      width: 32px;\n",
              "    }\n",
              "\n",
              "    .colab-df-convert:hover {\n",
              "      background-color: #E2EBFA;\n",
              "      box-shadow: 0px 1px 2px rgba(60, 64, 67, 0.3), 0px 1px 3px 1px rgba(60, 64, 67, 0.15);\n",
              "      fill: #174EA6;\n",
              "    }\n",
              "\n",
              "    .colab-df-buttons div {\n",
              "      margin-bottom: 4px;\n",
              "    }\n",
              "\n",
              "    [theme=dark] .colab-df-convert {\n",
              "      background-color: #3B4455;\n",
              "      fill: #D2E3FC;\n",
              "    }\n",
              "\n",
              "    [theme=dark] .colab-df-convert:hover {\n",
              "      background-color: #434B5C;\n",
              "      box-shadow: 0px 1px 3px 1px rgba(0, 0, 0, 0.15);\n",
              "      filter: drop-shadow(0px 1px 2px rgba(0, 0, 0, 0.3));\n",
              "      fill: #FFFFFF;\n",
              "    }\n",
              "  </style>\n",
              "\n",
              "    <script>\n",
              "      const buttonEl =\n",
              "        document.querySelector('#df-8686f21c-383c-44b2-b746-032d37d529f4 button.colab-df-convert');\n",
              "      buttonEl.style.display =\n",
              "        google.colab.kernel.accessAllowed ? 'block' : 'none';\n",
              "\n",
              "      async function convertToInteractive(key) {\n",
              "        const element = document.querySelector('#df-8686f21c-383c-44b2-b746-032d37d529f4');\n",
              "        const dataTable =\n",
              "          await google.colab.kernel.invokeFunction('convertToInteractive',\n",
              "                                                    [key], {});\n",
              "        if (!dataTable) return;\n",
              "\n",
              "        const docLinkHtml = 'Like what you see? Visit the ' +\n",
              "          '<a target=\"_blank\" href=https://colab.research.google.com/notebooks/data_table.ipynb>data table notebook</a>'\n",
              "          + ' to learn more about interactive tables.';\n",
              "        element.innerHTML = '';\n",
              "        dataTable['output_type'] = 'display_data';\n",
              "        await google.colab.output.renderOutput(dataTable, element);\n",
              "        const docLink = document.createElement('div');\n",
              "        docLink.innerHTML = docLinkHtml;\n",
              "        element.appendChild(docLink);\n",
              "      }\n",
              "    </script>\n",
              "  </div>\n",
              "\n",
              "\n",
              "    <div id=\"df-2962a019-a73f-4950-9c42-97ef52e53f49\">\n",
              "      <button class=\"colab-df-quickchart\" onclick=\"quickchart('df-2962a019-a73f-4950-9c42-97ef52e53f49')\"\n",
              "                title=\"Suggest charts\"\n",
              "                style=\"display:none;\">\n",
              "\n",
              "<svg xmlns=\"http://www.w3.org/2000/svg\" height=\"24px\"viewBox=\"0 0 24 24\"\n",
              "     width=\"24px\">\n",
              "    <g>\n",
              "        <path d=\"M19 3H5c-1.1 0-2 .9-2 2v14c0 1.1.9 2 2 2h14c1.1 0 2-.9 2-2V5c0-1.1-.9-2-2-2zM9 17H7v-7h2v7zm4 0h-2V7h2v10zm4 0h-2v-4h2v4z\"/>\n",
              "    </g>\n",
              "</svg>\n",
              "      </button>\n",
              "\n",
              "<style>\n",
              "  .colab-df-quickchart {\n",
              "      --bg-color: #E8F0FE;\n",
              "      --fill-color: #1967D2;\n",
              "      --hover-bg-color: #E2EBFA;\n",
              "      --hover-fill-color: #174EA6;\n",
              "      --disabled-fill-color: #AAA;\n",
              "      --disabled-bg-color: #DDD;\n",
              "  }\n",
              "\n",
              "  [theme=dark] .colab-df-quickchart {\n",
              "      --bg-color: #3B4455;\n",
              "      --fill-color: #D2E3FC;\n",
              "      --hover-bg-color: #434B5C;\n",
              "      --hover-fill-color: #FFFFFF;\n",
              "      --disabled-bg-color: #3B4455;\n",
              "      --disabled-fill-color: #666;\n",
              "  }\n",
              "\n",
              "  .colab-df-quickchart {\n",
              "    background-color: var(--bg-color);\n",
              "    border: none;\n",
              "    border-radius: 50%;\n",
              "    cursor: pointer;\n",
              "    display: none;\n",
              "    fill: var(--fill-color);\n",
              "    height: 32px;\n",
              "    padding: 0;\n",
              "    width: 32px;\n",
              "  }\n",
              "\n",
              "  .colab-df-quickchart:hover {\n",
              "    background-color: var(--hover-bg-color);\n",
              "    box-shadow: 0 1px 2px rgba(60, 64, 67, 0.3), 0 1px 3px 1px rgba(60, 64, 67, 0.15);\n",
              "    fill: var(--button-hover-fill-color);\n",
              "  }\n",
              "\n",
              "  .colab-df-quickchart-complete:disabled,\n",
              "  .colab-df-quickchart-complete:disabled:hover {\n",
              "    background-color: var(--disabled-bg-color);\n",
              "    fill: var(--disabled-fill-color);\n",
              "    box-shadow: none;\n",
              "  }\n",
              "\n",
              "  .colab-df-spinner {\n",
              "    border: 2px solid var(--fill-color);\n",
              "    border-color: transparent;\n",
              "    border-bottom-color: var(--fill-color);\n",
              "    animation:\n",
              "      spin 1s steps(1) infinite;\n",
              "  }\n",
              "\n",
              "  @keyframes spin {\n",
              "    0% {\n",
              "      border-color: transparent;\n",
              "      border-bottom-color: var(--fill-color);\n",
              "      border-left-color: var(--fill-color);\n",
              "    }\n",
              "    20% {\n",
              "      border-color: transparent;\n",
              "      border-left-color: var(--fill-color);\n",
              "      border-top-color: var(--fill-color);\n",
              "    }\n",
              "    30% {\n",
              "      border-color: transparent;\n",
              "      border-left-color: var(--fill-color);\n",
              "      border-top-color: var(--fill-color);\n",
              "      border-right-color: var(--fill-color);\n",
              "    }\n",
              "    40% {\n",
              "      border-color: transparent;\n",
              "      border-right-color: var(--fill-color);\n",
              "      border-top-color: var(--fill-color);\n",
              "    }\n",
              "    60% {\n",
              "      border-color: transparent;\n",
              "      border-right-color: var(--fill-color);\n",
              "    }\n",
              "    80% {\n",
              "      border-color: transparent;\n",
              "      border-right-color: var(--fill-color);\n",
              "      border-bottom-color: var(--fill-color);\n",
              "    }\n",
              "    90% {\n",
              "      border-color: transparent;\n",
              "      border-bottom-color: var(--fill-color);\n",
              "    }\n",
              "  }\n",
              "</style>\n",
              "\n",
              "      <script>\n",
              "        async function quickchart(key) {\n",
              "          const quickchartButtonEl =\n",
              "            document.querySelector('#' + key + ' button');\n",
              "          quickchartButtonEl.disabled = true;  // To prevent multiple clicks.\n",
              "          quickchartButtonEl.classList.add('colab-df-spinner');\n",
              "          try {\n",
              "            const charts = await google.colab.kernel.invokeFunction(\n",
              "                'suggestCharts', [key], {});\n",
              "          } catch (error) {\n",
              "            console.error('Error during call to suggestCharts:', error);\n",
              "          }\n",
              "          quickchartButtonEl.classList.remove('colab-df-spinner');\n",
              "          quickchartButtonEl.classList.add('colab-df-quickchart-complete');\n",
              "        }\n",
              "        (() => {\n",
              "          let quickchartButtonEl =\n",
              "            document.querySelector('#df-2962a019-a73f-4950-9c42-97ef52e53f49 button');\n",
              "          quickchartButtonEl.style.display =\n",
              "            google.colab.kernel.accessAllowed ? 'block' : 'none';\n",
              "        })();\n",
              "      </script>\n",
              "    </div>\n",
              "    </div>\n",
              "  </div>\n"
            ],
            "text/plain": [
              "              lemma  counts      freq\n",
              "3            любить    1320  0.045552\n",
              "95                -     659  0.022741\n",
              "41         работать     461  0.015909\n",
              "49          ребёнок     332  0.011457\n",
              "134           время     298  0.010284\n",
              "7            работа     296  0.010215\n",
              "143      заниматься     276  0.009524\n",
              "5          животное     232  0.008006\n",
              "55             жить     204  0.007040\n",
              "140        готовить     185  0.006384\n",
              "122          привет     177  0.006108\n",
              "135           хобби     175  0.006039\n",
              "186          собака     174  0.006005\n",
              "45            семья     165  0.005694\n",
              "1         нравиться     142  0.004900\n",
              "285       свободный     138  0.004762\n",
              "488             год     137  0.004728\n",
              "6           обожать     137  0.004728\n",
              "47             жена     122  0.004210\n",
              "335        приятный     120  0.004141\n",
              "191          играть     117  0.004038\n",
              "9        интересный     116  0.004003\n",
              "88          мечтать     113  0.003900\n",
              "468  путешествовать     111  0.003830\n",
              "743         учиться     110  0.003796\n",
              "0            читать     110  0.003796\n",
              "303           кошка     109  0.003761\n",
              "37            круто     109  0.003761\n",
              "123           звать     108  0.003727\n",
              "259            дело     108  0.003727\n",
              "159         хороший     107  0.003692\n",
              "30       увлекаться     105  0.003623\n",
              "33          любимый     105  0.003623\n",
              "169           город     104  0.003589\n",
              "513           жизнь     102  0.003520\n",
              "189           какой     102  0.003520\n",
              "111        здоровый     101  0.003485\n",
              "157         человек     100  0.003451\n",
              "64           крутой      98  0.003382\n",
              "188          музыка      95  0.003278\n",
              "293           школа      95  0.003278\n",
              "209          ходить      88  0.003037\n",
              "412           спорт      87  0.003002\n",
              "430           знать      86  0.002968\n",
              "536             кот      86  0.002968\n",
              "107             дом      85  0.002933\n",
              "148          делать      84  0.002899\n",
              "254             муж      82  0.002830\n",
              "248             сын      80  0.002761\n",
              "82           думать      79  0.002726"
            ]
          },
          "execution_count": 45,
          "metadata": {},
          "output_type": "execute_result"
        }
      ],
      "source": [
        "frequent_tokens_df = pd.DataFrame(Counter(all_phrase_tokens).items()).rename(columns={0: \"lemma\", 1: \"counts\"})\n",
        "frequent_tokens_df = frequent_tokens_df.sort_values(by=\"counts\", ascending=False)\n",
        "frequent_tokens_df[\"freq\"] = frequent_tokens_df.counts / frequent_tokens_df.counts.sum()\n",
        "frequent_tokens_df.head(50)"
      ]
    },
    {
      "cell_type": "code",
      "execution_count": 46,
      "metadata": {
        "colab": {
          "base_uri": "https://localhost:8080/",
          "height": 833
        },
        "id": "kPkjLSp7SeOc",
        "outputId": "4f3b732b-dd04-404d-be95-65df03e09041"
      },
      "outputs": [
        {
          "data": {
            "application/vnd.google.colaboratory.intrinsic+json": {
              "summary": "{\n  \"name\": \"frequent_tokens_df\",\n  \"rows\": 5441,\n  \"fields\": [\n    {\n      \"column\": \"lemma\",\n      \"properties\": {\n        \"dtype\": \"string\",\n        \"num_unique_values\": 5441,\n        \"samples\": [\n          \"50\",\n          \"\\u043f\\u043e\\u0437\\u0430\\u0432\\u0438\\u0434\\u043e\\u0432\\u0430\\u0442\\u044c\",\n          \"\\u0441\\u043d\\u0438\\u043c\\u0430\\u0442\\u044c\"\n        ],\n        \"semantic_type\": \"\",\n        \"description\": \"\"\n      }\n    },\n    {\n      \"column\": \"counts\",\n      \"properties\": {\n        \"dtype\": \"number\",\n        \"std\": 36,\n        \"min\": 1,\n        \"max\": 1774,\n        \"num_unique_values\": 129,\n        \"samples\": [\n          78,\n          112,\n          169\n        ],\n        \"semantic_type\": \"\",\n        \"description\": \"\"\n      }\n    },\n    {\n      \"column\": \"freq\",\n      \"properties\": {\n        \"dtype\": \"number\",\n        \"std\": 0.0009419950181742271,\n        \"min\": 2.6095352417734403e-05,\n        \"max\": 0.046293155189060825,\n        \"num_unique_values\": 129,\n        \"samples\": [\n          0.0020354374885832834,\n          0.002922679470786253,\n          0.004410114558597114\n        ],\n        \"semantic_type\": \"\",\n        \"description\": \"\"\n      }\n    }\n  ]\n}",
              "type": "dataframe",
              "variable_name": "frequent_tokens_df"
            },
            "text/html": [
              "\n",
              "  <div id=\"df-4398c269-283e-4e95-b881-9e5f54d22968\" class=\"colab-df-container\">\n",
              "    <div>\n",
              "<style scoped>\n",
              "    .dataframe tbody tr th:only-of-type {\n",
              "        vertical-align: middle;\n",
              "    }\n",
              "\n",
              "    .dataframe tbody tr th {\n",
              "        vertical-align: top;\n",
              "    }\n",
              "\n",
              "    .dataframe thead th {\n",
              "        text-align: right;\n",
              "    }\n",
              "</style>\n",
              "<table border=\"1\" class=\"dataframe\">\n",
              "  <thead>\n",
              "    <tr style=\"text-align: right;\">\n",
              "      <th></th>\n",
              "      <th>lemma</th>\n",
              "      <th>counts</th>\n",
              "      <th>freq</th>\n",
              "    </tr>\n",
              "  </thead>\n",
              "  <tbody>\n",
              "    <tr>\n",
              "      <th>3</th>\n",
              "      <td>любить</td>\n",
              "      <td>1774</td>\n",
              "      <td>0.046293</td>\n",
              "    </tr>\n",
              "    <tr>\n",
              "      <th>107</th>\n",
              "      <td>-</td>\n",
              "      <td>809</td>\n",
              "      <td>0.021111</td>\n",
              "    </tr>\n",
              "    <tr>\n",
              "      <th>50</th>\n",
              "      <td>работать</td>\n",
              "      <td>724</td>\n",
              "      <td>0.018893</td>\n",
              "    </tr>\n",
              "    <tr>\n",
              "      <th>58</th>\n",
              "      <td>ребёнок</td>\n",
              "      <td>576</td>\n",
              "      <td>0.015031</td>\n",
              "    </tr>\n",
              "    <tr>\n",
              "      <th>25</th>\n",
              "      <td>заниматься</td>\n",
              "      <td>489</td>\n",
              "      <td>0.012761</td>\n",
              "    </tr>\n",
              "    <tr>\n",
              "      <th>5</th>\n",
              "      <td>животное</td>\n",
              "      <td>417</td>\n",
              "      <td>0.010882</td>\n",
              "    </tr>\n",
              "    <tr>\n",
              "      <th>7</th>\n",
              "      <td>работа</td>\n",
              "      <td>382</td>\n",
              "      <td>0.009968</td>\n",
              "    </tr>\n",
              "    <tr>\n",
              "      <th>148</th>\n",
              "      <td>время</td>\n",
              "      <td>345</td>\n",
              "      <td>0.009003</td>\n",
              "    </tr>\n",
              "    <tr>\n",
              "      <th>34</th>\n",
              "      <td>дело</td>\n",
              "      <td>337</td>\n",
              "      <td>0.008794</td>\n",
              "    </tr>\n",
              "    <tr>\n",
              "      <th>66</th>\n",
              "      <td>жить</td>\n",
              "      <td>306</td>\n",
              "      <td>0.007985</td>\n",
              "    </tr>\n",
              "    <tr>\n",
              "      <th>136</th>\n",
              "      <td>звать</td>\n",
              "      <td>305</td>\n",
              "      <td>0.007959</td>\n",
              "    </tr>\n",
              "    <tr>\n",
              "      <th>49</th>\n",
              "      <td>год</td>\n",
              "      <td>280</td>\n",
              "      <td>0.007307</td>\n",
              "    </tr>\n",
              "    <tr>\n",
              "      <th>204</th>\n",
              "      <td>собака</td>\n",
              "      <td>280</td>\n",
              "      <td>0.007307</td>\n",
              "    </tr>\n",
              "    <tr>\n",
              "      <th>44</th>\n",
              "      <td>готовить</td>\n",
              "      <td>266</td>\n",
              "      <td>0.006941</td>\n",
              "    </tr>\n",
              "    <tr>\n",
              "      <th>149</th>\n",
              "      <td>хобби</td>\n",
              "      <td>259</td>\n",
              "      <td>0.006759</td>\n",
              "    </tr>\n",
              "    <tr>\n",
              "      <th>54</th>\n",
              "      <td>семья</td>\n",
              "      <td>249</td>\n",
              "      <td>0.006498</td>\n",
              "    </tr>\n",
              "    <tr>\n",
              "      <th>1</th>\n",
              "      <td>нравиться</td>\n",
              "      <td>188</td>\n",
              "      <td>0.004906</td>\n",
              "    </tr>\n",
              "    <tr>\n",
              "      <th>327</th>\n",
              "      <td>кошка</td>\n",
              "      <td>183</td>\n",
              "      <td>0.004775</td>\n",
              "    </tr>\n",
              "    <tr>\n",
              "      <th>135</th>\n",
              "      <td>привет</td>\n",
              "      <td>176</td>\n",
              "      <td>0.004593</td>\n",
              "    </tr>\n",
              "    <tr>\n",
              "      <th>209</th>\n",
              "      <td>играть</td>\n",
              "      <td>175</td>\n",
              "      <td>0.004567</td>\n",
              "    </tr>\n",
              "    <tr>\n",
              "      <th>499</th>\n",
              "      <td>путешествовать</td>\n",
              "      <td>169</td>\n",
              "      <td>0.004410</td>\n",
              "    </tr>\n",
              "    <tr>\n",
              "      <th>56</th>\n",
              "      <td>жена</td>\n",
              "      <td>166</td>\n",
              "      <td>0.004332</td>\n",
              "    </tr>\n",
              "    <tr>\n",
              "      <th>306</th>\n",
              "      <td>свободный</td>\n",
              "      <td>166</td>\n",
              "      <td>0.004332</td>\n",
              "    </tr>\n",
              "    <tr>\n",
              "      <th>35</th>\n",
              "      <td>увлекаться</td>\n",
              "      <td>160</td>\n",
              "      <td>0.004175</td>\n",
              "    </tr>\n",
              "    <tr>\n",
              "      <th>797</th>\n",
              "      <td>учиться</td>\n",
              "      <td>160</td>\n",
              "      <td>0.004175</td>\n",
              "    </tr>\n",
              "  </tbody>\n",
              "</table>\n",
              "</div>\n",
              "    <div class=\"colab-df-buttons\">\n",
              "\n",
              "  <div class=\"colab-df-container\">\n",
              "    <button class=\"colab-df-convert\" onclick=\"convertToInteractive('df-4398c269-283e-4e95-b881-9e5f54d22968')\"\n",
              "            title=\"Convert this dataframe to an interactive table.\"\n",
              "            style=\"display:none;\">\n",
              "\n",
              "  <svg xmlns=\"http://www.w3.org/2000/svg\" height=\"24px\" viewBox=\"0 -960 960 960\">\n",
              "    <path d=\"M120-120v-720h720v720H120Zm60-500h600v-160H180v160Zm220 220h160v-160H400v160Zm0 220h160v-160H400v160ZM180-400h160v-160H180v160Zm440 0h160v-160H620v160ZM180-180h160v-160H180v160Zm440 0h160v-160H620v160Z\"/>\n",
              "  </svg>\n",
              "    </button>\n",
              "\n",
              "  <style>\n",
              "    .colab-df-container {\n",
              "      display:flex;\n",
              "      gap: 12px;\n",
              "    }\n",
              "\n",
              "    .colab-df-convert {\n",
              "      background-color: #E8F0FE;\n",
              "      border: none;\n",
              "      border-radius: 50%;\n",
              "      cursor: pointer;\n",
              "      display: none;\n",
              "      fill: #1967D2;\n",
              "      height: 32px;\n",
              "      padding: 0 0 0 0;\n",
              "      width: 32px;\n",
              "    }\n",
              "\n",
              "    .colab-df-convert:hover {\n",
              "      background-color: #E2EBFA;\n",
              "      box-shadow: 0px 1px 2px rgba(60, 64, 67, 0.3), 0px 1px 3px 1px rgba(60, 64, 67, 0.15);\n",
              "      fill: #174EA6;\n",
              "    }\n",
              "\n",
              "    .colab-df-buttons div {\n",
              "      margin-bottom: 4px;\n",
              "    }\n",
              "\n",
              "    [theme=dark] .colab-df-convert {\n",
              "      background-color: #3B4455;\n",
              "      fill: #D2E3FC;\n",
              "    }\n",
              "\n",
              "    [theme=dark] .colab-df-convert:hover {\n",
              "      background-color: #434B5C;\n",
              "      box-shadow: 0px 1px 3px 1px rgba(0, 0, 0, 0.15);\n",
              "      filter: drop-shadow(0px 1px 2px rgba(0, 0, 0, 0.3));\n",
              "      fill: #FFFFFF;\n",
              "    }\n",
              "  </style>\n",
              "\n",
              "    <script>\n",
              "      const buttonEl =\n",
              "        document.querySelector('#df-4398c269-283e-4e95-b881-9e5f54d22968 button.colab-df-convert');\n",
              "      buttonEl.style.display =\n",
              "        google.colab.kernel.accessAllowed ? 'block' : 'none';\n",
              "\n",
              "      async function convertToInteractive(key) {\n",
              "        const element = document.querySelector('#df-4398c269-283e-4e95-b881-9e5f54d22968');\n",
              "        const dataTable =\n",
              "          await google.colab.kernel.invokeFunction('convertToInteractive',\n",
              "                                                    [key], {});\n",
              "        if (!dataTable) return;\n",
              "\n",
              "        const docLinkHtml = 'Like what you see? Visit the ' +\n",
              "          '<a target=\"_blank\" href=https://colab.research.google.com/notebooks/data_table.ipynb>data table notebook</a>'\n",
              "          + ' to learn more about interactive tables.';\n",
              "        element.innerHTML = '';\n",
              "        dataTable['output_type'] = 'display_data';\n",
              "        await google.colab.output.renderOutput(dataTable, element);\n",
              "        const docLink = document.createElement('div');\n",
              "        docLink.innerHTML = docLinkHtml;\n",
              "        element.appendChild(docLink);\n",
              "      }\n",
              "    </script>\n",
              "  </div>\n",
              "\n",
              "\n",
              "    <div id=\"df-0001bdb7-2017-4346-8e3b-92290034ff66\">\n",
              "      <button class=\"colab-df-quickchart\" onclick=\"quickchart('df-0001bdb7-2017-4346-8e3b-92290034ff66')\"\n",
              "                title=\"Suggest charts\"\n",
              "                style=\"display:none;\">\n",
              "\n",
              "<svg xmlns=\"http://www.w3.org/2000/svg\" height=\"24px\"viewBox=\"0 0 24 24\"\n",
              "     width=\"24px\">\n",
              "    <g>\n",
              "        <path d=\"M19 3H5c-1.1 0-2 .9-2 2v14c0 1.1.9 2 2 2h14c1.1 0 2-.9 2-2V5c0-1.1-.9-2-2-2zM9 17H7v-7h2v7zm4 0h-2V7h2v10zm4 0h-2v-4h2v4z\"/>\n",
              "    </g>\n",
              "</svg>\n",
              "      </button>\n",
              "\n",
              "<style>\n",
              "  .colab-df-quickchart {\n",
              "      --bg-color: #E8F0FE;\n",
              "      --fill-color: #1967D2;\n",
              "      --hover-bg-color: #E2EBFA;\n",
              "      --hover-fill-color: #174EA6;\n",
              "      --disabled-fill-color: #AAA;\n",
              "      --disabled-bg-color: #DDD;\n",
              "  }\n",
              "\n",
              "  [theme=dark] .colab-df-quickchart {\n",
              "      --bg-color: #3B4455;\n",
              "      --fill-color: #D2E3FC;\n",
              "      --hover-bg-color: #434B5C;\n",
              "      --hover-fill-color: #FFFFFF;\n",
              "      --disabled-bg-color: #3B4455;\n",
              "      --disabled-fill-color: #666;\n",
              "  }\n",
              "\n",
              "  .colab-df-quickchart {\n",
              "    background-color: var(--bg-color);\n",
              "    border: none;\n",
              "    border-radius: 50%;\n",
              "    cursor: pointer;\n",
              "    display: none;\n",
              "    fill: var(--fill-color);\n",
              "    height: 32px;\n",
              "    padding: 0;\n",
              "    width: 32px;\n",
              "  }\n",
              "\n",
              "  .colab-df-quickchart:hover {\n",
              "    background-color: var(--hover-bg-color);\n",
              "    box-shadow: 0 1px 2px rgba(60, 64, 67, 0.3), 0 1px 3px 1px rgba(60, 64, 67, 0.15);\n",
              "    fill: var(--button-hover-fill-color);\n",
              "  }\n",
              "\n",
              "  .colab-df-quickchart-complete:disabled,\n",
              "  .colab-df-quickchart-complete:disabled:hover {\n",
              "    background-color: var(--disabled-bg-color);\n",
              "    fill: var(--disabled-fill-color);\n",
              "    box-shadow: none;\n",
              "  }\n",
              "\n",
              "  .colab-df-spinner {\n",
              "    border: 2px solid var(--fill-color);\n",
              "    border-color: transparent;\n",
              "    border-bottom-color: var(--fill-color);\n",
              "    animation:\n",
              "      spin 1s steps(1) infinite;\n",
              "  }\n",
              "\n",
              "  @keyframes spin {\n",
              "    0% {\n",
              "      border-color: transparent;\n",
              "      border-bottom-color: var(--fill-color);\n",
              "      border-left-color: var(--fill-color);\n",
              "    }\n",
              "    20% {\n",
              "      border-color: transparent;\n",
              "      border-left-color: var(--fill-color);\n",
              "      border-top-color: var(--fill-color);\n",
              "    }\n",
              "    30% {\n",
              "      border-color: transparent;\n",
              "      border-left-color: var(--fill-color);\n",
              "      border-top-color: var(--fill-color);\n",
              "      border-right-color: var(--fill-color);\n",
              "    }\n",
              "    40% {\n",
              "      border-color: transparent;\n",
              "      border-right-color: var(--fill-color);\n",
              "      border-top-color: var(--fill-color);\n",
              "    }\n",
              "    60% {\n",
              "      border-color: transparent;\n",
              "      border-right-color: var(--fill-color);\n",
              "    }\n",
              "    80% {\n",
              "      border-color: transparent;\n",
              "      border-right-color: var(--fill-color);\n",
              "      border-bottom-color: var(--fill-color);\n",
              "    }\n",
              "    90% {\n",
              "      border-color: transparent;\n",
              "      border-bottom-color: var(--fill-color);\n",
              "    }\n",
              "  }\n",
              "</style>\n",
              "\n",
              "      <script>\n",
              "        async function quickchart(key) {\n",
              "          const quickchartButtonEl =\n",
              "            document.querySelector('#' + key + ' button');\n",
              "          quickchartButtonEl.disabled = true;  // To prevent multiple clicks.\n",
              "          quickchartButtonEl.classList.add('colab-df-spinner');\n",
              "          try {\n",
              "            const charts = await google.colab.kernel.invokeFunction(\n",
              "                'suggestCharts', [key], {});\n",
              "          } catch (error) {\n",
              "            console.error('Error during call to suggestCharts:', error);\n",
              "          }\n",
              "          quickchartButtonEl.classList.remove('colab-df-spinner');\n",
              "          quickchartButtonEl.classList.add('colab-df-quickchart-complete');\n",
              "        }\n",
              "        (() => {\n",
              "          let quickchartButtonEl =\n",
              "            document.querySelector('#df-0001bdb7-2017-4346-8e3b-92290034ff66 button');\n",
              "          quickchartButtonEl.style.display =\n",
              "            google.colab.kernel.accessAllowed ? 'block' : 'none';\n",
              "        })();\n",
              "      </script>\n",
              "    </div>\n",
              "    </div>\n",
              "  </div>\n"
            ],
            "text/plain": [
              "              lemma  counts      freq\n",
              "3            любить    1774  0.046293\n",
              "107               -     809  0.021111\n",
              "50         работать     724  0.018893\n",
              "58          ребёнок     576  0.015031\n",
              "25       заниматься     489  0.012761\n",
              "5          животное     417  0.010882\n",
              "7            работа     382  0.009968\n",
              "148           время     345  0.009003\n",
              "34             дело     337  0.008794\n",
              "66             жить     306  0.007985\n",
              "136           звать     305  0.007959\n",
              "49              год     280  0.007307\n",
              "204          собака     280  0.007307\n",
              "44         готовить     266  0.006941\n",
              "149           хобби     259  0.006759\n",
              "54            семья     249  0.006498\n",
              "1         нравиться     188  0.004906\n",
              "327           кошка     183  0.004775\n",
              "135          привет     176  0.004593\n",
              "209          играть     175  0.004567\n",
              "499  путешествовать     169  0.004410\n",
              "56             жена     166  0.004332\n",
              "306       свободный     166  0.004332\n",
              "35       увлекаться     160  0.004175\n",
              "797         учиться     160  0.004175"
            ]
          },
          "execution_count": 46,
          "metadata": {},
          "output_type": "execute_result"
        }
      ],
      "source": [
        "frequent_tokens_df = pd.DataFrame(Counter(all_rewrite_tokens).items()).rename(columns={0: \"lemma\", 1: \"counts\"})\n",
        "frequent_tokens_df = frequent_tokens_df.sort_values(by=\"counts\", ascending=False)\n",
        "frequent_tokens_df[\"freq\"] = frequent_tokens_df.counts / frequent_tokens_df.counts.sum()\n",
        "frequent_tokens_df.head(25)"
      ]
    },
    {
      "cell_type": "markdown",
      "metadata": {
        "id": "UDm-VtqZYHwH"
      },
      "source": [
        "### PoS distribution"
      ]
    },
    {
      "cell_type": "code",
      "execution_count": 47,
      "metadata": {
        "id": "taUXXcgCcSDt"
      },
      "outputs": [],
      "source": [
        "phrase_pos = pd.DataFrame(Counter([v[\"pos\"] for v in itertools.chain.from_iterable(phrase2pos.values()) if v[\"pos\"] != \"PUNCT\" ]).items())\n",
        "phrase_pos.rename(columns={0: \"pos\", 1: \"count_original\"}, inplace=True)\n",
        "phrase_pos[\"freq_original\"] = phrase_pos.count_original / phrase_pos.count_original.sum()"
      ]
    },
    {
      "cell_type": "code",
      "execution_count": 48,
      "metadata": {
        "id": "Lmkq9afNcNMx"
      },
      "outputs": [],
      "source": [
        "rewrite_pos = pd.DataFrame(Counter([v[\"pos\"] for v in itertools.chain.from_iterable(rewrite2pos.values())  if v[\"pos\"] != \"PUNCT\" ]).items())\n",
        "rewrite_pos.rename(columns={0: \"pos\", 1: \"count_rewritten\"}, inplace=True)\n",
        "rewrite_pos[\"freq_rewritten\"] = rewrite_pos.count_rewritten / rewrite_pos.count_rewritten.sum()"
      ]
    },
    {
      "cell_type": "code",
      "execution_count": 49,
      "metadata": {
        "id": "XbnSnL7ECDtz"
      },
      "outputs": [],
      "source": [
        "phrase_pos = phrase_pos[phrase_pos.pos.map(lambda x: x  not in [\"SPACE\", \"X\", \"SYM\"])]\n",
        "rewrite_pos = rewrite_pos[rewrite_pos.pos.map(lambda x: x  not in [\"SPACE\", \"X\", \"SYM\"])]"
      ]
    },
    {
      "cell_type": "code",
      "execution_count": 50,
      "metadata": {
        "id": "IFKlHDREe7WZ"
      },
      "outputs": [],
      "source": [
        "res  = phrase_pos.set_index(\"pos\").join(rewrite_pos.set_index(\"pos\"), how=\"left\"\n",
        "    ).sort_values(by=\"count_original\", ascending=False)"
      ]
    },
    {
      "cell_type": "code",
      "execution_count": 51,
      "metadata": {
        "colab": {
          "base_uri": "https://localhost:8080/",
          "height": 519
        },
        "id": "Tdrl8j2cC7sO",
        "outputId": "9b490d9e-3335-4763-c8d6-682f86cf81d9"
      },
      "outputs": [
        {
          "data": {
            "application/vnd.google.colaboratory.intrinsic+json": {
              "summary": "{\n  \"name\": \"res\",\n  \"rows\": 14,\n  \"fields\": [\n    {\n      \"column\": \"pos\",\n      \"properties\": {\n        \"dtype\": \"string\",\n        \"num_unique_values\": 14,\n        \"samples\": [\n          \"DET\",\n          \"NUM\",\n          \"NOUN\"\n        ],\n        \"semantic_type\": \"\",\n        \"description\": \"\"\n      }\n    },\n    {\n      \"column\": \"count_original\",\n      \"properties\": {\n        \"dtype\": \"number\",\n        \"std\": 4026,\n        \"min\": 262,\n        \"max\": 12490,\n        \"num_unique_values\": 14,\n        \"samples\": [\n          1564,\n          759,\n          12490\n        ],\n        \"semantic_type\": \"\",\n        \"description\": \"\"\n      }\n    },\n    {\n      \"column\": \"freq_original\",\n      \"properties\": {\n        \"dtype\": \"number\",\n        \"std\": 6.4703800608517685,\n        \"min\": 0.42,\n        \"max\": 20.07,\n        \"num_unique_values\": 14,\n        \"samples\": [\n          2.51,\n          1.22,\n          20.07\n        ],\n        \"semantic_type\": \"\",\n        \"description\": \"\"\n      }\n    },\n    {\n      \"column\": \"count_rewritten\",\n      \"properties\": {\n        \"dtype\": \"number\",\n        \"std\": 5493,\n        \"min\": 261,\n        \"max\": 17349,\n        \"num_unique_values\": 14,\n        \"samples\": [\n          2071,\n          858,\n          17349\n        ],\n        \"semantic_type\": \"\",\n        \"description\": \"\"\n      }\n    },\n    {\n      \"column\": \"freq_rewritten\",\n      \"properties\": {\n        \"dtype\": \"number\",\n        \"std\": 6.96252701377757,\n        \"min\": 0.33,\n        \"max\": 21.99,\n        \"num_unique_values\": 14,\n        \"samples\": [\n          2.62,\n          1.09,\n          21.99\n        ],\n        \"semantic_type\": \"\",\n        \"description\": \"\"\n      }\n    },\n    {\n      \"column\": \"increase\",\n      \"properties\": {\n        \"dtype\": \"number\",\n        \"std\": 9.947272308207229,\n        \"min\": -0.38,\n        \"max\": 30.71,\n        \"num_unique_values\": 14,\n        \"samples\": [\n          24.48,\n          11.54,\n          28.01\n        ],\n        \"semantic_type\": \"\",\n        \"description\": \"\"\n      }\n    }\n  ]\n}",
              "type": "dataframe",
              "variable_name": "res"
            },
            "text/html": [
              "\n",
              "  <div id=\"df-a16d1d17-ddf0-48b1-9a64-b9dca513d95c\" class=\"colab-df-container\">\n",
              "    <div>\n",
              "<style scoped>\n",
              "    .dataframe tbody tr th:only-of-type {\n",
              "        vertical-align: middle;\n",
              "    }\n",
              "\n",
              "    .dataframe tbody tr th {\n",
              "        vertical-align: top;\n",
              "    }\n",
              "\n",
              "    .dataframe thead th {\n",
              "        text-align: right;\n",
              "    }\n",
              "</style>\n",
              "<table border=\"1\" class=\"dataframe\">\n",
              "  <thead>\n",
              "    <tr style=\"text-align: right;\">\n",
              "      <th></th>\n",
              "      <th>count_original</th>\n",
              "      <th>freq_original</th>\n",
              "      <th>count_rewritten</th>\n",
              "      <th>freq_rewritten</th>\n",
              "      <th>increase</th>\n",
              "    </tr>\n",
              "    <tr>\n",
              "      <th>pos</th>\n",
              "      <th></th>\n",
              "      <th></th>\n",
              "      <th></th>\n",
              "      <th></th>\n",
              "      <th></th>\n",
              "    </tr>\n",
              "  </thead>\n",
              "  <tbody>\n",
              "    <tr>\n",
              "      <th>NOUN</th>\n",
              "      <td>12490</td>\n",
              "      <td>20.07</td>\n",
              "      <td>17349</td>\n",
              "      <td>21.99</td>\n",
              "      <td>28.01</td>\n",
              "    </tr>\n",
              "    <tr>\n",
              "      <th>VERB</th>\n",
              "      <td>10975</td>\n",
              "      <td>17.64</td>\n",
              "      <td>14722</td>\n",
              "      <td>18.66</td>\n",
              "      <td>25.45</td>\n",
              "    </tr>\n",
              "    <tr>\n",
              "      <th>PRON</th>\n",
              "      <td>9039</td>\n",
              "      <td>14.53</td>\n",
              "      <td>11782</td>\n",
              "      <td>14.93</td>\n",
              "      <td>23.28</td>\n",
              "    </tr>\n",
              "    <tr>\n",
              "      <th>ADV</th>\n",
              "      <td>6521</td>\n",
              "      <td>10.48</td>\n",
              "      <td>6866</td>\n",
              "      <td>8.70</td>\n",
              "      <td>5.02</td>\n",
              "    </tr>\n",
              "    <tr>\n",
              "      <th>ADP</th>\n",
              "      <td>5978</td>\n",
              "      <td>9.61</td>\n",
              "      <td>8256</td>\n",
              "      <td>10.46</td>\n",
              "      <td>27.59</td>\n",
              "    </tr>\n",
              "    <tr>\n",
              "      <th>CCONJ</th>\n",
              "      <td>4099</td>\n",
              "      <td>6.59</td>\n",
              "      <td>4309</td>\n",
              "      <td>5.46</td>\n",
              "      <td>4.87</td>\n",
              "    </tr>\n",
              "    <tr>\n",
              "      <th>ADJ</th>\n",
              "      <td>3829</td>\n",
              "      <td>6.15</td>\n",
              "      <td>4500</td>\n",
              "      <td>5.70</td>\n",
              "      <td>14.91</td>\n",
              "    </tr>\n",
              "    <tr>\n",
              "      <th>PART</th>\n",
              "      <td>3437</td>\n",
              "      <td>5.52</td>\n",
              "      <td>3762</td>\n",
              "      <td>4.77</td>\n",
              "      <td>8.64</td>\n",
              "    </tr>\n",
              "    <tr>\n",
              "      <th>PROPN</th>\n",
              "      <td>1596</td>\n",
              "      <td>2.57</td>\n",
              "      <td>1895</td>\n",
              "      <td>2.40</td>\n",
              "      <td>15.78</td>\n",
              "    </tr>\n",
              "    <tr>\n",
              "      <th>DET</th>\n",
              "      <td>1564</td>\n",
              "      <td>2.51</td>\n",
              "      <td>2071</td>\n",
              "      <td>2.62</td>\n",
              "      <td>24.48</td>\n",
              "    </tr>\n",
              "    <tr>\n",
              "      <th>SCONJ</th>\n",
              "      <td>1137</td>\n",
              "      <td>1.83</td>\n",
              "      <td>1641</td>\n",
              "      <td>2.08</td>\n",
              "      <td>30.71</td>\n",
              "    </tr>\n",
              "    <tr>\n",
              "      <th>NUM</th>\n",
              "      <td>759</td>\n",
              "      <td>1.22</td>\n",
              "      <td>858</td>\n",
              "      <td>1.09</td>\n",
              "      <td>11.54</td>\n",
              "    </tr>\n",
              "    <tr>\n",
              "      <th>AUX</th>\n",
              "      <td>491</td>\n",
              "      <td>0.79</td>\n",
              "      <td>590</td>\n",
              "      <td>0.75</td>\n",
              "      <td>16.78</td>\n",
              "    </tr>\n",
              "    <tr>\n",
              "      <th>INTJ</th>\n",
              "      <td>262</td>\n",
              "      <td>0.42</td>\n",
              "      <td>261</td>\n",
              "      <td>0.33</td>\n",
              "      <td>-0.38</td>\n",
              "    </tr>\n",
              "  </tbody>\n",
              "</table>\n",
              "</div>\n",
              "    <div class=\"colab-df-buttons\">\n",
              "\n",
              "  <div class=\"colab-df-container\">\n",
              "    <button class=\"colab-df-convert\" onclick=\"convertToInteractive('df-a16d1d17-ddf0-48b1-9a64-b9dca513d95c')\"\n",
              "            title=\"Convert this dataframe to an interactive table.\"\n",
              "            style=\"display:none;\">\n",
              "\n",
              "  <svg xmlns=\"http://www.w3.org/2000/svg\" height=\"24px\" viewBox=\"0 -960 960 960\">\n",
              "    <path d=\"M120-120v-720h720v720H120Zm60-500h600v-160H180v160Zm220 220h160v-160H400v160Zm0 220h160v-160H400v160ZM180-400h160v-160H180v160Zm440 0h160v-160H620v160ZM180-180h160v-160H180v160Zm440 0h160v-160H620v160Z\"/>\n",
              "  </svg>\n",
              "    </button>\n",
              "\n",
              "  <style>\n",
              "    .colab-df-container {\n",
              "      display:flex;\n",
              "      gap: 12px;\n",
              "    }\n",
              "\n",
              "    .colab-df-convert {\n",
              "      background-color: #E8F0FE;\n",
              "      border: none;\n",
              "      border-radius: 50%;\n",
              "      cursor: pointer;\n",
              "      display: none;\n",
              "      fill: #1967D2;\n",
              "      height: 32px;\n",
              "      padding: 0 0 0 0;\n",
              "      width: 32px;\n",
              "    }\n",
              "\n",
              "    .colab-df-convert:hover {\n",
              "      background-color: #E2EBFA;\n",
              "      box-shadow: 0px 1px 2px rgba(60, 64, 67, 0.3), 0px 1px 3px 1px rgba(60, 64, 67, 0.15);\n",
              "      fill: #174EA6;\n",
              "    }\n",
              "\n",
              "    .colab-df-buttons div {\n",
              "      margin-bottom: 4px;\n",
              "    }\n",
              "\n",
              "    [theme=dark] .colab-df-convert {\n",
              "      background-color: #3B4455;\n",
              "      fill: #D2E3FC;\n",
              "    }\n",
              "\n",
              "    [theme=dark] .colab-df-convert:hover {\n",
              "      background-color: #434B5C;\n",
              "      box-shadow: 0px 1px 3px 1px rgba(0, 0, 0, 0.15);\n",
              "      filter: drop-shadow(0px 1px 2px rgba(0, 0, 0, 0.3));\n",
              "      fill: #FFFFFF;\n",
              "    }\n",
              "  </style>\n",
              "\n",
              "    <script>\n",
              "      const buttonEl =\n",
              "        document.querySelector('#df-a16d1d17-ddf0-48b1-9a64-b9dca513d95c button.colab-df-convert');\n",
              "      buttonEl.style.display =\n",
              "        google.colab.kernel.accessAllowed ? 'block' : 'none';\n",
              "\n",
              "      async function convertToInteractive(key) {\n",
              "        const element = document.querySelector('#df-a16d1d17-ddf0-48b1-9a64-b9dca513d95c');\n",
              "        const dataTable =\n",
              "          await google.colab.kernel.invokeFunction('convertToInteractive',\n",
              "                                                    [key], {});\n",
              "        if (!dataTable) return;\n",
              "\n",
              "        const docLinkHtml = 'Like what you see? Visit the ' +\n",
              "          '<a target=\"_blank\" href=https://colab.research.google.com/notebooks/data_table.ipynb>data table notebook</a>'\n",
              "          + ' to learn more about interactive tables.';\n",
              "        element.innerHTML = '';\n",
              "        dataTable['output_type'] = 'display_data';\n",
              "        await google.colab.output.renderOutput(dataTable, element);\n",
              "        const docLink = document.createElement('div');\n",
              "        docLink.innerHTML = docLinkHtml;\n",
              "        element.appendChild(docLink);\n",
              "      }\n",
              "    </script>\n",
              "  </div>\n",
              "\n",
              "\n",
              "    <div id=\"df-cd2d1e3d-3ff5-492b-8980-e2676624329c\">\n",
              "      <button class=\"colab-df-quickchart\" onclick=\"quickchart('df-cd2d1e3d-3ff5-492b-8980-e2676624329c')\"\n",
              "                title=\"Suggest charts\"\n",
              "                style=\"display:none;\">\n",
              "\n",
              "<svg xmlns=\"http://www.w3.org/2000/svg\" height=\"24px\"viewBox=\"0 0 24 24\"\n",
              "     width=\"24px\">\n",
              "    <g>\n",
              "        <path d=\"M19 3H5c-1.1 0-2 .9-2 2v14c0 1.1.9 2 2 2h14c1.1 0 2-.9 2-2V5c0-1.1-.9-2-2-2zM9 17H7v-7h2v7zm4 0h-2V7h2v10zm4 0h-2v-4h2v4z\"/>\n",
              "    </g>\n",
              "</svg>\n",
              "      </button>\n",
              "\n",
              "<style>\n",
              "  .colab-df-quickchart {\n",
              "      --bg-color: #E8F0FE;\n",
              "      --fill-color: #1967D2;\n",
              "      --hover-bg-color: #E2EBFA;\n",
              "      --hover-fill-color: #174EA6;\n",
              "      --disabled-fill-color: #AAA;\n",
              "      --disabled-bg-color: #DDD;\n",
              "  }\n",
              "\n",
              "  [theme=dark] .colab-df-quickchart {\n",
              "      --bg-color: #3B4455;\n",
              "      --fill-color: #D2E3FC;\n",
              "      --hover-bg-color: #434B5C;\n",
              "      --hover-fill-color: #FFFFFF;\n",
              "      --disabled-bg-color: #3B4455;\n",
              "      --disabled-fill-color: #666;\n",
              "  }\n",
              "\n",
              "  .colab-df-quickchart {\n",
              "    background-color: var(--bg-color);\n",
              "    border: none;\n",
              "    border-radius: 50%;\n",
              "    cursor: pointer;\n",
              "    display: none;\n",
              "    fill: var(--fill-color);\n",
              "    height: 32px;\n",
              "    padding: 0;\n",
              "    width: 32px;\n",
              "  }\n",
              "\n",
              "  .colab-df-quickchart:hover {\n",
              "    background-color: var(--hover-bg-color);\n",
              "    box-shadow: 0 1px 2px rgba(60, 64, 67, 0.3), 0 1px 3px 1px rgba(60, 64, 67, 0.15);\n",
              "    fill: var(--button-hover-fill-color);\n",
              "  }\n",
              "\n",
              "  .colab-df-quickchart-complete:disabled,\n",
              "  .colab-df-quickchart-complete:disabled:hover {\n",
              "    background-color: var(--disabled-bg-color);\n",
              "    fill: var(--disabled-fill-color);\n",
              "    box-shadow: none;\n",
              "  }\n",
              "\n",
              "  .colab-df-spinner {\n",
              "    border: 2px solid var(--fill-color);\n",
              "    border-color: transparent;\n",
              "    border-bottom-color: var(--fill-color);\n",
              "    animation:\n",
              "      spin 1s steps(1) infinite;\n",
              "  }\n",
              "\n",
              "  @keyframes spin {\n",
              "    0% {\n",
              "      border-color: transparent;\n",
              "      border-bottom-color: var(--fill-color);\n",
              "      border-left-color: var(--fill-color);\n",
              "    }\n",
              "    20% {\n",
              "      border-color: transparent;\n",
              "      border-left-color: var(--fill-color);\n",
              "      border-top-color: var(--fill-color);\n",
              "    }\n",
              "    30% {\n",
              "      border-color: transparent;\n",
              "      border-left-color: var(--fill-color);\n",
              "      border-top-color: var(--fill-color);\n",
              "      border-right-color: var(--fill-color);\n",
              "    }\n",
              "    40% {\n",
              "      border-color: transparent;\n",
              "      border-right-color: var(--fill-color);\n",
              "      border-top-color: var(--fill-color);\n",
              "    }\n",
              "    60% {\n",
              "      border-color: transparent;\n",
              "      border-right-color: var(--fill-color);\n",
              "    }\n",
              "    80% {\n",
              "      border-color: transparent;\n",
              "      border-right-color: var(--fill-color);\n",
              "      border-bottom-color: var(--fill-color);\n",
              "    }\n",
              "    90% {\n",
              "      border-color: transparent;\n",
              "      border-bottom-color: var(--fill-color);\n",
              "    }\n",
              "  }\n",
              "</style>\n",
              "\n",
              "      <script>\n",
              "        async function quickchart(key) {\n",
              "          const quickchartButtonEl =\n",
              "            document.querySelector('#' + key + ' button');\n",
              "          quickchartButtonEl.disabled = true;  // To prevent multiple clicks.\n",
              "          quickchartButtonEl.classList.add('colab-df-spinner');\n",
              "          try {\n",
              "            const charts = await google.colab.kernel.invokeFunction(\n",
              "                'suggestCharts', [key], {});\n",
              "          } catch (error) {\n",
              "            console.error('Error during call to suggestCharts:', error);\n",
              "          }\n",
              "          quickchartButtonEl.classList.remove('colab-df-spinner');\n",
              "          quickchartButtonEl.classList.add('colab-df-quickchart-complete');\n",
              "        }\n",
              "        (() => {\n",
              "          let quickchartButtonEl =\n",
              "            document.querySelector('#df-cd2d1e3d-3ff5-492b-8980-e2676624329c button');\n",
              "          quickchartButtonEl.style.display =\n",
              "            google.colab.kernel.accessAllowed ? 'block' : 'none';\n",
              "        })();\n",
              "      </script>\n",
              "    </div>\n",
              "    </div>\n",
              "  </div>\n"
            ],
            "text/plain": [
              "       count_original  freq_original  count_rewritten  freq_rewritten  \\\n",
              "pos                                                                     \n",
              "NOUN            12490          20.07            17349           21.99   \n",
              "VERB            10975          17.64            14722           18.66   \n",
              "PRON             9039          14.53            11782           14.93   \n",
              "ADV              6521          10.48             6866            8.70   \n",
              "ADP              5978           9.61             8256           10.46   \n",
              "CCONJ            4099           6.59             4309            5.46   \n",
              "ADJ              3829           6.15             4500            5.70   \n",
              "PART             3437           5.52             3762            4.77   \n",
              "PROPN            1596           2.57             1895            2.40   \n",
              "DET              1564           2.51             2071            2.62   \n",
              "SCONJ            1137           1.83             1641            2.08   \n",
              "NUM               759           1.22              858            1.09   \n",
              "AUX               491           0.79              590            0.75   \n",
              "INTJ              262           0.42              261            0.33   \n",
              "\n",
              "       increase  \n",
              "pos              \n",
              "NOUN      28.01  \n",
              "VERB      25.45  \n",
              "PRON      23.28  \n",
              "ADV        5.02  \n",
              "ADP       27.59  \n",
              "CCONJ      4.87  \n",
              "ADJ       14.91  \n",
              "PART       8.64  \n",
              "PROPN     15.78  \n",
              "DET       24.48  \n",
              "SCONJ     30.71  \n",
              "NUM       11.54  \n",
              "AUX       16.78  \n",
              "INTJ      -0.38  "
            ]
          },
          "execution_count": 51,
          "metadata": {},
          "output_type": "execute_result"
        }
      ],
      "source": [
        "res.freq_original = res.freq_original.map(lambda x: round(x * 100, 2))\n",
        "res.freq_rewritten = res.freq_rewritten.map(lambda x: round(x * 100, 2))\n",
        "res[\"increase\"] = (res.count_rewritten - res.count_original) / res.count_rewritten\n",
        "res.increase = res.increase.map(lambda x: round(x * 100, 2))\n",
        "res"
      ]
    },
    {
      "cell_type": "code",
      "execution_count": 52,
      "metadata": {
        "colab": {
          "base_uri": "https://localhost:8080/",
          "height": 554
        },
        "id": "iJFg1VSnEmCv",
        "outputId": "c618563f-e601-4ab7-b674-a9469672ebc0"
      },
      "outputs": [
        {
          "data": {
            "text/html": [
              "<div>\n",
              "<style scoped>\n",
              "    .dataframe tbody tr th:only-of-type {\n",
              "        vertical-align: middle;\n",
              "    }\n",
              "\n",
              "    .dataframe tbody tr th {\n",
              "        vertical-align: top;\n",
              "    }\n",
              "\n",
              "    .dataframe thead th {\n",
              "        text-align: right;\n",
              "    }\n",
              "</style>\n",
              "<table border=\"1\" class=\"dataframe\">\n",
              "  <thead>\n",
              "    <tr style=\"text-align: right;\">\n",
              "      <th></th>\n",
              "      <th>0</th>\n",
              "    </tr>\n",
              "    <tr>\n",
              "      <th>pos</th>\n",
              "      <th></th>\n",
              "    </tr>\n",
              "  </thead>\n",
              "  <tbody>\n",
              "    <tr>\n",
              "      <th>NOUN</th>\n",
              "      <td>0.280074</td>\n",
              "    </tr>\n",
              "    <tr>\n",
              "      <th>VERB</th>\n",
              "      <td>0.254517</td>\n",
              "    </tr>\n",
              "    <tr>\n",
              "      <th>PRON</th>\n",
              "      <td>0.232813</td>\n",
              "    </tr>\n",
              "    <tr>\n",
              "      <th>ADV</th>\n",
              "      <td>0.050248</td>\n",
              "    </tr>\n",
              "    <tr>\n",
              "      <th>ADP</th>\n",
              "      <td>0.275921</td>\n",
              "    </tr>\n",
              "    <tr>\n",
              "      <th>CCONJ</th>\n",
              "      <td>0.048735</td>\n",
              "    </tr>\n",
              "    <tr>\n",
              "      <th>ADJ</th>\n",
              "      <td>0.149111</td>\n",
              "    </tr>\n",
              "    <tr>\n",
              "      <th>PART</th>\n",
              "      <td>0.086390</td>\n",
              "    </tr>\n",
              "    <tr>\n",
              "      <th>PROPN</th>\n",
              "      <td>0.157784</td>\n",
              "    </tr>\n",
              "    <tr>\n",
              "      <th>DET</th>\n",
              "      <td>0.244809</td>\n",
              "    </tr>\n",
              "    <tr>\n",
              "      <th>SCONJ</th>\n",
              "      <td>0.307130</td>\n",
              "    </tr>\n",
              "    <tr>\n",
              "      <th>NUM</th>\n",
              "      <td>0.115385</td>\n",
              "    </tr>\n",
              "    <tr>\n",
              "      <th>AUX</th>\n",
              "      <td>0.167797</td>\n",
              "    </tr>\n",
              "    <tr>\n",
              "      <th>INTJ</th>\n",
              "      <td>-0.003831</td>\n",
              "    </tr>\n",
              "  </tbody>\n",
              "</table>\n",
              "</div><br><label><b>dtype:</b> float64</label>"
            ],
            "text/plain": [
              "pos\n",
              "NOUN     0.280074\n",
              "VERB     0.254517\n",
              "PRON     0.232813\n",
              "ADV      0.050248\n",
              "ADP      0.275921\n",
              "CCONJ    0.048735\n",
              "ADJ      0.149111\n",
              "PART     0.086390\n",
              "PROPN    0.157784\n",
              "DET      0.244809\n",
              "SCONJ    0.307130\n",
              "NUM      0.115385\n",
              "AUX      0.167797\n",
              "INTJ    -0.003831\n",
              "dtype: float64"
            ]
          },
          "execution_count": 52,
          "metadata": {},
          "output_type": "execute_result"
        }
      ],
      "source": [
        "(res.count_rewritten - res.count_original) / res.count_rewritten"
      ]
    },
    {
      "cell_type": "markdown",
      "metadata": {
        "id": "v_N7bwB3Yam2"
      },
      "source": [
        "Тут немножко странные результаты: с одной строны становится больше существительных и глаголов, что как будто логично. С другой стороны, местоимений тоже становиться больше"
      ]
    },
    {
      "cell_type": "markdown",
      "metadata": {
        "id": "gc-Lx8LZiQUK"
      },
      "source": [
        "#### visualization"
      ]
    },
    {
      "cell_type": "code",
      "execution_count": null,
      "metadata": {
        "id": "A9ghFDkuhTaZ"
      },
      "outputs": [],
      "source": [
        "def filter_rare_tags(counts, pct):\n",
        "    total_tokens = sum(counts.values())\n",
        "    filtered_counts = {}\n",
        "    for tag, count in counts.items():\n",
        "        if count / total_tokens >= pct / 100:\n",
        "            filtered_counts[tag] = count\n",
        "    if len(filtered_counts) < len(counts):  # If there are rare tags\n",
        "        filtered_counts['Other'] = total_tokens - sum(filtered_counts.values())\n",
        "    return filtered_counts\n",
        "\n",
        "\n",
        "def plot_pos_tag_distribution(a_counts, b_counts, a_label, b_label, threshold, figsize):\n",
        "    filtered_a_counts = filter_rare_tags(a_counts, threshold)\n",
        "    filtered_b_counts = filter_rare_tags(b_counts, threshold)\n",
        "\n",
        "    all_labels = sorted(set([*filtered_a_counts.keys(), *filtered_b_counts.keys()]),\n",
        "                        key=lambda x: -filtered_a_counts.get(x, 0))\n",
        "\n",
        "    a_labels = [l for l in all_labels if l in filtered_a_counts]\n",
        "    a_sizes = [filtered_a_counts[k] for k in a_labels]\n",
        "\n",
        "    b_labels = [l for l in all_labels if l in filtered_b_counts]\n",
        "    b_sizes = [filtered_b_counts[k] for k in b_labels]\n",
        "\n",
        "    colors = plt.cm.tab20.colors\n",
        "\n",
        "    fig, axs = plt.subplots(1, 2, figsize=figsize)\n",
        "\n",
        "    axs[0].pie(a_sizes, labels=a_labels,  autopct='%1.1f%%',  startangle=90, colors=colors[:len(a_labels)])\n",
        "    axs[0].axis('equal')\n",
        "    axs[0].set_title(a_label)\n",
        "\n",
        "    axs[1].pie(b_sizes, labels=b_labels, autopct='%1.1f%%', startangle=90, colors=colors[:len(b_labels)])\n",
        "    axs[1].axis('equal')\n",
        "    axs[1].set_title(b_label)\n",
        "\n",
        "    plt.tight_layout()\n",
        "    plt.show()"
      ]
    },
    {
      "cell_type": "code",
      "execution_count": 54,
      "metadata": {
        "colab": {
          "base_uri": "https://localhost:8080/",
          "height": 807
        },
        "id": "iw4LEOI8h3Ky",
        "outputId": "84403a0d-56cd-45e2-a42c-f47f4d9d823a"
      },
      "outputs": [
        {
          "data": {
            "image/png": "[encoded data removed]",
            "text/plain": [
              "<Figure size 1400x800 with 2 Axes>"
            ]
          },
          "metadata": {},
          "output_type": "display_data"
        }
      ],
      "source": [
        "plot_pos_tag_distribution(\n",
        "    Counter([v[\"pos\"] for v in itertools.chain.from_iterable(phrase2pos.values()) if v[\"pos\"] != \"PUNCT\" ]),\n",
        "    Counter([v[\"pos\"] for v in itertools.chain.from_iterable(rewrite2pos.values()) if v[\"pos\"] != \"PUNCT\" ]),\n",
        "    a_label='PoS Tags of initial message',\n",
        "    b_label='PoS Tags of rewritten message',\n",
        "    threshold=3,\n",
        "    figsize=(14, 8)\n",
        "    )"
      ]
    },
    {
      "cell_type": "markdown",
      "metadata": {
        "id": "H9F98o2g0qQo"
      },
      "source": [
        "### Syntactical structures"
      ]
    },
    {
      "cell_type": "code",
      "execution_count": 55,
      "metadata": {
        "id": "HUwqo9GK0HCC"
      },
      "outputs": [],
      "source": [
        "def count_coordinat_conj(sentences):\n",
        "    cc_count = 0\n",
        "    for sent in tqdm(sentences):\n",
        "        doc = spacy_model(sent)\n",
        "        for token in doc:\n",
        "            if token.dep_ == \"cc\":\n",
        "                cc_count += 1\n",
        "                break\n",
        "    return cc_count"
      ]
    },
    {
      "cell_type": "code",
      "execution_count": 56,
      "metadata": {
        "id": "qGiAnmUw1hmQ"
      },
      "outputs": [],
      "source": [
        "def count_sub_clauses(sentences):\n",
        "    sub_claus_count = 0\n",
        "    for sent in tqdm(sentences):\n",
        "        doc = spacy_model(sent)\n",
        "        for token in doc:\n",
        "            if token.dep_ == \"mark\":\n",
        "                sub_claus_count += 1\n",
        "                break\n",
        "    return sub_claus_count"
      ]
    },
    {
      "cell_type": "code",
      "execution_count": 57,
      "metadata": {
        "colab": {
          "base_uri": "https://localhost:8080/"
        },
        "id": "hLMW_FzA01VL",
        "outputId": "f254c97d-8a58-4d87-8062-2726fffb7427"
      },
      "outputs": [
        {
          "name": "stderr",
          "output_type": "stream",
          "text": [
            "100%|██████████| 5514/5514 [01:21<00:00, 67.59it/s]\n"
          ]
        },
        {
          "data": {
            "text/plain": [
              "811"
            ]
          },
          "execution_count": 57,
          "metadata": {},
          "output_type": "execute_result"
        }
      ],
      "source": [
        "count_sub_clauses([msg['Phrase'] for msg in data])"
      ]
    },
    {
      "cell_type": "code",
      "execution_count": 58,
      "metadata": {
        "colab": {
          "base_uri": "https://localhost:8080/"
        },
        "id": "kd-gT2QK0e8i",
        "outputId": "e07a331b-dfa0-44d4-fc34-b56a0cb8b599"
      },
      "outputs": [
        {
          "name": "stderr",
          "output_type": "stream",
          "text": [
            "100%|██████████| 5514/5514 [01:30<00:00, 61.07it/s]\n"
          ]
        },
        {
          "data": {
            "text/plain": [
              "1195"
            ]
          },
          "execution_count": 58,
          "metadata": {},
          "output_type": "execute_result"
        }
      ],
      "source": [
        "count_sub_clauses([msg['Rewrite'] for msg in data])"
      ]
    },
    {
      "cell_type": "code",
      "execution_count": 59,
      "metadata": {
        "colab": {
          "base_uri": "https://localhost:8080/"
        },
        "id": "29pcWFr_1wS1",
        "outputId": "6c8e823d-40f3-4067-dd6c-019b233fecb1"
      },
      "outputs": [
        {
          "name": "stderr",
          "output_type": "stream",
          "text": [
            "100%|██████████| 5514/5514 [01:21<00:00, 67.44it/s]\n"
          ]
        },
        {
          "data": {
            "text/plain": [
              "2883"
            ]
          },
          "execution_count": 59,
          "metadata": {},
          "output_type": "execute_result"
        }
      ],
      "source": [
        "count_coordinat_conj([msg['Phrase'] for msg in data])"
      ]
    },
    {
      "cell_type": "code",
      "execution_count": 60,
      "metadata": {
        "colab": {
          "base_uri": "https://localhost:8080/"
        },
        "id": "8lQIJ-RX1xuv",
        "outputId": "18964c69-66b6-4eb3-e65f-eded7466de3c"
      },
      "outputs": [
        {
          "name": "stderr",
          "output_type": "stream",
          "text": [
            "100%|██████████| 5514/5514 [01:30<00:00, 61.19it/s]\n"
          ]
        },
        {
          "data": {
            "text/plain": [
              "2974"
            ]
          },
          "execution_count": 60,
          "metadata": {},
          "output_type": "execute_result"
        }
      ],
      "source": [
        "count_coordinat_conj([msg['Rewrite'] for msg in data])"
      ]
    }
  ],
  "metadata": {
    "colab": {
      "include_colab_link": true,
      "provenance": []
    },
    "kernelspec": {
      "display_name": "context_dep",
      "language": "python",
      "name": "python3"
    },
    "language_info": {
      "codemirror_mode": {
        "name": "ipython",
        "version": 3
      },
      "file_extension": ".py",
      "mimetype": "text/x-python",
      "name": "python",
      "nbconvert_exporter": "python",
      "pygments_lexer": "ipython3",
      "version": "3.11.13"
    }
  },
  "nbformat": 4,
  "nbformat_minor": 0
}
