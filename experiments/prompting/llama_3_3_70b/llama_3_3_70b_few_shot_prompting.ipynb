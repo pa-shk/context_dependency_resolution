{
  "cells": [
    {
      "cell_type": "code",
      "execution_count": null,
      "metadata": {
        "colab": {
          "base_uri": "https://localhost:8080/"
        },
        "id": "7Cieo3UAJq5U",
        "outputId": "8814974b-bf70-4fd1-dbbc-e96123d3bf18"
      },
      "outputs": [
        {
          "name": "stdout",
          "output_type": "stream",
          "text": [
            "\u001b[?25l   \u001b[90m━━━━━━━━━━━━━━━━━━━━━━━━━━━━━━━━━━━━━━━━\u001b[0m \u001b[32m0.0/491.5 kB\u001b[0m \u001b[31m?\u001b[0m eta \u001b[36m-:--:--\u001b[0m\r\u001b[2K   \u001b[91m━━━━━━━━━━━━━━━━━━━━━━━\u001b[0m\u001b[90m╺\u001b[0m\u001b[90m━━━━━━━━━━━━━━━━\u001b[0m \u001b[32m286.7/491.5 kB\u001b[0m \u001b[31m8.5 MB/s\u001b[0m eta \u001b[36m0:00:01\u001b[0m\r\u001b[2K   \u001b[90m━━━━━━━━━━━━━━━━━━━━━━━━━━━━━━━━━━━━━━━━\u001b[0m \u001b[32m491.5/491.5 kB\u001b[0m \u001b[31m7.3 MB/s\u001b[0m eta \u001b[36m0:00:00\u001b[0m\n",
            "\u001b[2K   \u001b[90m━━━━━━━━━━━━━━━━━━━━━━━━━━━━━━━━━━━━━━━━\u001b[0m \u001b[32m116.3/116.3 kB\u001b[0m \u001b[31m6.5 MB/s\u001b[0m eta \u001b[36m0:00:00\u001b[0m\n",
            "\u001b[2K   \u001b[90m━━━━━━━━━━━━━━━━━━━━━━━━━━━━━━━━━━━━━━━━\u001b[0m \u001b[32m193.6/193.6 kB\u001b[0m \u001b[31m13.0 MB/s\u001b[0m eta \u001b[36m0:00:00\u001b[0m\n",
            "\u001b[2K   \u001b[90m━━━━━━━━━━━━━━━━━━━━━━━━━━━━━━━━━━━━━━━━\u001b[0m \u001b[32m143.5/143.5 kB\u001b[0m \u001b[31m8.9 MB/s\u001b[0m eta \u001b[36m0:00:00\u001b[0m\n",
            "\u001b[2K   \u001b[90m━━━━━━━━━━━━━━━━━━━━━━━━━━━━━━━━━━━━━━━━\u001b[0m \u001b[32m194.8/194.8 kB\u001b[0m \u001b[31m11.7 MB/s\u001b[0m eta \u001b[36m0:00:00\u001b[0m\n",
            "\u001b[?25h\u001b[31mERROR: pip's dependency resolver does not currently take into account all the packages that are installed. This behaviour is the source of the following dependency conflicts.\n",
            "torch 2.6.0+cu124 requires nvidia-cublas-cu12==12.4.5.8; platform_system == \"Linux\" and platform_machine == \"x86_64\", but you have nvidia-cublas-cu12 12.5.3.2 which is incompatible.\n",
            "torch 2.6.0+cu124 requires nvidia-cuda-cupti-cu12==12.4.127; platform_system == \"Linux\" and platform_machine == \"x86_64\", but you have nvidia-cuda-cupti-cu12 12.5.82 which is incompatible.\n",
            "torch 2.6.0+cu124 requires nvidia-cuda-nvrtc-cu12==12.4.127; platform_system == \"Linux\" and platform_machine == \"x86_64\", but you have nvidia-cuda-nvrtc-cu12 12.5.82 which is incompatible.\n",
            "torch 2.6.0+cu124 requires nvidia-cuda-runtime-cu12==12.4.127; platform_system == \"Linux\" and platform_machine == \"x86_64\", but you have nvidia-cuda-runtime-cu12 12.5.82 which is incompatible.\n",
            "torch 2.6.0+cu124 requires nvidia-cudnn-cu12==9.1.0.70; platform_system == \"Linux\" and platform_machine == \"x86_64\", but you have nvidia-cudnn-cu12 9.3.0.75 which is incompatible.\n",
            "torch 2.6.0+cu124 requires nvidia-cufft-cu12==11.2.1.3; platform_system == \"Linux\" and platform_machine == \"x86_64\", but you have nvidia-cufft-cu12 11.2.3.61 which is incompatible.\n",
            "torch 2.6.0+cu124 requires nvidia-curand-cu12==10.3.5.147; platform_system == \"Linux\" and platform_machine == \"x86_64\", but you have nvidia-curand-cu12 10.3.6.82 which is incompatible.\n",
            "torch 2.6.0+cu124 requires nvidia-cusolver-cu12==11.6.1.9; platform_system == \"Linux\" and platform_machine == \"x86_64\", but you have nvidia-cusolver-cu12 11.6.3.83 which is incompatible.\n",
            "torch 2.6.0+cu124 requires nvidia-cusparse-cu12==12.3.1.170; platform_system == \"Linux\" and platform_machine == \"x86_64\", but you have nvidia-cusparse-cu12 12.5.1.3 which is incompatible.\n",
            "torch 2.6.0+cu124 requires nvidia-nvjitlink-cu12==12.4.127; platform_system == \"Linux\" and platform_machine == \"x86_64\", but you have nvidia-nvjitlink-cu12 12.5.82 which is incompatible.\n",
            "gcsfs 2025.3.2 requires fsspec==2025.3.2, but you have fsspec 2025.3.0 which is incompatible.\u001b[0m\u001b[31m\n",
            "\u001b[0m"
          ]
        }
      ],
      "source": [
        "!pip install datasets -q"
      ]
    },
    {
      "cell_type": "code",
      "execution_count": null,
      "metadata": {
        "id": "VG3WPtgGDFwp"
      },
      "outputs": [],
      "source": [
        "import json\n",
        "import pandas as pd\n",
        "\n",
        "from transformers import AutoModelForCausalLM, AutoTokenizer"
      ]
    },
    {
      "cell_type": "markdown",
      "metadata": {
        "id": "Q9voUMEu_8yt"
      },
      "source": [
        "## Data loading"
      ]
    },
    {
      "cell_type": "code",
      "execution_count": null,
      "metadata": {
        "id": "shLnd35KvbyL"
      },
      "outputs": [],
      "source": [
        "!wget https://github.com/anna-a-m/dataset-2rca/raw/refs/heads/main/data/2rca_checked_version.json -q"
      ]
    },
    {
      "cell_type": "code",
      "execution_count": null,
      "metadata": {
        "id": "V_o7oSOPv3s8"
      },
      "outputs": [],
      "source": [
        "with open('2rca_checked_version.json') as f:\n",
        "    data = json.load(f)"
      ]
    },
    {
      "cell_type": "markdown",
      "metadata": {
        "id": "AJ35eu-RAGpo"
      },
      "source": [
        "## Data samples"
      ]
    },
    {
      "cell_type": "code",
      "execution_count": null,
      "metadata": {
        "colab": {
          "base_uri": "https://localhost:8080/"
        },
        "id": "AblSvXitzUji",
        "outputId": "58899ac3-5cbf-48ce-ec4e-405d0f9c8ec2"
      },
      "outputs": [
        {
          "data": {
            "text/plain": [
              "{'History': ['Привет, расскажи о себе.',\n",
              "  'Привет! Под вкусный кофеек настроение поболтать появилось.'],\n",
              " 'Dia_ID_hash': 'dia_628e79cf',\n",
              " 'Utt_ID_hash': 'utt_64c12a9b',\n",
              " 'Phrase': 'Что читаешь? Мне нравится классика. Я тоже люблю пообщаться.',\n",
              " 'Rewrite': 'Что читаешь? Мне нравится читать классику. Я тоже люблю пообщаться.'}"
            ]
          },
          "execution_count": 5,
          "metadata": {},
          "output_type": "execute_result"
        }
      ],
      "source": [
        "data[0]"
      ]
    },
    {
      "cell_type": "code",
      "execution_count": null,
      "metadata": {
        "colab": {
          "base_uri": "https://localhost:8080/"
        },
        "id": "4cihR2B-zZ6i",
        "outputId": "050d1dc6-47d4-471a-a5fd-47effac67f89"
      },
      "outputs": [
        {
          "data": {
            "text/plain": [
              "{'History': ['Привет, расскажи о себе.',\n",
              "  'Привет! Под вкусный кофеек настроение поболтать появилось.',\n",
              "  'Что читаешь? Мне нравится читать классику. Я тоже люблю пообщаться.'],\n",
              " 'Dia_ID_hash': 'dia_628e79cf',\n",
              " 'Utt_ID_hash': 'utt_5cd9dc06',\n",
              " 'Phrase': 'Люблю животных, просто обожаю, как и свою работу. Я фантастику люблю.',\n",
              " 'Rewrite': 'Люблю животных, просто обожаю, как и свою работу. Я фантастику читать люблю.'}"
            ]
          },
          "execution_count": 6,
          "metadata": {},
          "output_type": "execute_result"
        }
      ],
      "source": [
        "data[1]"
      ]
    },
    {
      "cell_type": "code",
      "execution_count": null,
      "metadata": {
        "colab": {
          "base_uri": "https://localhost:8080/"
        },
        "id": "Oqn-3_Lqzcx1",
        "outputId": "641f37ac-4089-4262-c676-4a56e37e0594"
      },
      "outputs": [
        {
          "data": {
            "text/plain": [
              "{'History': ['Привет, расскажи о себе.',\n",
              "  'Привет! Под вкусный кофеек настроение поболтать появилось.',\n",
              "  'Что читаешь? Мне нравится читать классику. Я тоже люблю пообщаться.',\n",
              "  'Люблю животных, просто обожаю, как и свою работу. Я фантастику читать люблю.',\n",
              "  'А я выращиваю фиалки и веду здоровый и активный образ жизни.'],\n",
              " 'Dia_ID_hash': 'dia_628e79cf',\n",
              " 'Utt_ID_hash': 'utt_9d73f6c2',\n",
              " 'Phrase': 'Ух ты, интересно.',\n",
              " 'Rewrite': 'Ух ты, интересно, ты фиалки выращиваешь.'}"
            ]
          },
          "execution_count": 7,
          "metadata": {},
          "output_type": "execute_result"
        }
      ],
      "source": [
        "data[2]"
      ]
    },
    {
      "cell_type": "code",
      "execution_count": null,
      "metadata": {
        "colab": {
          "base_uri": "https://localhost:8080/"
        },
        "id": "oLER3_u2zebK",
        "outputId": "beec81b4-2f85-4569-b481-6828925b7086"
      },
      "outputs": [
        {
          "data": {
            "text/plain": [
              "{'History': ['Привет, расскажи о себе.',\n",
              "  'Привет! Под вкусный кофеек настроение поболтать появилось.',\n",
              "  'Что читаешь? Мне нравится читать классику. Я тоже люблю пообщаться.',\n",
              "  'Люблю животных, просто обожаю, как и свою работу. Я фантастику читать люблю.',\n",
              "  'А я выращиваю фиалки и веду здоровый и активный образ жизни.',\n",
              "  'Ух ты, интересно, ты фиалки выращиваешь.'],\n",
              " 'Dia_ID_hash': 'dia_628e79cf',\n",
              " 'Utt_ID_hash': 'utt_2bfa24e4',\n",
              " 'Phrase': 'Ты случайно не принц на белом коне? Я его очень жду.',\n",
              " 'Rewrite': 'Ты случайно не принц на белом коне? Я принца на белом коне очень жду.'}"
            ]
          },
          "execution_count": 8,
          "metadata": {},
          "output_type": "execute_result"
        }
      ],
      "source": [
        "data[3]"
      ]
    },
    {
      "cell_type": "markdown",
      "metadata": {
        "id": "e4Xfj1pZBEw0"
      },
      "source": [
        "Saving sample of data for manual examination"
      ]
    },
    {
      "cell_type": "code",
      "execution_count": null,
      "metadata": {
        "id": "ByL5NvwboMGm"
      },
      "outputs": [],
      "source": [
        "history, phrase, rewrite = [], [], []\n",
        "\n",
        "for sample in data:\n",
        "    history.append(sample[\"History\"])\n",
        "    phrase.append(sample[\"Phrase\"])\n",
        "    rewrite.append(sample[\"Rewrite\"])"
      ]
    },
    {
      "cell_type": "code",
      "execution_count": null,
      "metadata": {
        "id": "UW3ciurvoZK-"
      },
      "outputs": [],
      "source": [
        "df = pd.DataFrame({\"history\": history, \"phrase\": phrase, \"rewrite\": rewrite})"
      ]
    },
    {
      "cell_type": "markdown",
      "metadata": {
        "id": "Fhgxszvdy0XT"
      },
      "source": [
        "## HF datasets"
      ]
    },
    {
      "cell_type": "code",
      "execution_count": null,
      "metadata": {
        "id": "cAw117BwaUIB"
      },
      "outputs": [],
      "source": [
        "from datasets import DatasetDict, Dataset\n",
        "\n",
        "ds = Dataset.from_pandas(df)\n",
        "ds = ds.train_test_split(test_size=0.2, shuffle=True, seed=42)\n",
        "train_ds, test_ds = ds[\"train\"], ds[\"test\"]\n",
        "test_ds = test_ds.train_test_split(test_size=0.5, shuffle=True, seed=42)\n",
        "val_ds, test_ds = test_ds[\"train\"], test_ds[\"train\"]\n",
        "\n",
        "ds[\"train\"] = train_ds\n",
        "ds[\"val\"] = val_ds\n",
        "ds[\"test\"] = test_ds"
      ]
    },
    {
      "cell_type": "code",
      "execution_count": null,
      "metadata": {
        "colab": {
          "base_uri": "https://localhost:8080/"
        },
        "id": "YP63UXIJrwXU",
        "outputId": "575735ae-59f3-4a34-cd84-b2124ea6ae0e"
      },
      "outputs": [
        {
          "data": {
            "text/plain": [
              "DatasetDict({\n",
              "    train: Dataset({\n",
              "        features: ['history', 'phrase', 'rewrite'],\n",
              "        num_rows: 4411\n",
              "    })\n",
              "    test: Dataset({\n",
              "        features: ['history', 'phrase', 'rewrite'],\n",
              "        num_rows: 551\n",
              "    })\n",
              "    val: Dataset({\n",
              "        features: ['history', 'phrase', 'rewrite'],\n",
              "        num_rows: 551\n",
              "    })\n",
              "})"
            ]
          },
          "execution_count": 12,
          "metadata": {},
          "output_type": "execute_result"
        }
      ],
      "source": [
        "ds"
      ]
    },
    {
      "cell_type": "code",
      "execution_count": null,
      "metadata": {
        "colab": {
          "base_uri": "https://localhost:8080/"
        },
        "id": "Ais8_niJXKz6",
        "outputId": "c48793b5-30c5-4f4b-801a-e6d19131c400"
      },
      "outputs": [
        {
          "name": "stdout",
          "output_type": "stream",
          "text": [
            "\u001b[?25l   \u001b[90m━━━━━━━━━━━━━━━━━━━━━━━━━━━━━━━━━━━━━━━━\u001b[0m \u001b[32m0.0/89.0 kB\u001b[0m \u001b[31m?\u001b[0m eta \u001b[36m-:--:--\u001b[0m\r\u001b[2K   \u001b[90m━━━━━━━━━━━━━━━━━━━━━━━━━━━━━━━━━━━━━━━━\u001b[0m \u001b[32m89.0/89.0 kB\u001b[0m \u001b[31m2.5 MB/s\u001b[0m eta \u001b[36m0:00:00\u001b[0m\n",
            "\u001b[?25h"
          ]
        }
      ],
      "source": [
        "!pip install together -q"
      ]
    },
    {
      "cell_type": "code",
      "execution_count": null,
      "metadata": {
        "id": "a_MKM1b5XKz7"
      },
      "outputs": [],
      "source": [
        "from together import Together\n",
        "\n",
        "client = Together()"
      ]
    },
    {
      "cell_type": "code",
      "execution_count": null,
      "metadata": {
        "id": "K8OyWzRkJSAw"
      },
      "outputs": [],
      "source": [
        "from tqdm import tqdm"
      ]
    },
    {
      "cell_type": "code",
      "execution_count": null,
      "metadata": {
        "id": "MrJt8LXLahtM"
      },
      "outputs": [],
      "source": [
        "prompt = \"Ты професиональный разметчик с лингвистическим образованием. Внимательно прочитай диалог. Перепишите неполное высказывание на основе истории диалога. Ответ должен содержать только переписанное высказывание\\n\""
      ]
    },
    {
      "cell_type": "code",
      "execution_count": null,
      "metadata": {
        "id": "2HqgVUQNJyEo"
      },
      "outputs": [],
      "source": [
        "MODEL_NAME = \"meta-llama/Llama-3.3-70B-Instruct-Turbo-Free\""
      ]
    },
    {
      "cell_type": "code",
      "execution_count": null,
      "metadata": {
        "colab": {
          "base_uri": "https://localhost:8080/"
        },
        "id": "TfAPfzp8gBSn",
        "outputId": "38828261-0714-4135-aef5-6e0002e766c6"
      },
      "outputs": [
        {
          "data": {
            "text/plain": [
              "{'history': ['Привет.',\n",
              "  'Привет.',\n",
              "  'Как твоё настроение сегодня?',\n",
              "  'Настроение отлично, скоро куплю машину, а твоё настроение как?',\n",
              "  'Здорово, ты скоро купишь машину! У меня тоже настроение на позитиве! Я очень давно хочу в Бразилию, и, кажется, сегодня моя мечта сбудется! Вечером поедем с подругой в турфирму оплачивать наш тур в Бразилию. А у тебя есть мечта?',\n",
              "  'Давно хочу завести лабрадора, прям с детства хочу собаку. Может, когда дочка подрастет заведу себе лабрадора.',\n",
              "  'Моей собаке уже 5 лет, и я даже не представляю, как я могла жить без своей собаки раньше?! Я думаю, что у тебя всё получится и у вас скоро обязательно появится питомец! Ведь собаки такие милые! Что сегодня будешь готовить на ужин?'],\n",
              " 'phrase': 'Сегодня будет мясо с кровью! Вот только надо в магазин... Эх, пойду прогуляюсь под дождём, это успокаивает.',\n",
              " 'rewrite': 'Сегодня на ужин будет мясо с кровью! Вот только надо в магазин... Эх, пойду прогуляюсь под дождём, это успокаивает.'}"
            ]
          },
          "execution_count": 18,
          "metadata": {},
          "output_type": "execute_result"
        }
      ],
      "source": [
        "ds['train'][0]"
      ]
    },
    {
      "cell_type": "code",
      "execution_count": null,
      "metadata": {
        "colab": {
          "base_uri": "https://localhost:8080/"
        },
        "id": "Ae8jE7ByMzPj",
        "outputId": "dc1bd922-6db0-4293-879f-141875d207aa"
      },
      "outputs": [
        {
          "name": "stderr",
          "output_type": "stream",
          "text": [
            "100%|██████████| 551/551 [1:11:38<00:00,  7.80s/it]\n"
          ]
        }
      ],
      "source": [
        "raw_test_results_new = []\n",
        "\n",
        "\n",
        "for i in tqdm(range(len(ds['test']))):\n",
        "    model=MODEL_NAME,\n",
        "    messages = [\n",
        "        {\n",
        "            \"role\": \"system\",\n",
        "            \"content\": prompt\n",
        "        },\n",
        "\n",
        "        {\n",
        "            \"role\": \"user\",\n",
        "            \"content\": \"История: \" + str(ds['train']['history'][0][-1]) + \" Неполное высказвание: \" + ds['train'][\"phrase\"][0]\n",
        "        },\n",
        "        {\n",
        "            \"role\": \"assistant\",\n",
        "            \"content\": ds['train']['rewrite'][0]\n",
        "        },\n",
        "\n",
        "        {\n",
        "            \"role\": \"user\",\n",
        "            \"content\": \"История: \" + str(ds['train']['history'][1][-1]) + \" Неполное высказвание: \" + ds['train'][\"phrase\"][1]\n",
        "        },\n",
        "        {\n",
        "            \"role\": \"assistant\",\n",
        "            \"content\": ds['train']['rewrite'][1]\n",
        "        },\n",
        "\n",
        "        {\n",
        "            \"role\": \"user\",\n",
        "            \"content\": \"История: \" + str(ds['train']['history'][2][-1]) + \" Неполное высказвание: \" + ds['train'][\"phrase\"][2]\n",
        "        },\n",
        "        {\n",
        "            \"role\": \"assistant\",\n",
        "            \"content\": ds['train']['rewrite'][2]\n",
        "        },\n",
        "\n",
        "\n",
        "        {\n",
        "            \"role\": \"user\",\n",
        "            \"content\": \"История: \" + str(ds['test']['history'][i][-1]) + \" Неполное высказвание: \" + ds['test'][\"phrase\"][i]\n",
        "            }\n",
        "        ]\n",
        "\n",
        "\n",
        "    response = client.chat.completions.create(\n",
        "    model=MODEL_NAME,\n",
        "    messages=messages,\n",
        "    temperature=1\n",
        ")\n",
        "    out = response.choices[0].message.content\n",
        "    raw_test_results_new.append(out)"
      ]
    },
    {
      "cell_type": "code",
      "execution_count": null,
      "metadata": {
        "colab": {
          "base_uri": "https://localhost:8080/"
        },
        "id": "5aSQ_KLhXyIR",
        "outputId": "ecff5aa2-bc72-4915-81aa-0e936c922c6d"
      },
      "outputs": [
        {
          "data": {
            "text/plain": [
              "551"
            ]
          },
          "execution_count": 20,
          "metadata": {},
          "output_type": "execute_result"
        }
      ],
      "source": [
        "len(raw_test_results_new)"
      ]
    },
    {
      "cell_type": "code",
      "execution_count": 34,
      "metadata": {
        "colab": {
          "base_uri": "https://localhost:8080/",
          "height": 519
        },
        "id": "2nuqT3IWIGc2",
        "outputId": "3306f362-6433-482a-9f92-1fdac8e38872"
      },
      "outputs": [
        {
          "data": {
            "application/vnd.google.colaboratory.intrinsic+json": {
              "summary": "{\n  \"name\": \"raw_test_results\",\n  \"rows\": 551,\n  \"fields\": [\n    {\n      \"column\": \"model_out_raw\",\n      \"properties\": {\n        \"dtype\": \"string\",\n        \"num_unique_values\": 551,\n        \"samples\": [\n          \"\\u042d\\u0442\\u043e \\u043e\\u0447\\u0435\\u043d\\u044c \\u043a\\u0440\\u0443\\u0442\\u043e! \\u041d\\u0430 \\u0441\\u043a\\u043e\\u043b\\u044c\\u043a\\u043e \\u0431\\u043e\\u043b\\u044c\\u0448\\u0443\\u044e \\u0441\\u0435\\u043c\\u044c\\u044e \\u0442\\u044b \\u0445\\u043e\\u0447\\u0435\\u0448\\u044c, \\u043a\\u043e\\u0433\\u0434\\u0430 \\u0436\\u0435\\u043d\\u0438\\u0442\\u044c\\u0441\\u044f \\u0438 \\u0441\\u043e\\u0437\\u0434\\u0430\\u0448\\u044c \\u0441\\u0432\\u043e\\u044e \\u0441\\u0435\\u043c\\u044c\\u044e?\",\n          \"\\u0423 \\u043c\\u0435\\u043d\\u044f \\u0432\\u0441\\u0451 \\u0445\\u043e\\u0440\\u043e\\u0448\\u043e, \\u0430 \\u0443 \\u0442\\u0435\\u0431\\u044f?\",\n          \"\\u0410\\u0445, \\u043a\\u0430\\u043a \\u044d\\u0442\\u043e \\u043c\\u0438\\u043b\\u043e! \\u041f\\u0440\\u043e\\u0441\\u0442\\u0438, \\u043d\\u043e \\u043c\\u043d\\u0435 \\u043f\\u043e\\u0440\\u0430 \\u043a \\u0441\\u0442\\u043e\\u043c\\u0430\\u0442\\u043e\\u043b\\u043e\\u0433\\u0443, \\u0438 \\u044f \\u0431\\u0443\\u0434\\u0443 \\u043f\\u043e\\u043b\\u0443\\u0447\\u0430\\u0442\\u044c \\u0443\\u0434\\u043e\\u0432\\u043e\\u043b\\u044c\\u0441\\u0442\\u0432\\u0438\\u0435, \\u043f\\u043e\\u0441\\u043a\\u043e\\u043b\\u044c\\u043a\\u0443 \\u043d\\u0438\\u043a\\u043e\\u0433\\u0434\\u0430 \\u043d\\u0435 \\u0431\\u043e\\u044f\\u043b\\u0430\\u0441\\u044c \\u043f\\u043e\\u0441\\u0435\\u0449\\u0435\\u043d\\u0438\\u0439 \\u0441\\u0442\\u043e\\u043c\\u0430\\u0442\\u043e\\u043b\\u043e\\u0433\\u0430.\"\n        ],\n        \"semantic_type\": \"\",\n        \"description\": \"\"\n      }\n    },\n    {\n      \"column\": \"history\",\n      \"properties\": {\n        \"dtype\": \"object\",\n        \"semantic_type\": \"\",\n        \"description\": \"\"\n      }\n    },\n    {\n      \"column\": \"text\",\n      \"properties\": {\n        \"dtype\": \"string\",\n        \"num_unique_values\": 547,\n        \"samples\": [\n          \"\\u041d\\u0435\\u0442, \\u044f \\u0448\\u043a\\u043e\\u043b\\u044c\\u043d\\u0438\\u0446\\u0430.\",\n          \"\\u041a\\u043b\\u0430\\u0441\\u0441, \\u0435\\u0449\\u0451 \\u044f \\u043e\\u0447\\u0435\\u043d\\u044c \\u0445\\u043e\\u0440\\u043e\\u0448\\u043e \\u043f\\u043b\\u0430\\u0432\\u0430\\u044e, \\u0430 \\u0443 \\u0432\\u0430\\u0441 \\u0445\\u043e\\u0431\\u0431\\u0438 \\u0435\\u0441\\u0442\\u044c?\",\n          \"\\u0427\\u0442\\u043e \\u0437\\u0430 \\u0434\\u0435\\u0440\\u0435\\u0432\\u0435\\u043d\\u044c\\u043a\\u0430? \\u0414\\u0430\\u043b\\u0435\\u043a\\u043e \\u043e\\u0442 \\u0433\\u043e\\u0440\\u043e\\u0434\\u0430? \\u0422\\u044b \\u043b\\u044e\\u0431\\u0438\\u0448\\u044c \\u0436\\u0438\\u0432\\u043e\\u0442\\u043d\\u044b\\u0445?\"\n        ],\n        \"semantic_type\": \"\",\n        \"description\": \"\"\n      }\n    },\n    {\n      \"column\": \"restored_text\",\n      \"properties\": {\n        \"dtype\": \"string\",\n        \"num_unique_values\": 551,\n        \"samples\": [\n          \"\\u042d\\u0442\\u043e \\u043e\\u0447\\u0435\\u043d\\u044c \\u043a\\u0440\\u0443\\u0442\\u043e, \\u0447\\u0442\\u043e \\u0442\\u044b \\u0445\\u043e\\u0447\\u0435\\u0448\\u044c \\u0441\\u0434\\u0435\\u043b\\u0430\\u0442\\u044c \\u043f\\u0440\\u0435\\u0434\\u043b\\u043e\\u0436\\u0435\\u043d\\u0438\\u0435 \\u0441\\u0432\\u043e\\u0435\\u0439 \\u0434\\u0435\\u0432\\u0443\\u0448\\u043a\\u0435! \\u041d\\u0430 \\u0441\\u043a\\u043e\\u043b\\u044c\\u043a\\u043e \\u0431\\u043e\\u043b\\u044c\\u0448\\u0443\\u044e \\u0441\\u0435\\u043c\\u044c\\u044e \\u0442\\u044b \\u0445\\u043e\\u0447\\u0435\\u0448\\u044c?\",\n          \"\\u0425\\u043e\\u0440\\u043e\\u0448\\u043e \\u0443 \\u043c\\u0435\\u043d\\u044f \\u0434\\u0435\\u043b\\u0430, \\u0430 \\u0432 \\u0442\\u0435\\u0431\\u044f \\u043a\\u0430\\u043a \\u0434\\u0435\\u043b\\u0430?\",\n          \"\\u0410\\u0445, \\u043a\\u0430\\u043a \\u044d\\u0442\\u043e \\u043c\\u0438\\u043b\\u043e, \\u0447\\u0442\\u043e \\u0432\\u044b \\u0432\\u0441\\u0435\\u0433\\u043e 150 \\u0441\\u043c! \\u041f\\u0440\\u043e\\u0441\\u0442\\u0438, \\u043d\\u043e \\u043c\\u043d\\u0435 \\u043f\\u043e\\u0440\\u0430 \\u043a \\u0441\\u0442\\u043e\\u043c\\u0430\\u0442\\u043e\\u043b\\u043e\\u0433\\u0443. \\u0411\\u0443\\u0434\\u0443 \\u043f\\u043e\\u043b\\u0443\\u0447\\u0430\\u0442\\u044c \\u0443\\u0434\\u043e\\u0432\\u043e\\u043b\\u044c\\u0441\\u0442\\u0432\\u0438\\u0435 \\u0443 \\u0441\\u0442\\u043e\\u043c\\u0430\\u0442\\u043e\\u043b\\u043e\\u0433\\u0430, \\u043d\\u0438\\u043a\\u043e\\u0433\\u0434\\u0430 \\u0438\\u0445 \\u043d\\u0435 \\u0431\\u043e\\u044f\\u043b\\u0430\\u0441\\u044c.\"\n        ],\n        \"semantic_type\": \"\",\n        \"description\": \"\"\n      }\n    }\n  ]\n}",
              "type": "dataframe",
              "variable_name": "raw_test_results"
            },
            "text/html": [
              "\n",
              "  <div id=\"df-8ebab77d-b3c4-4e29-834d-a1b5bee0057a\" class=\"colab-df-container\">\n",
              "    <div>\n",
              "<style scoped>\n",
              "    .dataframe tbody tr th:only-of-type {\n",
              "        vertical-align: middle;\n",
              "    }\n",
              "\n",
              "    .dataframe tbody tr th {\n",
              "        vertical-align: top;\n",
              "    }\n",
              "\n",
              "    .dataframe thead th {\n",
              "        text-align: right;\n",
              "    }\n",
              "</style>\n",
              "<table border=\"1\" class=\"dataframe\">\n",
              "  <thead>\n",
              "    <tr style=\"text-align: right;\">\n",
              "      <th></th>\n",
              "      <th>model_out_raw</th>\n",
              "      <th>history</th>\n",
              "      <th>text</th>\n",
              "      <th>restored_text</th>\n",
              "    </tr>\n",
              "  </thead>\n",
              "  <tbody>\n",
              "    <tr>\n",
              "      <th>0</th>\n",
              "      <td>Я из Твери, а ты откуда?</td>\n",
              "      <td>[Привет., Привет. Откуда ты?]</td>\n",
              "      <td>Я из Твери, а ты?</td>\n",
              "      <td>Я из Твери, а ты откуда?</td>\n",
              "    </tr>\n",
              "    <tr>\n",
              "      <th>1</th>\n",
              "      <td>Да, именно Питерский политех. Жаль, что не в о...</td>\n",
              "      <td>[Привет., Привет! Сколько тебе лет? Ты где-то ...</td>\n",
              "      <td>Да, именно Питерский. Жаль, что не в месте учи...</td>\n",
              "      <td>Да, именно Питерский политех. Жаль, что не вме...</td>\n",
              "    </tr>\n",
              "    <tr>\n",
              "      <th>2</th>\n",
              "      <td>У меня есть семья, но мои дети - это мои песик...</td>\n",
              "      <td>[Приветики! Как дела?, Привет! Всё хорошо, а у...</td>\n",
              "      <td>Мои дети - мои песики. Пока не нашла достойног...</td>\n",
              "      <td>Мои дети - мои песики. Пока не нашла достойног...</td>\n",
              "    </tr>\n",
              "    <tr>\n",
              "      <th>3</th>\n",
              "      <td>Я живу в городе где-то, а какие фрукты ты любишь?</td>\n",
              "      <td>[Привет., Привет., Расскажи о себе., Я собираю...</td>\n",
              "      <td>Где живёшь? В городе где-то? Какие любишь?</td>\n",
              "      <td>Где живёшь? В городе где-то? Какие фрукты любишь?</td>\n",
              "    </tr>\n",
              "    <tr>\n",
              "      <th>4</th>\n",
              "      <td>Да, это самое главное, с какой компанией или к...</td>\n",
              "      <td>[Здравствуй. Как тебе погодка?, Привет, я дума...</td>\n",
              "      <td>Да, это самое главное, с кем ты работаешь?</td>\n",
              "      <td>Да, это самое главное что весна придет через п...</td>\n",
              "    </tr>\n",
              "    <tr>\n",
              "      <th>5</th>\n",
              "      <td>Иногда беру ее с собой на путешествия, а у теб...</td>\n",
              "      <td>[Привет, ты откуда? Я фотограф. Люблю путешест...</td>\n",
              "      <td>Иногда беру ее с собой,  у тебя кто?</td>\n",
              "      <td>Иногда беру дочь с собой в путешествие, а у те...</td>\n",
              "    </tr>\n",
              "    <tr>\n",
              "      <th>6</th>\n",
              "      <td>Я всегда за новые знакомства.</td>\n",
              "      <td>[Добрый вечер, вы не против новых знакомств?]</td>\n",
              "      <td>Я всегда за.</td>\n",
              "      <td>Я всегда за знакомства.</td>\n",
              "    </tr>\n",
              "    <tr>\n",
              "      <th>7</th>\n",
              "      <td>Я певица, а вы чем занимаетесь?</td>\n",
              "      <td>[Привет., Привет, Алла., Чем вы занимаетесь?]</td>\n",
              "      <td>Певица. А вы?</td>\n",
              "      <td>Я певица. А вы чем занимаетесь?</td>\n",
              "    </tr>\n",
              "    <tr>\n",
              "      <th>8</th>\n",
              "      <td>Чтобы не испортить зрение и осанку за компьюте...</td>\n",
              "      <td>[Привет., О, привет! Рад новому знакомству! Ты...</td>\n",
              "      <td>Чтобы не испортить зрение и осанку за компьюте...</td>\n",
              "      <td>Чтобы не испортить зрение и осанку за компьюте...</td>\n",
              "    </tr>\n",
              "    <tr>\n",
              "      <th>9</th>\n",
              "      <td>Да, я и учусь, и работаю.</td>\n",
              "      <td>[Привет., Привет. Как дела?, Отлично у меня де...</td>\n",
              "      <td>Да, и учусь, и работаю.</td>\n",
              "      <td>Да, я и учусь, и работаю.</td>\n",
              "    </tr>\n",
              "  </tbody>\n",
              "</table>\n",
              "</div>\n",
              "    <div class=\"colab-df-buttons\">\n",
              "\n",
              "  <div class=\"colab-df-container\">\n",
              "    <button class=\"colab-df-convert\" onclick=\"convertToInteractive('df-8ebab77d-b3c4-4e29-834d-a1b5bee0057a')\"\n",
              "            title=\"Convert this dataframe to an interactive table.\"\n",
              "            style=\"display:none;\">\n",
              "\n",
              "  <svg xmlns=\"http://www.w3.org/2000/svg\" height=\"24px\" viewBox=\"0 -960 960 960\">\n",
              "    <path d=\"M120-120v-720h720v720H120Zm60-500h600v-160H180v160Zm220 220h160v-160H400v160Zm0 220h160v-160H400v160ZM180-400h160v-160H180v160Zm440 0h160v-160H620v160ZM180-180h160v-160H180v160Zm440 0h160v-160H620v160Z\"/>\n",
              "  </svg>\n",
              "    </button>\n",
              "\n",
              "  <style>\n",
              "    .colab-df-container {\n",
              "      display:flex;\n",
              "      gap: 12px;\n",
              "    }\n",
              "\n",
              "    .colab-df-convert {\n",
              "      background-color: #E8F0FE;\n",
              "      border: none;\n",
              "      border-radius: 50%;\n",
              "      cursor: pointer;\n",
              "      display: none;\n",
              "      fill: #1967D2;\n",
              "      height: 32px;\n",
              "      padding: 0 0 0 0;\n",
              "      width: 32px;\n",
              "    }\n",
              "\n",
              "    .colab-df-convert:hover {\n",
              "      background-color: #E2EBFA;\n",
              "      box-shadow: 0px 1px 2px rgba(60, 64, 67, 0.3), 0px 1px 3px 1px rgba(60, 64, 67, 0.15);\n",
              "      fill: #174EA6;\n",
              "    }\n",
              "\n",
              "    .colab-df-buttons div {\n",
              "      margin-bottom: 4px;\n",
              "    }\n",
              "\n",
              "    [theme=dark] .colab-df-convert {\n",
              "      background-color: #3B4455;\n",
              "      fill: #D2E3FC;\n",
              "    }\n",
              "\n",
              "    [theme=dark] .colab-df-convert:hover {\n",
              "      background-color: #434B5C;\n",
              "      box-shadow: 0px 1px 3px 1px rgba(0, 0, 0, 0.15);\n",
              "      filter: drop-shadow(0px 1px 2px rgba(0, 0, 0, 0.3));\n",
              "      fill: #FFFFFF;\n",
              "    }\n",
              "  </style>\n",
              "\n",
              "    <script>\n",
              "      const buttonEl =\n",
              "        document.querySelector('#df-8ebab77d-b3c4-4e29-834d-a1b5bee0057a button.colab-df-convert');\n",
              "      buttonEl.style.display =\n",
              "        google.colab.kernel.accessAllowed ? 'block' : 'none';\n",
              "\n",
              "      async function convertToInteractive(key) {\n",
              "        const element = document.querySelector('#df-8ebab77d-b3c4-4e29-834d-a1b5bee0057a');\n",
              "        const dataTable =\n",
              "          await google.colab.kernel.invokeFunction('convertToInteractive',\n",
              "                                                    [key], {});\n",
              "        if (!dataTable) return;\n",
              "\n",
              "        const docLinkHtml = 'Like what you see? Visit the ' +\n",
              "          '<a target=\"_blank\" href=https://colab.research.google.com/notebooks/data_table.ipynb>data table notebook</a>'\n",
              "          + ' to learn more about interactive tables.';\n",
              "        element.innerHTML = '';\n",
              "        dataTable['output_type'] = 'display_data';\n",
              "        await google.colab.output.renderOutput(dataTable, element);\n",
              "        const docLink = document.createElement('div');\n",
              "        docLink.innerHTML = docLinkHtml;\n",
              "        element.appendChild(docLink);\n",
              "      }\n",
              "    </script>\n",
              "  </div>\n",
              "\n",
              "\n",
              "    <div id=\"df-a76915db-7a98-4861-820b-5390c6dfac57\">\n",
              "      <button class=\"colab-df-quickchart\" onclick=\"quickchart('df-a76915db-7a98-4861-820b-5390c6dfac57')\"\n",
              "                title=\"Suggest charts\"\n",
              "                style=\"display:none;\">\n",
              "\n",
              "<svg xmlns=\"http://www.w3.org/2000/svg\" height=\"24px\"viewBox=\"0 0 24 24\"\n",
              "     width=\"24px\">\n",
              "    <g>\n",
              "        <path d=\"M19 3H5c-1.1 0-2 .9-2 2v14c0 1.1.9 2 2 2h14c1.1 0 2-.9 2-2V5c0-1.1-.9-2-2-2zM9 17H7v-7h2v7zm4 0h-2V7h2v10zm4 0h-2v-4h2v4z\"/>\n",
              "    </g>\n",
              "</svg>\n",
              "      </button>\n",
              "\n",
              "<style>\n",
              "  .colab-df-quickchart {\n",
              "      --bg-color: #E8F0FE;\n",
              "      --fill-color: #1967D2;\n",
              "      --hover-bg-color: #E2EBFA;\n",
              "      --hover-fill-color: #174EA6;\n",
              "      --disabled-fill-color: #AAA;\n",
              "      --disabled-bg-color: #DDD;\n",
              "  }\n",
              "\n",
              "  [theme=dark] .colab-df-quickchart {\n",
              "      --bg-color: #3B4455;\n",
              "      --fill-color: #D2E3FC;\n",
              "      --hover-bg-color: #434B5C;\n",
              "      --hover-fill-color: #FFFFFF;\n",
              "      --disabled-bg-color: #3B4455;\n",
              "      --disabled-fill-color: #666;\n",
              "  }\n",
              "\n",
              "  .colab-df-quickchart {\n",
              "    background-color: var(--bg-color);\n",
              "    border: none;\n",
              "    border-radius: 50%;\n",
              "    cursor: pointer;\n",
              "    display: none;\n",
              "    fill: var(--fill-color);\n",
              "    height: 32px;\n",
              "    padding: 0;\n",
              "    width: 32px;\n",
              "  }\n",
              "\n",
              "  .colab-df-quickchart:hover {\n",
              "    background-color: var(--hover-bg-color);\n",
              "    box-shadow: 0 1px 2px rgba(60, 64, 67, 0.3), 0 1px 3px 1px rgba(60, 64, 67, 0.15);\n",
              "    fill: var(--button-hover-fill-color);\n",
              "  }\n",
              "\n",
              "  .colab-df-quickchart-complete:disabled,\n",
              "  .colab-df-quickchart-complete:disabled:hover {\n",
              "    background-color: var(--disabled-bg-color);\n",
              "    fill: var(--disabled-fill-color);\n",
              "    box-shadow: none;\n",
              "  }\n",
              "\n",
              "  .colab-df-spinner {\n",
              "    border: 2px solid var(--fill-color);\n",
              "    border-color: transparent;\n",
              "    border-bottom-color: var(--fill-color);\n",
              "    animation:\n",
              "      spin 1s steps(1) infinite;\n",
              "  }\n",
              "\n",
              "  @keyframes spin {\n",
              "    0% {\n",
              "      border-color: transparent;\n",
              "      border-bottom-color: var(--fill-color);\n",
              "      border-left-color: var(--fill-color);\n",
              "    }\n",
              "    20% {\n",
              "      border-color: transparent;\n",
              "      border-left-color: var(--fill-color);\n",
              "      border-top-color: var(--fill-color);\n",
              "    }\n",
              "    30% {\n",
              "      border-color: transparent;\n",
              "      border-left-color: var(--fill-color);\n",
              "      border-top-color: var(--fill-color);\n",
              "      border-right-color: var(--fill-color);\n",
              "    }\n",
              "    40% {\n",
              "      border-color: transparent;\n",
              "      border-right-color: var(--fill-color);\n",
              "      border-top-color: var(--fill-color);\n",
              "    }\n",
              "    60% {\n",
              "      border-color: transparent;\n",
              "      border-right-color: var(--fill-color);\n",
              "    }\n",
              "    80% {\n",
              "      border-color: transparent;\n",
              "      border-right-color: var(--fill-color);\n",
              "      border-bottom-color: var(--fill-color);\n",
              "    }\n",
              "    90% {\n",
              "      border-color: transparent;\n",
              "      border-bottom-color: var(--fill-color);\n",
              "    }\n",
              "  }\n",
              "</style>\n",
              "\n",
              "      <script>\n",
              "        async function quickchart(key) {\n",
              "          const quickchartButtonEl =\n",
              "            document.querySelector('#' + key + ' button');\n",
              "          quickchartButtonEl.disabled = true;  // To prevent multiple clicks.\n",
              "          quickchartButtonEl.classList.add('colab-df-spinner');\n",
              "          try {\n",
              "            const charts = await google.colab.kernel.invokeFunction(\n",
              "                'suggestCharts', [key], {});\n",
              "          } catch (error) {\n",
              "            console.error('Error during call to suggestCharts:', error);\n",
              "          }\n",
              "          quickchartButtonEl.classList.remove('colab-df-spinner');\n",
              "          quickchartButtonEl.classList.add('colab-df-quickchart-complete');\n",
              "        }\n",
              "        (() => {\n",
              "          let quickchartButtonEl =\n",
              "            document.querySelector('#df-a76915db-7a98-4861-820b-5390c6dfac57 button');\n",
              "          quickchartButtonEl.style.display =\n",
              "            google.colab.kernel.accessAllowed ? 'block' : 'none';\n",
              "        })();\n",
              "      </script>\n",
              "    </div>\n",
              "    </div>\n",
              "  </div>\n"
            ],
            "text/plain": [
              "                                       model_out_raw  \\\n",
              "0                           Я из Твери, а ты откуда?   \n",
              "1  Да, именно Питерский политех. Жаль, что не в о...   \n",
              "2  У меня есть семья, но мои дети - это мои песик...   \n",
              "3  Я живу в городе где-то, а какие фрукты ты любишь?   \n",
              "4  Да, это самое главное, с какой компанией или к...   \n",
              "5  Иногда беру ее с собой на путешествия, а у теб...   \n",
              "6                      Я всегда за новые знакомства.   \n",
              "7                    Я певица, а вы чем занимаетесь?   \n",
              "8  Чтобы не испортить зрение и осанку за компьюте...   \n",
              "9                          Да, я и учусь, и работаю.   \n",
              "\n",
              "                                             history  \\\n",
              "0                      [Привет., Привет. Откуда ты?]   \n",
              "1  [Привет., Привет! Сколько тебе лет? Ты где-то ...   \n",
              "2  [Приветики! Как дела?, Привет! Всё хорошо, а у...   \n",
              "3  [Привет., Привет., Расскажи о себе., Я собираю...   \n",
              "4  [Здравствуй. Как тебе погодка?, Привет, я дума...   \n",
              "5  [Привет, ты откуда? Я фотограф. Люблю путешест...   \n",
              "6      [Добрый вечер, вы не против новых знакомств?]   \n",
              "7      [Привет., Привет, Алла., Чем вы занимаетесь?]   \n",
              "8  [Привет., О, привет! Рад новому знакомству! Ты...   \n",
              "9  [Привет., Привет. Как дела?, Отлично у меня де...   \n",
              "\n",
              "                                                text  \\\n",
              "0                                  Я из Твери, а ты?   \n",
              "1  Да, именно Питерский. Жаль, что не в месте учи...   \n",
              "2  Мои дети - мои песики. Пока не нашла достойног...   \n",
              "3         Где живёшь? В городе где-то? Какие любишь?   \n",
              "4         Да, это самое главное, с кем ты работаешь?   \n",
              "5               Иногда беру ее с собой,  у тебя кто?   \n",
              "6                                       Я всегда за.   \n",
              "7                                      Певица. А вы?   \n",
              "8  Чтобы не испортить зрение и осанку за компьюте...   \n",
              "9                            Да, и учусь, и работаю.   \n",
              "\n",
              "                                       restored_text  \n",
              "0                           Я из Твери, а ты откуда?  \n",
              "1  Да, именно Питерский политех. Жаль, что не вме...  \n",
              "2  Мои дети - мои песики. Пока не нашла достойног...  \n",
              "3  Где живёшь? В городе где-то? Какие фрукты любишь?  \n",
              "4  Да, это самое главное что весна придет через п...  \n",
              "5  Иногда беру дочь с собой в путешествие, а у те...  \n",
              "6                            Я всегда за знакомства.  \n",
              "7                    Я певица. А вы чем занимаетесь?  \n",
              "8  Чтобы не испортить зрение и осанку за компьюте...  \n",
              "9                          Да, я и учусь, и работаю.  "
            ]
          },
          "execution_count": 34,
          "metadata": {},
          "output_type": "execute_result"
        }
      ],
      "source": [
        "import pandas as pd\n",
        "\n",
        "raw_test_results = pd.DataFrame(raw_test_results_new, columns=['model_out_raw'])\n",
        "\n",
        "raw_test_results['history'] = ds['test']['history']\n",
        "raw_test_results['text'] = ds['test']['phrase']\n",
        "raw_test_results['restored_text'] = ds['test']['rewrite']\n",
        "\n",
        "raw_test_results.head(10)"
      ]
    },
    {
      "cell_type": "code",
      "execution_count": 35,
      "metadata": {
        "id": "S2DOTmaUgiH0"
      },
      "outputs": [],
      "source": [
        "raw_test_results.to_csv(f\"{MODEL_NAME.split('/')[-1]}_raw_test_results.csv\")"
      ]
    },
    {
      "cell_type": "code",
      "execution_count": 36,
      "metadata": {
        "id": "tp-Ix19fFJIy"
      },
      "outputs": [],
      "source": [
        "!pip install evaluate rouge_metric -q\n",
        "!pip install sacrebleu -q"
      ]
    },
    {
      "cell_type": "code",
      "execution_count": 37,
      "metadata": {
        "id": "PVOSJzhSPvCX"
      },
      "outputs": [],
      "source": [
        "import numpy as np\n",
        "import evaluate\n",
        "from rouge_metric import PyRouge\n",
        "\n",
        "bleu = evaluate.load(\"sacrebleu\")\n",
        "rouge = PyRouge(rouge_n=(4), skip_gap=4)\n",
        "\n",
        "\n",
        "class RestorationFScore:\n",
        "\n",
        "    def __init__(self, n_gram: int=2):\n",
        "        self.n_gram = n_gram\n",
        "        self.tokenizer = tokenizer\n",
        "\n",
        "    def preprocess(self, sents):\n",
        "        for sent in sents:\n",
        "            sent_tokenize = self.tokenizer.encode(sent)\n",
        "            yield [tuple(sent_tokenize[i:i+self.n_gram]) for i, _ in enumerate(sent_tokenize)]\n",
        "\n",
        "    def _itereval(self):\n",
        "        for i, predictions in enumerate(self.predictions):\n",
        "            restored_ngrams = set(predictions).difference(self.references[i])\n",
        "            ngrams_in_ref = set(self.rewrites[i]).difference(self.references[i])\n",
        "            interagree = ngrams_in_ref.intersection(restored_ngrams)\n",
        "            if len(restored_ngrams):\n",
        "                precision = len(interagree) / len(restored_ngrams)\n",
        "            else:\n",
        "                precision = 0.\n",
        "            if len(ngrams_in_ref):\n",
        "                recall = len(interagree) / len(ngrams_in_ref)\n",
        "            else:\n",
        "                recall = 0.\n",
        "            if precision or recall:\n",
        "                yield 2 * ((precision * recall) / (precision + recall))\n",
        "            else:\n",
        "                yield 0.\n",
        "\n",
        "    def evaluate(self, predictions: list,\n",
        "                 references: list, rewrites: list):\n",
        "        self.predictions = [p for p in self.preprocess(predictions)]\n",
        "        self.references = [p for p in self.preprocess(references)]\n",
        "        self.rewrites = [p for p in self.preprocess(rewrites)]\n",
        "        return np.mean(list(self._itereval()))"
      ]
    },
    {
      "cell_type": "code",
      "execution_count": 38,
      "metadata": {
        "id": "t-Kd1EmBXF8G"
      },
      "outputs": [],
      "source": [
        "def callculate_metrics(row):\n",
        "    row[\"bleu_score\"] = bleu.compute(predictions=row.model_out_raw,\n",
        "                                     references=row.text)['score']\n",
        "\n",
        "    rouge_scores = rouge.evaluate(row.model_out_raw,\n",
        "                                  [[t] for t in row.text])\n",
        "    for k in rouge_scores:\n",
        "        row[k] = rouge_scores[k]['f']\n",
        "\n",
        "    for n in range(1, 5):\n",
        "        rf_score = RestorationFScore(n)\n",
        "        row[f\"rf_score_{n}\"] = rf_score.evaluate(predictions=row.model_out_raw,\n",
        "                                                 references=row.text,\n",
        "                                                 rewrites=row.restored_text)\n",
        "    return row"
      ]
    },
    {
      "cell_type": "code",
      "execution_count": 39,
      "metadata": {
        "id": "Mrgz3kX9e5mB"
      },
      "outputs": [],
      "source": [
        "raw_test_results[\"type\"] = \"2rca\"\n",
        "raw_test_results = raw_test_results.groupby(by=\"type\").agg(list)"
      ]
    },
    {
      "cell_type": "code",
      "execution_count": 40,
      "metadata": {
        "id": "VAVVconEXnlI"
      },
      "outputs": [],
      "source": [
        "from transformers import AutoTokenizer\n",
        "\n",
        "tokenizer = AutoTokenizer.from_pretrained(\"unsloth/Llama-3.3-70B-Instruct\")"
      ]
    },
    {
      "cell_type": "code",
      "execution_count": 41,
      "metadata": {
        "colab": {
          "base_uri": "https://localhost:8080/",
          "height": 112
        },
        "id": "yGh7lQylnXRa",
        "outputId": "bdb95d81-5e7e-4466-ca86-d1a2cb2e4749"
      },
      "outputs": [
        {
          "data": {
            "application/vnd.google.colaboratory.intrinsic+json": {
              "summary": "{\n  \"name\": \"raw_test_results\",\n  \"rows\": 1,\n  \"fields\": [\n    {\n      \"column\": \"type\",\n      \"properties\": {\n        \"dtype\": \"string\",\n        \"num_unique_values\": 1,\n        \"samples\": [\n          \"2rca\"\n        ],\n        \"semantic_type\": \"\",\n        \"description\": \"\"\n      }\n    },\n    {\n      \"column\": \"bleu_score\",\n      \"properties\": {\n        \"dtype\": \"number\",\n        \"std\": null,\n        \"min\": 51.33649648701347,\n        \"max\": 51.33649648701347,\n        \"num_unique_values\": 1,\n        \"samples\": [\n          51.33649648701347\n        ],\n        \"semantic_type\": \"\",\n        \"description\": \"\"\n      }\n    },\n    {\n      \"column\": \"rouge-1\",\n      \"properties\": {\n        \"dtype\": \"number\",\n        \"std\": null,\n        \"min\": 0.58556925187406,\n        \"max\": 0.58556925187406,\n        \"num_unique_values\": 1,\n        \"samples\": [\n          0.58556925187406\n        ],\n        \"semantic_type\": \"\",\n        \"description\": \"\"\n      }\n    },\n    {\n      \"column\": \"rouge-2\",\n      \"properties\": {\n        \"dtype\": \"number\",\n        \"std\": null,\n        \"min\": 0.4359346347122869,\n        \"max\": 0.4359346347122869,\n        \"num_unique_values\": 1,\n        \"samples\": [\n          0.4359346347122869\n        ],\n        \"semantic_type\": \"\",\n        \"description\": \"\"\n      }\n    },\n    {\n      \"column\": \"rouge-3\",\n      \"properties\": {\n        \"dtype\": \"number\",\n        \"std\": null,\n        \"min\": 0.33918529583884066,\n        \"max\": 0.33918529583884066,\n        \"num_unique_values\": 1,\n        \"samples\": [\n          0.33918529583884066\n        ],\n        \"semantic_type\": \"\",\n        \"description\": \"\"\n      }\n    },\n    {\n      \"column\": \"rouge-4\",\n      \"properties\": {\n        \"dtype\": \"number\",\n        \"std\": null,\n        \"min\": 0.2637488312671239,\n        \"max\": 0.2637488312671239,\n        \"num_unique_values\": 1,\n        \"samples\": [\n          0.2637488312671239\n        ],\n        \"semantic_type\": \"\",\n        \"description\": \"\"\n      }\n    },\n    {\n      \"column\": \"rouge-l\",\n      \"properties\": {\n        \"dtype\": \"number\",\n        \"std\": null,\n        \"min\": 0.5828134268118639,\n        \"max\": 0.5828134268118639,\n        \"num_unique_values\": 1,\n        \"samples\": [\n          0.5828134268118639\n        ],\n        \"semantic_type\": \"\",\n        \"description\": \"\"\n      }\n    },\n    {\n      \"column\": \"rf_score_1\",\n      \"properties\": {\n        \"dtype\": \"number\",\n        \"std\": null,\n        \"min\": 0.3425908448771937,\n        \"max\": 0.3425908448771937,\n        \"num_unique_values\": 1,\n        \"samples\": [\n          0.3425908448771937\n        ],\n        \"semantic_type\": \"\",\n        \"description\": \"\"\n      }\n    },\n    {\n      \"column\": \"rf_score_2\",\n      \"properties\": {\n        \"dtype\": \"number\",\n        \"std\": null,\n        \"min\": 0.24980335606571202,\n        \"max\": 0.24980335606571202,\n        \"num_unique_values\": 1,\n        \"samples\": [\n          0.24980335606571202\n        ],\n        \"semantic_type\": \"\",\n        \"description\": \"\"\n      }\n    },\n    {\n      \"column\": \"rf_score_3\",\n      \"properties\": {\n        \"dtype\": \"number\",\n        \"std\": null,\n        \"min\": 0.20142136041367342,\n        \"max\": 0.20142136041367342,\n        \"num_unique_values\": 1,\n        \"samples\": [\n          0.20142136041367342\n        ],\n        \"semantic_type\": \"\",\n        \"description\": \"\"\n      }\n    },\n    {\n      \"column\": \"rf_score_4\",\n      \"properties\": {\n        \"dtype\": \"number\",\n        \"std\": null,\n        \"min\": 0.17319548570221877,\n        \"max\": 0.17319548570221877,\n        \"num_unique_values\": 1,\n        \"samples\": [\n          0.17319548570221877\n        ],\n        \"semantic_type\": \"\",\n        \"description\": \"\"\n      }\n    }\n  ]\n}",
              "type": "dataframe"
            },
            "text/html": [
              "\n",
              "  <div id=\"df-6e75a4e3-b3c4-4cb9-8829-3271abdaa383\" class=\"colab-df-container\">\n",
              "    <div>\n",
              "<style scoped>\n",
              "    .dataframe tbody tr th:only-of-type {\n",
              "        vertical-align: middle;\n",
              "    }\n",
              "\n",
              "    .dataframe tbody tr th {\n",
              "        vertical-align: top;\n",
              "    }\n",
              "\n",
              "    .dataframe thead th {\n",
              "        text-align: right;\n",
              "    }\n",
              "</style>\n",
              "<table border=\"1\" class=\"dataframe\">\n",
              "  <thead>\n",
              "    <tr style=\"text-align: right;\">\n",
              "      <th></th>\n",
              "      <th>bleu_score</th>\n",
              "      <th>rouge-1</th>\n",
              "      <th>rouge-2</th>\n",
              "      <th>rouge-3</th>\n",
              "      <th>rouge-4</th>\n",
              "      <th>rouge-l</th>\n",
              "      <th>rf_score_1</th>\n",
              "      <th>rf_score_2</th>\n",
              "      <th>rf_score_3</th>\n",
              "      <th>rf_score_4</th>\n",
              "    </tr>\n",
              "    <tr>\n",
              "      <th>type</th>\n",
              "      <th></th>\n",
              "      <th></th>\n",
              "      <th></th>\n",
              "      <th></th>\n",
              "      <th></th>\n",
              "      <th></th>\n",
              "      <th></th>\n",
              "      <th></th>\n",
              "      <th></th>\n",
              "      <th></th>\n",
              "    </tr>\n",
              "  </thead>\n",
              "  <tbody>\n",
              "    <tr>\n",
              "      <th>2rca</th>\n",
              "      <td>51.336496</td>\n",
              "      <td>0.585569</td>\n",
              "      <td>0.435935</td>\n",
              "      <td>0.339185</td>\n",
              "      <td>0.263749</td>\n",
              "      <td>0.582813</td>\n",
              "      <td>0.342591</td>\n",
              "      <td>0.249803</td>\n",
              "      <td>0.201421</td>\n",
              "      <td>0.173195</td>\n",
              "    </tr>\n",
              "  </tbody>\n",
              "</table>\n",
              "</div>\n",
              "    <div class=\"colab-df-buttons\">\n",
              "\n",
              "  <div class=\"colab-df-container\">\n",
              "    <button class=\"colab-df-convert\" onclick=\"convertToInteractive('df-6e75a4e3-b3c4-4cb9-8829-3271abdaa383')\"\n",
              "            title=\"Convert this dataframe to an interactive table.\"\n",
              "            style=\"display:none;\">\n",
              "\n",
              "  <svg xmlns=\"http://www.w3.org/2000/svg\" height=\"24px\" viewBox=\"0 -960 960 960\">\n",
              "    <path d=\"M120-120v-720h720v720H120Zm60-500h600v-160H180v160Zm220 220h160v-160H400v160Zm0 220h160v-160H400v160ZM180-400h160v-160H180v160Zm440 0h160v-160H620v160ZM180-180h160v-160H180v160Zm440 0h160v-160H620v160Z\"/>\n",
              "  </svg>\n",
              "    </button>\n",
              "\n",
              "  <style>\n",
              "    .colab-df-container {\n",
              "      display:flex;\n",
              "      gap: 12px;\n",
              "    }\n",
              "\n",
              "    .colab-df-convert {\n",
              "      background-color: #E8F0FE;\n",
              "      border: none;\n",
              "      border-radius: 50%;\n",
              "      cursor: pointer;\n",
              "      display: none;\n",
              "      fill: #1967D2;\n",
              "      height: 32px;\n",
              "      padding: 0 0 0 0;\n",
              "      width: 32px;\n",
              "    }\n",
              "\n",
              "    .colab-df-convert:hover {\n",
              "      background-color: #E2EBFA;\n",
              "      box-shadow: 0px 1px 2px rgba(60, 64, 67, 0.3), 0px 1px 3px 1px rgba(60, 64, 67, 0.15);\n",
              "      fill: #174EA6;\n",
              "    }\n",
              "\n",
              "    .colab-df-buttons div {\n",
              "      margin-bottom: 4px;\n",
              "    }\n",
              "\n",
              "    [theme=dark] .colab-df-convert {\n",
              "      background-color: #3B4455;\n",
              "      fill: #D2E3FC;\n",
              "    }\n",
              "\n",
              "    [theme=dark] .colab-df-convert:hover {\n",
              "      background-color: #434B5C;\n",
              "      box-shadow: 0px 1px 3px 1px rgba(0, 0, 0, 0.15);\n",
              "      filter: drop-shadow(0px 1px 2px rgba(0, 0, 0, 0.3));\n",
              "      fill: #FFFFFF;\n",
              "    }\n",
              "  </style>\n",
              "\n",
              "    <script>\n",
              "      const buttonEl =\n",
              "        document.querySelector('#df-6e75a4e3-b3c4-4cb9-8829-3271abdaa383 button.colab-df-convert');\n",
              "      buttonEl.style.display =\n",
              "        google.colab.kernel.accessAllowed ? 'block' : 'none';\n",
              "\n",
              "      async function convertToInteractive(key) {\n",
              "        const element = document.querySelector('#df-6e75a4e3-b3c4-4cb9-8829-3271abdaa383');\n",
              "        const dataTable =\n",
              "          await google.colab.kernel.invokeFunction('convertToInteractive',\n",
              "                                                    [key], {});\n",
              "        if (!dataTable) return;\n",
              "\n",
              "        const docLinkHtml = 'Like what you see? Visit the ' +\n",
              "          '<a target=\"_blank\" href=https://colab.research.google.com/notebooks/data_table.ipynb>data table notebook</a>'\n",
              "          + ' to learn more about interactive tables.';\n",
              "        element.innerHTML = '';\n",
              "        dataTable['output_type'] = 'display_data';\n",
              "        await google.colab.output.renderOutput(dataTable, element);\n",
              "        const docLink = document.createElement('div');\n",
              "        docLink.innerHTML = docLinkHtml;\n",
              "        element.appendChild(docLink);\n",
              "      }\n",
              "    </script>\n",
              "  </div>\n",
              "\n",
              "    </div>\n",
              "  </div>\n"
            ],
            "text/plain": [
              "      bleu_score   rouge-1   rouge-2   rouge-3   rouge-4   rouge-l  \\\n",
              "type                                                                 \n",
              "2rca   51.336496  0.585569  0.435935  0.339185  0.263749  0.582813   \n",
              "\n",
              "      rf_score_1  rf_score_2  rf_score_3  rf_score_4  \n",
              "type                                                  \n",
              "2rca    0.342591    0.249803    0.201421    0.173195  "
            ]
          },
          "execution_count": 41,
          "metadata": {},
          "output_type": "execute_result"
        }
      ],
      "source": [
        "raw_test_results.apply(callculate_metrics, axis=1).drop(columns=[\"model_out_raw\", \"history\", \"text\", \"restored_text\"])"
      ]
    },
    {
      "cell_type": "code",
      "execution_count": null,
      "metadata": {
        "id": "zL4YoTqZnXN6"
      },
      "outputs": [],
      "source": []
    }
  ],
  "metadata": {
    "colab": {
      "provenance": []
    },
    "kernelspec": {
      "display_name": "Python 3",
      "name": "python3"
    },
    "language_info": {
      "name": "python"
    }
  },
  "nbformat": 4,
  "nbformat_minor": 0
}
