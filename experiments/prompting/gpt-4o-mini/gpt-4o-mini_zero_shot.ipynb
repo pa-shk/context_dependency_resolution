{
  "cells": [
    {
      "cell_type": "code",
      "execution_count": 1,
      "metadata": {
        "colab": {
          "base_uri": "https://localhost:8080/"
        },
        "id": "7Cieo3UAJq5U",
        "outputId": "e7cbffcf-918a-4381-f99e-5a0de2361f95"
      },
      "outputs": [
        {
          "name": "stdout",
          "output_type": "stream",
          "text": [
            "Requirement already satisfied: datasets in /usr/local/lib/python3.11/dist-packages (2.14.4)\n",
            "Requirement already satisfied: numpy>=1.17 in /usr/local/lib/python3.11/dist-packages (from datasets) (2.0.2)\n",
            "Requirement already satisfied: pyarrow>=8.0.0 in /usr/local/lib/python3.11/dist-packages (from datasets) (18.1.0)\n",
            "Requirement already satisfied: dill<0.3.8,>=0.3.0 in /usr/local/lib/python3.11/dist-packages (from datasets) (0.3.7)\n",
            "Requirement already satisfied: pandas in /usr/local/lib/python3.11/dist-packages (from datasets) (2.2.2)\n",
            "Requirement already satisfied: requests>=2.19.0 in /usr/local/lib/python3.11/dist-packages (from datasets) (2.32.3)\n",
            "Requirement already satisfied: tqdm>=4.62.1 in /usr/local/lib/python3.11/dist-packages (from datasets) (4.67.1)\n",
            "Requirement already satisfied: xxhash in /usr/local/lib/python3.11/dist-packages (from datasets) (3.5.0)\n",
            "Requirement already satisfied: multiprocess in /usr/local/lib/python3.11/dist-packages (from datasets) (0.70.15)\n",
            "Requirement already satisfied: fsspec>=2021.11.1 in /usr/local/lib/python3.11/dist-packages (from fsspec[http]>=2021.11.1->datasets) (2025.3.2)\n",
            "Requirement already satisfied: aiohttp in /usr/local/lib/python3.11/dist-packages (from datasets) (3.11.15)\n",
            "Requirement already satisfied: huggingface-hub<1.0.0,>=0.14.0 in /usr/local/lib/python3.11/dist-packages (from datasets) (0.31.1)\n",
            "Requirement already satisfied: packaging in /usr/local/lib/python3.11/dist-packages (from datasets) (24.2)\n",
            "Requirement already satisfied: pyyaml>=5.1 in /usr/local/lib/python3.11/dist-packages (from datasets) (6.0.2)\n",
            "Requirement already satisfied: aiohappyeyeballs>=2.3.0 in /usr/local/lib/python3.11/dist-packages (from aiohttp->datasets) (2.6.1)\n",
            "Requirement already satisfied: aiosignal>=1.1.2 in /usr/local/lib/python3.11/dist-packages (from aiohttp->datasets) (1.3.2)\n",
            "Requirement already satisfied: attrs>=17.3.0 in /usr/local/lib/python3.11/dist-packages (from aiohttp->datasets) (25.3.0)\n",
            "Requirement already satisfied: frozenlist>=1.1.1 in /usr/local/lib/python3.11/dist-packages (from aiohttp->datasets) (1.6.0)\n",
            "Requirement already satisfied: multidict<7.0,>=4.5 in /usr/local/lib/python3.11/dist-packages (from aiohttp->datasets) (6.4.3)\n",
            "Requirement already satisfied: propcache>=0.2.0 in /usr/local/lib/python3.11/dist-packages (from aiohttp->datasets) (0.3.1)\n",
            "Requirement already satisfied: yarl<2.0,>=1.17.0 in /usr/local/lib/python3.11/dist-packages (from aiohttp->datasets) (1.20.0)\n",
            "Requirement already satisfied: filelock in /usr/local/lib/python3.11/dist-packages (from huggingface-hub<1.0.0,>=0.14.0->datasets) (3.18.0)\n",
            "Requirement already satisfied: typing-extensions>=3.7.4.3 in /usr/local/lib/python3.11/dist-packages (from huggingface-hub<1.0.0,>=0.14.0->datasets) (4.13.2)\n",
            "Requirement already satisfied: hf-xet<2.0.0,>=1.1.0 in /usr/local/lib/python3.11/dist-packages (from huggingface-hub<1.0.0,>=0.14.0->datasets) (1.1.0)\n",
            "Requirement already satisfied: charset-normalizer<4,>=2 in /usr/local/lib/python3.11/dist-packages (from requests>=2.19.0->datasets) (3.4.2)\n",
            "Requirement already satisfied: idna<4,>=2.5 in /usr/local/lib/python3.11/dist-packages (from requests>=2.19.0->datasets) (3.10)\n",
            "Requirement already satisfied: urllib3<3,>=1.21.1 in /usr/local/lib/python3.11/dist-packages (from requests>=2.19.0->datasets) (2.4.0)\n",
            "Requirement already satisfied: certifi>=2017.4.17 in /usr/local/lib/python3.11/dist-packages (from requests>=2.19.0->datasets) (2025.4.26)\n",
            "Requirement already satisfied: python-dateutil>=2.8.2 in /usr/local/lib/python3.11/dist-packages (from pandas->datasets) (2.9.0.post0)\n",
            "Requirement already satisfied: pytz>=2020.1 in /usr/local/lib/python3.11/dist-packages (from pandas->datasets) (2025.2)\n",
            "Requirement already satisfied: tzdata>=2022.7 in /usr/local/lib/python3.11/dist-packages (from pandas->datasets) (2025.2)\n",
            "Requirement already satisfied: six>=1.5 in /usr/local/lib/python3.11/dist-packages (from python-dateutil>=2.8.2->pandas->datasets) (1.17.0)\n"
          ]
        }
      ],
      "source": [
        "!pip install datasets"
      ]
    },
    {
      "cell_type": "code",
      "execution_count": 2,
      "metadata": {
        "id": "VG3WPtgGDFwp"
      },
      "outputs": [],
      "source": [
        "import json\n",
        "import pandas as pd\n",
        "\n",
        "\n",
        "from transformers import AutoModelForCausalLM, AutoTokenizer"
      ]
    },
    {
      "cell_type": "markdown",
      "metadata": {
        "id": "Q9voUMEu_8yt"
      },
      "source": [
        "## Data loading"
      ]
    },
    {
      "cell_type": "code",
      "execution_count": 3,
      "metadata": {
        "id": "shLnd35KvbyL"
      },
      "outputs": [],
      "source": [
        "!wget https://github.com/anna-a-m/dataset-2rca/raw/refs/heads/main/data/2rca_checked_version.json -q"
      ]
    },
    {
      "cell_type": "code",
      "execution_count": 4,
      "metadata": {
        "id": "V_o7oSOPv3s8"
      },
      "outputs": [],
      "source": [
        "with open('2rca_checked_version.json') as f:\n",
        "    data = json.load(f)"
      ]
    },
    {
      "cell_type": "markdown",
      "metadata": {
        "id": "AJ35eu-RAGpo"
      },
      "source": [
        "## Data samples"
      ]
    },
    {
      "cell_type": "code",
      "execution_count": 5,
      "metadata": {
        "colab": {
          "base_uri": "https://localhost:8080/"
        },
        "id": "AblSvXitzUji",
        "outputId": "ae9de4ae-6e68-4e32-ba42-8b5398774f33"
      },
      "outputs": [
        {
          "data": {
            "text/plain": [
              "{'History': ['Привет, расскажи о себе.',\n",
              "  'Привет! Под вкусный кофеек настроение поболтать появилось.'],\n",
              " 'Dia_ID_hash': 'dia_628e79cf',\n",
              " 'Utt_ID_hash': 'utt_64c12a9b',\n",
              " 'Phrase': 'Что читаешь? Мне нравится классика. Я тоже люблю пообщаться.',\n",
              " 'Rewrite': 'Что читаешь? Мне нравится читать классику. Я тоже люблю пообщаться.'}"
            ]
          },
          "execution_count": 5,
          "metadata": {},
          "output_type": "execute_result"
        }
      ],
      "source": [
        "data[0]"
      ]
    },
    {
      "cell_type": "code",
      "execution_count": 6,
      "metadata": {
        "colab": {
          "base_uri": "https://localhost:8080/"
        },
        "id": "4cihR2B-zZ6i",
        "outputId": "3a640255-e1ef-4176-8467-f44e11719896"
      },
      "outputs": [
        {
          "data": {
            "text/plain": [
              "{'History': ['Привет, расскажи о себе.',\n",
              "  'Привет! Под вкусный кофеек настроение поболтать появилось.',\n",
              "  'Что читаешь? Мне нравится читать классику. Я тоже люблю пообщаться.'],\n",
              " 'Dia_ID_hash': 'dia_628e79cf',\n",
              " 'Utt_ID_hash': 'utt_5cd9dc06',\n",
              " 'Phrase': 'Люблю животных, просто обожаю, как и свою работу. Я фантастику люблю.',\n",
              " 'Rewrite': 'Люблю животных, просто обожаю, как и свою работу. Я фантастику читать люблю.'}"
            ]
          },
          "execution_count": 6,
          "metadata": {},
          "output_type": "execute_result"
        }
      ],
      "source": [
        "data[1]"
      ]
    },
    {
      "cell_type": "code",
      "execution_count": 7,
      "metadata": {
        "colab": {
          "base_uri": "https://localhost:8080/"
        },
        "id": "Oqn-3_Lqzcx1",
        "outputId": "e2ad3a2e-952d-4554-d5cb-70d9b1fb9101"
      },
      "outputs": [
        {
          "data": {
            "text/plain": [
              "{'History': ['Привет, расскажи о себе.',\n",
              "  'Привет! Под вкусный кофеек настроение поболтать появилось.',\n",
              "  'Что читаешь? Мне нравится читать классику. Я тоже люблю пообщаться.',\n",
              "  'Люблю животных, просто обожаю, как и свою работу. Я фантастику читать люблю.',\n",
              "  'А я выращиваю фиалки и веду здоровый и активный образ жизни.'],\n",
              " 'Dia_ID_hash': 'dia_628e79cf',\n",
              " 'Utt_ID_hash': 'utt_9d73f6c2',\n",
              " 'Phrase': 'Ух ты, интересно.',\n",
              " 'Rewrite': 'Ух ты, интересно, ты фиалки выращиваешь.'}"
            ]
          },
          "execution_count": 7,
          "metadata": {},
          "output_type": "execute_result"
        }
      ],
      "source": [
        "data[2]"
      ]
    },
    {
      "cell_type": "code",
      "execution_count": 8,
      "metadata": {
        "colab": {
          "base_uri": "https://localhost:8080/"
        },
        "id": "oLER3_u2zebK",
        "outputId": "1dbca1bd-f0b5-4265-aca8-1ed7df1d806a"
      },
      "outputs": [
        {
          "data": {
            "text/plain": [
              "{'History': ['Привет, расскажи о себе.',\n",
              "  'Привет! Под вкусный кофеек настроение поболтать появилось.',\n",
              "  'Что читаешь? Мне нравится читать классику. Я тоже люблю пообщаться.',\n",
              "  'Люблю животных, просто обожаю, как и свою работу. Я фантастику читать люблю.',\n",
              "  'А я выращиваю фиалки и веду здоровый и активный образ жизни.',\n",
              "  'Ух ты, интересно, ты фиалки выращиваешь.'],\n",
              " 'Dia_ID_hash': 'dia_628e79cf',\n",
              " 'Utt_ID_hash': 'utt_2bfa24e4',\n",
              " 'Phrase': 'Ты случайно не принц на белом коне? Я его очень жду.',\n",
              " 'Rewrite': 'Ты случайно не принц на белом коне? Я принца на белом коне очень жду.'}"
            ]
          },
          "execution_count": 8,
          "metadata": {},
          "output_type": "execute_result"
        }
      ],
      "source": [
        "data[3]"
      ]
    },
    {
      "cell_type": "markdown",
      "metadata": {
        "id": "e4Xfj1pZBEw0"
      },
      "source": [
        "Saving sample of data for manual examination"
      ]
    },
    {
      "cell_type": "code",
      "execution_count": 9,
      "metadata": {
        "id": "ByL5NvwboMGm"
      },
      "outputs": [],
      "source": [
        "history, phrase, rewrite = [], [], []\n",
        "\n",
        "for sample in data:\n",
        "    history.append(sample[\"History\"])\n",
        "    phrase.append(sample[\"Phrase\"])\n",
        "    rewrite.append(sample[\"Rewrite\"])"
      ]
    },
    {
      "cell_type": "code",
      "execution_count": 10,
      "metadata": {
        "id": "UW3ciurvoZK-"
      },
      "outputs": [],
      "source": [
        "df = pd.DataFrame({\"history\": history, \"phrase\": phrase, \"rewrite\": rewrite})"
      ]
    },
    {
      "cell_type": "markdown",
      "metadata": {
        "id": "Fhgxszvdy0XT"
      },
      "source": [
        "## HF datasets"
      ]
    },
    {
      "cell_type": "code",
      "execution_count": 11,
      "metadata": {
        "id": "cAw117BwaUIB"
      },
      "outputs": [],
      "source": [
        "from datasets import DatasetDict, Dataset\n",
        "\n",
        "ds = Dataset.from_pandas(df)\n",
        "ds = ds.train_test_split(test_size=0.2, shuffle=True, seed=42)\n",
        "train_ds, test_ds = ds[\"train\"], ds[\"test\"]\n",
        "test_ds = test_ds.train_test_split(test_size=0.5, shuffle=True, seed=42)\n",
        "val_ds, test_ds = test_ds[\"train\"], test_ds[\"train\"]\n",
        "\n",
        "ds[\"train\"] = train_ds\n",
        "ds[\"val\"] = val_ds\n",
        "ds[\"test\"] = test_ds"
      ]
    },
    {
      "cell_type": "code",
      "execution_count": 12,
      "metadata": {
        "colab": {
          "base_uri": "https://localhost:8080/"
        },
        "id": "YP63UXIJrwXU",
        "outputId": "af3f0fc5-8b69-4614-b4d8-7fac47071150"
      },
      "outputs": [
        {
          "data": {
            "text/plain": [
              "DatasetDict({\n",
              "    train: Dataset({\n",
              "        features: ['history', 'phrase', 'rewrite'],\n",
              "        num_rows: 4411\n",
              "    })\n",
              "    test: Dataset({\n",
              "        features: ['history', 'phrase', 'rewrite'],\n",
              "        num_rows: 551\n",
              "    })\n",
              "    val: Dataset({\n",
              "        features: ['history', 'phrase', 'rewrite'],\n",
              "        num_rows: 551\n",
              "    })\n",
              "})"
            ]
          },
          "execution_count": 12,
          "metadata": {},
          "output_type": "execute_result"
        }
      ],
      "source": [
        "ds"
      ]
    },
    {
      "cell_type": "code",
      "execution_count": 13,
      "metadata": {
        "id": "5bePbn_aLSCa"
      },
      "outputs": [],
      "source": [
        "!pip install openai -q"
      ]
    },
    {
      "cell_type": "code",
      "execution_count": null,
      "metadata": {
        "id": "IA5oKY0YLR_-"
      },
      "outputs": [],
      "source": [
        "from openai import OpenAI\n",
        "\n",
        "client = OpenAI()"
      ]
    },
    {
      "cell_type": "code",
      "execution_count": 15,
      "metadata": {
        "id": "K8OyWzRkJSAw"
      },
      "outputs": [],
      "source": [
        "from tqdm import tqdm"
      ]
    },
    {
      "cell_type": "code",
      "execution_count": 16,
      "metadata": {
        "id": "MrJt8LXLahtM"
      },
      "outputs": [],
      "source": [
        "prompt = \"Ты професиональный разметчик с лингвистическим образованием. Внимательно прочитай диалог. Перепишите неполное высказывание на основе истории диалога. Ответ должен содержать только переписанное высказывание\\n\""
      ]
    },
    {
      "cell_type": "code",
      "execution_count": 17,
      "metadata": {
        "id": "2HqgVUQNJyEo"
      },
      "outputs": [],
      "source": [
        "MODEL_NAME = \"gpt-4o-mini\""
      ]
    },
    {
      "cell_type": "code",
      "execution_count": 18,
      "metadata": {
        "colab": {
          "base_uri": "https://localhost:8080/"
        },
        "id": "TfAPfzp8gBSn",
        "outputId": "d6449cef-97b9-419a-ceaf-d3da67fddcd6"
      },
      "outputs": [
        {
          "data": {
            "text/plain": [
              "{'history': ['Привет.',\n",
              "  'Привет.',\n",
              "  'Как твоё настроение сегодня?',\n",
              "  'Настроение отлично, скоро куплю машину, а твоё настроение как?',\n",
              "  'Здорово, ты скоро купишь машину! У меня тоже настроение на позитиве! Я очень давно хочу в Бразилию, и, кажется, сегодня моя мечта сбудется! Вечером поедем с подругой в турфирму оплачивать наш тур в Бразилию. А у тебя есть мечта?',\n",
              "  'Давно хочу завести лабрадора, прям с детства хочу собаку. Может, когда дочка подрастет заведу себе лабрадора.',\n",
              "  'Моей собаке уже 5 лет, и я даже не представляю, как я могла жить без своей собаки раньше?! Я думаю, что у тебя всё получится и у вас скоро обязательно появится питомец! Ведь собаки такие милые! Что сегодня будешь готовить на ужин?'],\n",
              " 'phrase': 'Сегодня будет мясо с кровью! Вот только надо в магазин... Эх, пойду прогуляюсь под дождём, это успокаивает.',\n",
              " 'rewrite': 'Сегодня на ужин будет мясо с кровью! Вот только надо в магазин... Эх, пойду прогуляюсь под дождём, это успокаивает.'}"
            ]
          },
          "execution_count": 18,
          "metadata": {},
          "output_type": "execute_result"
        }
      ],
      "source": [
        "ds['train'][0]"
      ]
    },
    {
      "cell_type": "code",
      "execution_count": 27,
      "metadata": {
        "colab": {
          "base_uri": "https://localhost:8080/"
        },
        "id": "Ae8jE7ByMzPj",
        "outputId": "948991d3-19d9-43d5-f348-1c4952461886"
      },
      "outputs": [
        {
          "name": "stderr",
          "output_type": "stream",
          "text": [
            "100%|██████████| 110/110 [01:15<00:00,  1.45it/s]\n"
          ]
        }
      ],
      "source": [
        "raw_test_results_new = []\n",
        "\n",
        "\n",
        "for i in tqdm(range(110)):\n",
        "    model=MODEL_NAME,\n",
        "    messages = [\n",
        "        {\n",
        "            \"role\": \"system\",\n",
        "            \"content\": prompt\n",
        "        },\n",
        "\n",
        "        # {\n",
        "        #     \"role\": \"user\",\n",
        "        #     \"content\": \"История: \" + str(ds['train']['history'][0][-1]) + \" Неполное высказвание: \" + ds['train'][\"phrase\"][0]\n",
        "        # },\n",
        "        # {\n",
        "        #     \"role\": \"assistant\",\n",
        "        #     \"content\": ds['train']['rewrite'][0]\n",
        "        # },\n",
        "\n",
        "        # {\n",
        "        #     \"role\": \"user\",\n",
        "        #     \"content\": \"История: \" + str(ds['train']['history'][1][-1]) + \" Неполное высказвание: \" + ds['train'][\"phrase\"][1]\n",
        "        # },\n",
        "        # {\n",
        "        #     \"role\": \"assistant\",\n",
        "        #     \"content\": ds['train']['rewrite'][1]\n",
        "        # },\n",
        "\n",
        "        # {\n",
        "        #     \"role\": \"user\",\n",
        "        #     \"content\": \"История: \" + str(ds['train']['history'][2][-1]) + \" Неполное высказвание: \" + ds['train'][\"phrase\"][2]\n",
        "        # },\n",
        "        # {\n",
        "        #     \"role\": \"assistant\",\n",
        "        #     \"content\": ds['train']['rewrite'][2]\n",
        "        # },\n",
        "\n",
        "\n",
        "        {\n",
        "            \"role\": \"user\",\n",
        "            \"content\": \"История: \" + str(ds['test']['history'][i][-1]) + \" Неполное высказвание: \" + ds['test'][\"phrase\"][i]\n",
        "            }\n",
        "        ]\n",
        "\n",
        "\n",
        "    response = client.chat.completions.create(\n",
        "    model=MODEL_NAME,\n",
        "    messages=messages,\n",
        "    temperature=1\n",
        ")\n",
        "    out = response.choices[0].message.content\n",
        "    raw_test_results_new.append(out)"
      ]
    },
    {
      "cell_type": "code",
      "execution_count": 28,
      "metadata": {
        "colab": {
          "base_uri": "https://localhost:8080/",
          "height": 519
        },
        "id": "2nuqT3IWIGc2",
        "outputId": "02c88b27-d2d1-4cc0-fcba-477dc29f2523"
      },
      "outputs": [
        {
          "data": {
            "application/vnd.google.colaboratory.intrinsic+json": {
              "summary": "{\n  \"name\": \"raw_test_results\",\n  \"rows\": 110,\n  \"fields\": [\n    {\n      \"column\": \"model_out_raw\",\n      \"properties\": {\n        \"dtype\": \"string\",\n        \"num_unique_values\": 110,\n        \"samples\": [\n          \"\\u041a\\u043b\\u0430\\u0441\\u0441, \\u0435\\u0449\\u0451 \\u044f \\u043e\\u0447\\u0435\\u043d\\u044c \\u0445\\u043e\\u0440\\u043e\\u0448\\u043e \\u043f\\u043b\\u0430\\u0432\\u0430\\u044e, \\u0430 \\u0443 \\u0432\\u0430\\u0441 \\u0435\\u0441\\u0442\\u044c \\u0445\\u043e\\u0431\\u0431\\u0438?\",\n          \"\\u0423\\u0445 \\u0442\\u044b! \\u0422\\u044b \\u043a\\u0440\\u0443\\u0442\\u0430\\u044f \\u041c\\u0430\\u0448\\u0430! \\u0410 \\u0447\\u0442\\u043e \\u0435\\u0449\\u0451 \\u0442\\u044b \\u043b\\u044e\\u0431\\u0438\\u0448\\u044c \\u0434\\u0435\\u043b\\u0430\\u0442\\u044c?\",\n          \"\\u0414\\u0430, \\u044d\\u0442\\u043e \\u0441\\u0430\\u043c\\u043e\\u0435 \\u0433\\u043b\\u0430\\u0432\\u043d\\u043e\\u0435, \\u0441 \\u043a\\u0435\\u043c \\u0442\\u044b \\u0440\\u0430\\u0431\\u043e\\u0442\\u0430\\u0435\\u0448\\u044c \\u0432 \\u0442\\u0430\\u043a\\u043e\\u0435 \\u0432\\u0440\\u0435\\u043c\\u044f?\"\n        ],\n        \"semantic_type\": \"\",\n        \"description\": \"\"\n      }\n    },\n    {\n      \"column\": \"history\",\n      \"properties\": {\n        \"dtype\": \"object\",\n        \"semantic_type\": \"\",\n        \"description\": \"\"\n      }\n    },\n    {\n      \"column\": \"text\",\n      \"properties\": {\n        \"dtype\": \"string\",\n        \"num_unique_values\": 109,\n        \"samples\": [\n          \"\\u041f\\u0440\\u0438\\u0432\\u0435\\u0442, \\u043e\\u0442\\u043b\\u0438\\u0447\\u043d\\u043e, \\u0433\\u0443\\u043b\\u044f\\u044e \\u0441 \\u043f\\u043e\\u0434\\u0440\\u0443\\u0433\\u0430\\u043c\\u0438. \\u0410 \\u0443 \\u0442\\u0435\\u0431\\u044f?\",\n          \"\\u0423\\u0445 \\u0442\\u044b! \\u0422\\u044b \\u043a\\u0440\\u0443\\u0442\\u0430\\u044f \\u041c\\u0430\\u0448\\u0430! \\u0410 \\u0447\\u0442\\u043e \\u0435\\u0449\\u0451 \\u043b\\u044e\\u0431\\u0438\\u0448\\u044c?\",\n          \"\\u0414\\u0430, \\u044d\\u0442\\u043e \\u0441\\u0430\\u043c\\u043e\\u0435 \\u0433\\u043b\\u0430\\u0432\\u043d\\u043e\\u0435, \\u0441 \\u043a\\u0435\\u043c \\u0442\\u044b \\u0440\\u0430\\u0431\\u043e\\u0442\\u0430\\u0435\\u0448\\u044c?\"\n        ],\n        \"semantic_type\": \"\",\n        \"description\": \"\"\n      }\n    },\n    {\n      \"column\": \"restored_text\",\n      \"properties\": {\n        \"dtype\": \"string\",\n        \"num_unique_values\": 110,\n        \"samples\": [\n          \"\\u041a\\u043b\\u0430\\u0441\\u0441, \\u0432\\u044b \\u0444\\u0440\\u0438\\u043b\\u0430\\u043d\\u0441\\u0435\\u0440, \\u0435\\u0449\\u0451 \\u044f \\u043e\\u0447\\u0435\\u043d\\u044c \\u0445\\u043e\\u0440\\u043e\\u0448\\u043e \\u043f\\u043b\\u0430\\u0432\\u0430\\u044e, \\u0430 \\u0443 \\u0432\\u0430\\u0441 \\u0445\\u043e\\u0431\\u0431\\u0438 \\u0435\\u0441\\u0442\\u044c?\",\n          \"\\u0423\\u0445 \\u0442\\u044b! \\u0422\\u044b \\u043a\\u0440\\u0443\\u0442\\u0430\\u044f \\u041c\\u0430\\u0448\\u0430 - \\u043c\\u043e\\u0434\\u0435\\u043b\\u044c! \\u0410 \\u0447\\u0442\\u043e \\u0435\\u0449\\u0451 \\u043b\\u044e\\u0431\\u0438\\u0448\\u044c?\",\n          \"\\u0414\\u0430, \\u044d\\u0442\\u043e \\u0441\\u0430\\u043c\\u043e\\u0435 \\u0433\\u043b\\u0430\\u0432\\u043d\\u043e\\u0435 \\u0447\\u0442\\u043e \\u0432\\u0435\\u0441\\u043d\\u0430 \\u043f\\u0440\\u0438\\u0434\\u0435\\u0442 \\u0447\\u0435\\u0440\\u0435\\u0437 \\u043f\\u0430\\u0440\\u0443 \\u0434\\u043d\\u0435\\u0439, \\u0441 \\u043a\\u0435\\u043c \\u0442\\u044b \\u0440\\u0430\\u0431\\u043e\\u0442\\u0430\\u0435\\u0448\\u044c?\"\n        ],\n        \"semantic_type\": \"\",\n        \"description\": \"\"\n      }\n    }\n  ]\n}",
              "type": "dataframe",
              "variable_name": "raw_test_results"
            },
            "text/html": [
              "\n",
              "  <div id=\"df-e297a5e0-e6b2-4f26-99c7-9ee21af2fb86\" class=\"colab-df-container\">\n",
              "    <div>\n",
              "<style scoped>\n",
              "    .dataframe tbody tr th:only-of-type {\n",
              "        vertical-align: middle;\n",
              "    }\n",
              "\n",
              "    .dataframe tbody tr th {\n",
              "        vertical-align: top;\n",
              "    }\n",
              "\n",
              "    .dataframe thead th {\n",
              "        text-align: right;\n",
              "    }\n",
              "</style>\n",
              "<table border=\"1\" class=\"dataframe\">\n",
              "  <thead>\n",
              "    <tr style=\"text-align: right;\">\n",
              "      <th></th>\n",
              "      <th>model_out_raw</th>\n",
              "      <th>history</th>\n",
              "      <th>text</th>\n",
              "      <th>restored_text</th>\n",
              "    </tr>\n",
              "  </thead>\n",
              "  <tbody>\n",
              "    <tr>\n",
              "      <th>0</th>\n",
              "      <td>Я из Твери, а ты откуда?</td>\n",
              "      <td>[Привет., Привет. Откуда ты?]</td>\n",
              "      <td>Я из Твери, а ты?</td>\n",
              "      <td>Я из Твери, а ты откуда?</td>\n",
              "    </tr>\n",
              "    <tr>\n",
              "      <th>1</th>\n",
              "      <td>Да, именно Питерский. Жаль, что не в одном мес...</td>\n",
              "      <td>[Привет., Привет! Сколько тебе лет? Ты где-то ...</td>\n",
              "      <td>Да, именно Питерский. Жаль, что не в месте учи...</td>\n",
              "      <td>Да, именно Питерский политех. Жаль, что не вме...</td>\n",
              "    </tr>\n",
              "    <tr>\n",
              "      <th>2</th>\n",
              "      <td>У меня есть семья, но пока детей нет.</td>\n",
              "      <td>[Приветики! Как дела?, Привет! Всё хорошо, а у...</td>\n",
              "      <td>Мои дети - мои песики. Пока не нашла достойног...</td>\n",
              "      <td>Мои дети - мои песики. Пока не нашла достойног...</td>\n",
              "    </tr>\n",
              "    <tr>\n",
              "      <th>3</th>\n",
              "      <td>Где живёшь? В городе где-то? Какие фрукты любишь?</td>\n",
              "      <td>[Привет., Привет., Расскажи о себе., Я собираю...</td>\n",
              "      <td>Где живёшь? В городе где-то? Какие любишь?</td>\n",
              "      <td>Где живёшь? В городе где-то? Какие фрукты любишь?</td>\n",
              "    </tr>\n",
              "    <tr>\n",
              "      <th>4</th>\n",
              "      <td>Да, это самое главное, с кем ты работаешь в та...</td>\n",
              "      <td>[Здравствуй. Как тебе погодка?, Привет, я дума...</td>\n",
              "      <td>Да, это самое главное, с кем ты работаешь?</td>\n",
              "      <td>Да, это самое главное что весна придет через п...</td>\n",
              "    </tr>\n",
              "    <tr>\n",
              "      <th>5</th>\n",
              "      <td>Иногда беру её с собой, а у тебя кто?</td>\n",
              "      <td>[Привет, ты откуда? Я фотограф. Люблю путешест...</td>\n",
              "      <td>Иногда беру ее с собой,  у тебя кто?</td>\n",
              "      <td>Иногда беру дочь с собой в путешествие, а у те...</td>\n",
              "    </tr>\n",
              "    <tr>\n",
              "      <th>6</th>\n",
              "      <td>Я всегда за новые знакомства.</td>\n",
              "      <td>[Добрый вечер, вы не против новых знакомств?]</td>\n",
              "      <td>Я всегда за.</td>\n",
              "      <td>Я всегда за знакомства.</td>\n",
              "    </tr>\n",
              "    <tr>\n",
              "      <th>7</th>\n",
              "      <td>А вы чем занимаетесь?</td>\n",
              "      <td>[Привет., Привет, Алла., Чем вы занимаетесь?]</td>\n",
              "      <td>Певица. А вы?</td>\n",
              "      <td>Я певица. А вы чем занимаетесь?</td>\n",
              "    </tr>\n",
              "    <tr>\n",
              "      <th>8</th>\n",
              "      <td>Чтобы не испортить зрение и осанку за компьюте...</td>\n",
              "      <td>[Привет., О, привет! Рад новому знакомству! Ты...</td>\n",
              "      <td>Чтобы не испортить зрение и осанку за компьюте...</td>\n",
              "      <td>Чтобы не испортить зрение и осанку за компьюте...</td>\n",
              "    </tr>\n",
              "    <tr>\n",
              "      <th>9</th>\n",
              "      <td>Да, я учусь и работаю.</td>\n",
              "      <td>[Привет., Привет. Как дела?, Отлично у меня де...</td>\n",
              "      <td>Да, и учусь, и работаю.</td>\n",
              "      <td>Да, я и учусь, и работаю.</td>\n",
              "    </tr>\n",
              "  </tbody>\n",
              "</table>\n",
              "</div>\n",
              "    <div class=\"colab-df-buttons\">\n",
              "\n",
              "  <div class=\"colab-df-container\">\n",
              "    <button class=\"colab-df-convert\" onclick=\"convertToInteractive('df-e297a5e0-e6b2-4f26-99c7-9ee21af2fb86')\"\n",
              "            title=\"Convert this dataframe to an interactive table.\"\n",
              "            style=\"display:none;\">\n",
              "\n",
              "  <svg xmlns=\"http://www.w3.org/2000/svg\" height=\"24px\" viewBox=\"0 -960 960 960\">\n",
              "    <path d=\"M120-120v-720h720v720H120Zm60-500h600v-160H180v160Zm220 220h160v-160H400v160Zm0 220h160v-160H400v160ZM180-400h160v-160H180v160Zm440 0h160v-160H620v160ZM180-180h160v-160H180v160Zm440 0h160v-160H620v160Z\"/>\n",
              "  </svg>\n",
              "    </button>\n",
              "\n",
              "  <style>\n",
              "    .colab-df-container {\n",
              "      display:flex;\n",
              "      gap: 12px;\n",
              "    }\n",
              "\n",
              "    .colab-df-convert {\n",
              "      background-color: #E8F0FE;\n",
              "      border: none;\n",
              "      border-radius: 50%;\n",
              "      cursor: pointer;\n",
              "      display: none;\n",
              "      fill: #1967D2;\n",
              "      height: 32px;\n",
              "      padding: 0 0 0 0;\n",
              "      width: 32px;\n",
              "    }\n",
              "\n",
              "    .colab-df-convert:hover {\n",
              "      background-color: #E2EBFA;\n",
              "      box-shadow: 0px 1px 2px rgba(60, 64, 67, 0.3), 0px 1px 3px 1px rgba(60, 64, 67, 0.15);\n",
              "      fill: #174EA6;\n",
              "    }\n",
              "\n",
              "    .colab-df-buttons div {\n",
              "      margin-bottom: 4px;\n",
              "    }\n",
              "\n",
              "    [theme=dark] .colab-df-convert {\n",
              "      background-color: #3B4455;\n",
              "      fill: #D2E3FC;\n",
              "    }\n",
              "\n",
              "    [theme=dark] .colab-df-convert:hover {\n",
              "      background-color: #434B5C;\n",
              "      box-shadow: 0px 1px 3px 1px rgba(0, 0, 0, 0.15);\n",
              "      filter: drop-shadow(0px 1px 2px rgba(0, 0, 0, 0.3));\n",
              "      fill: #FFFFFF;\n",
              "    }\n",
              "  </style>\n",
              "\n",
              "    <script>\n",
              "      const buttonEl =\n",
              "        document.querySelector('#df-e297a5e0-e6b2-4f26-99c7-9ee21af2fb86 button.colab-df-convert');\n",
              "      buttonEl.style.display =\n",
              "        google.colab.kernel.accessAllowed ? 'block' : 'none';\n",
              "\n",
              "      async function convertToInteractive(key) {\n",
              "        const element = document.querySelector('#df-e297a5e0-e6b2-4f26-99c7-9ee21af2fb86');\n",
              "        const dataTable =\n",
              "          await google.colab.kernel.invokeFunction('convertToInteractive',\n",
              "                                                    [key], {});\n",
              "        if (!dataTable) return;\n",
              "\n",
              "        const docLinkHtml = 'Like what you see? Visit the ' +\n",
              "          '<a target=\"_blank\" href=https://colab.research.google.com/notebooks/data_table.ipynb>data table notebook</a>'\n",
              "          + ' to learn more about interactive tables.';\n",
              "        element.innerHTML = '';\n",
              "        dataTable['output_type'] = 'display_data';\n",
              "        await google.colab.output.renderOutput(dataTable, element);\n",
              "        const docLink = document.createElement('div');\n",
              "        docLink.innerHTML = docLinkHtml;\n",
              "        element.appendChild(docLink);\n",
              "      }\n",
              "    </script>\n",
              "  </div>\n",
              "\n",
              "\n",
              "    <div id=\"df-4704bcf5-48d0-475a-903e-f3312a6e09f6\">\n",
              "      <button class=\"colab-df-quickchart\" onclick=\"quickchart('df-4704bcf5-48d0-475a-903e-f3312a6e09f6')\"\n",
              "                title=\"Suggest charts\"\n",
              "                style=\"display:none;\">\n",
              "\n",
              "<svg xmlns=\"http://www.w3.org/2000/svg\" height=\"24px\"viewBox=\"0 0 24 24\"\n",
              "     width=\"24px\">\n",
              "    <g>\n",
              "        <path d=\"M19 3H5c-1.1 0-2 .9-2 2v14c0 1.1.9 2 2 2h14c1.1 0 2-.9 2-2V5c0-1.1-.9-2-2-2zM9 17H7v-7h2v7zm4 0h-2V7h2v10zm4 0h-2v-4h2v4z\"/>\n",
              "    </g>\n",
              "</svg>\n",
              "      </button>\n",
              "\n",
              "<style>\n",
              "  .colab-df-quickchart {\n",
              "      --bg-color: #E8F0FE;\n",
              "      --fill-color: #1967D2;\n",
              "      --hover-bg-color: #E2EBFA;\n",
              "      --hover-fill-color: #174EA6;\n",
              "      --disabled-fill-color: #AAA;\n",
              "      --disabled-bg-color: #DDD;\n",
              "  }\n",
              "\n",
              "  [theme=dark] .colab-df-quickchart {\n",
              "      --bg-color: #3B4455;\n",
              "      --fill-color: #D2E3FC;\n",
              "      --hover-bg-color: #434B5C;\n",
              "      --hover-fill-color: #FFFFFF;\n",
              "      --disabled-bg-color: #3B4455;\n",
              "      --disabled-fill-color: #666;\n",
              "  }\n",
              "\n",
              "  .colab-df-quickchart {\n",
              "    background-color: var(--bg-color);\n",
              "    border: none;\n",
              "    border-radius: 50%;\n",
              "    cursor: pointer;\n",
              "    display: none;\n",
              "    fill: var(--fill-color);\n",
              "    height: 32px;\n",
              "    padding: 0;\n",
              "    width: 32px;\n",
              "  }\n",
              "\n",
              "  .colab-df-quickchart:hover {\n",
              "    background-color: var(--hover-bg-color);\n",
              "    box-shadow: 0 1px 2px rgba(60, 64, 67, 0.3), 0 1px 3px 1px rgba(60, 64, 67, 0.15);\n",
              "    fill: var(--button-hover-fill-color);\n",
              "  }\n",
              "\n",
              "  .colab-df-quickchart-complete:disabled,\n",
              "  .colab-df-quickchart-complete:disabled:hover {\n",
              "    background-color: var(--disabled-bg-color);\n",
              "    fill: var(--disabled-fill-color);\n",
              "    box-shadow: none;\n",
              "  }\n",
              "\n",
              "  .colab-df-spinner {\n",
              "    border: 2px solid var(--fill-color);\n",
              "    border-color: transparent;\n",
              "    border-bottom-color: var(--fill-color);\n",
              "    animation:\n",
              "      spin 1s steps(1) infinite;\n",
              "  }\n",
              "\n",
              "  @keyframes spin {\n",
              "    0% {\n",
              "      border-color: transparent;\n",
              "      border-bottom-color: var(--fill-color);\n",
              "      border-left-color: var(--fill-color);\n",
              "    }\n",
              "    20% {\n",
              "      border-color: transparent;\n",
              "      border-left-color: var(--fill-color);\n",
              "      border-top-color: var(--fill-color);\n",
              "    }\n",
              "    30% {\n",
              "      border-color: transparent;\n",
              "      border-left-color: var(--fill-color);\n",
              "      border-top-color: var(--fill-color);\n",
              "      border-right-color: var(--fill-color);\n",
              "    }\n",
              "    40% {\n",
              "      border-color: transparent;\n",
              "      border-right-color: var(--fill-color);\n",
              "      border-top-color: var(--fill-color);\n",
              "    }\n",
              "    60% {\n",
              "      border-color: transparent;\n",
              "      border-right-color: var(--fill-color);\n",
              "    }\n",
              "    80% {\n",
              "      border-color: transparent;\n",
              "      border-right-color: var(--fill-color);\n",
              "      border-bottom-color: var(--fill-color);\n",
              "    }\n",
              "    90% {\n",
              "      border-color: transparent;\n",
              "      border-bottom-color: var(--fill-color);\n",
              "    }\n",
              "  }\n",
              "</style>\n",
              "\n",
              "      <script>\n",
              "        async function quickchart(key) {\n",
              "          const quickchartButtonEl =\n",
              "            document.querySelector('#' + key + ' button');\n",
              "          quickchartButtonEl.disabled = true;  // To prevent multiple clicks.\n",
              "          quickchartButtonEl.classList.add('colab-df-spinner');\n",
              "          try {\n",
              "            const charts = await google.colab.kernel.invokeFunction(\n",
              "                'suggestCharts', [key], {});\n",
              "          } catch (error) {\n",
              "            console.error('Error during call to suggestCharts:', error);\n",
              "          }\n",
              "          quickchartButtonEl.classList.remove('colab-df-spinner');\n",
              "          quickchartButtonEl.classList.add('colab-df-quickchart-complete');\n",
              "        }\n",
              "        (() => {\n",
              "          let quickchartButtonEl =\n",
              "            document.querySelector('#df-4704bcf5-48d0-475a-903e-f3312a6e09f6 button');\n",
              "          quickchartButtonEl.style.display =\n",
              "            google.colab.kernel.accessAllowed ? 'block' : 'none';\n",
              "        })();\n",
              "      </script>\n",
              "    </div>\n",
              "    </div>\n",
              "  </div>\n"
            ],
            "text/plain": [
              "                                       model_out_raw  \\\n",
              "0                           Я из Твери, а ты откуда?   \n",
              "1  Да, именно Питерский. Жаль, что не в одном мес...   \n",
              "2              У меня есть семья, но пока детей нет.   \n",
              "3  Где живёшь? В городе где-то? Какие фрукты любишь?   \n",
              "4  Да, это самое главное, с кем ты работаешь в та...   \n",
              "5              Иногда беру её с собой, а у тебя кто?   \n",
              "6                      Я всегда за новые знакомства.   \n",
              "7                              А вы чем занимаетесь?   \n",
              "8  Чтобы не испортить зрение и осанку за компьюте...   \n",
              "9                             Да, я учусь и работаю.   \n",
              "\n",
              "                                             history  \\\n",
              "0                      [Привет., Привет. Откуда ты?]   \n",
              "1  [Привет., Привет! Сколько тебе лет? Ты где-то ...   \n",
              "2  [Приветики! Как дела?, Привет! Всё хорошо, а у...   \n",
              "3  [Привет., Привет., Расскажи о себе., Я собираю...   \n",
              "4  [Здравствуй. Как тебе погодка?, Привет, я дума...   \n",
              "5  [Привет, ты откуда? Я фотограф. Люблю путешест...   \n",
              "6      [Добрый вечер, вы не против новых знакомств?]   \n",
              "7      [Привет., Привет, Алла., Чем вы занимаетесь?]   \n",
              "8  [Привет., О, привет! Рад новому знакомству! Ты...   \n",
              "9  [Привет., Привет. Как дела?, Отлично у меня де...   \n",
              "\n",
              "                                                text  \\\n",
              "0                                  Я из Твери, а ты?   \n",
              "1  Да, именно Питерский. Жаль, что не в месте учи...   \n",
              "2  Мои дети - мои песики. Пока не нашла достойног...   \n",
              "3         Где живёшь? В городе где-то? Какие любишь?   \n",
              "4         Да, это самое главное, с кем ты работаешь?   \n",
              "5               Иногда беру ее с собой,  у тебя кто?   \n",
              "6                                       Я всегда за.   \n",
              "7                                      Певица. А вы?   \n",
              "8  Чтобы не испортить зрение и осанку за компьюте...   \n",
              "9                            Да, и учусь, и работаю.   \n",
              "\n",
              "                                       restored_text  \n",
              "0                           Я из Твери, а ты откуда?  \n",
              "1  Да, именно Питерский политех. Жаль, что не вме...  \n",
              "2  Мои дети - мои песики. Пока не нашла достойног...  \n",
              "3  Где живёшь? В городе где-то? Какие фрукты любишь?  \n",
              "4  Да, это самое главное что весна придет через п...  \n",
              "5  Иногда беру дочь с собой в путешествие, а у те...  \n",
              "6                            Я всегда за знакомства.  \n",
              "7                    Я певица. А вы чем занимаетесь?  \n",
              "8  Чтобы не испортить зрение и осанку за компьюте...  \n",
              "9                          Да, я и учусь, и работаю.  "
            ]
          },
          "execution_count": 28,
          "metadata": {},
          "output_type": "execute_result"
        }
      ],
      "source": [
        "import pandas as pd\n",
        "\n",
        "raw_test_results = pd.DataFrame(raw_test_results_new, columns=['model_out_raw'])\n",
        "\n",
        "raw_test_results['history'] = ds['test']['history'][:110]\n",
        "raw_test_results['text'] = ds['test']['phrase'][:110]\n",
        "raw_test_results['restored_text'] = ds['test']['rewrite'][:110]\n",
        "\n",
        "raw_test_results.head(10)"
      ]
    },
    {
      "cell_type": "code",
      "execution_count": 29,
      "metadata": {
        "id": "S2DOTmaUgiH0"
      },
      "outputs": [],
      "source": [
        "raw_test_results.to_csv(f\"{MODEL_NAME.split('/')[-1]}_raw_test_results.csv\")"
      ]
    },
    {
      "cell_type": "code",
      "execution_count": 30,
      "metadata": {
        "colab": {
          "base_uri": "https://localhost:8080/"
        },
        "id": "tp-Ix19fFJIy",
        "outputId": "39ea3fe1-0ce5-439e-c3e2-3ee9a2e393a4"
      },
      "outputs": [
        {
          "name": "stdout",
          "output_type": "stream",
          "text": [
            "Requirement already satisfied: evaluate in /usr/local/lib/python3.11/dist-packages (0.4.3)\n",
            "Requirement already satisfied: rouge_metric in /usr/local/lib/python3.11/dist-packages (1.0.1)\n",
            "Requirement already satisfied: datasets>=2.0.0 in /usr/local/lib/python3.11/dist-packages (from evaluate) (2.14.4)\n",
            "Requirement already satisfied: numpy>=1.17 in /usr/local/lib/python3.11/dist-packages (from evaluate) (2.0.2)\n",
            "Requirement already satisfied: dill in /usr/local/lib/python3.11/dist-packages (from evaluate) (0.3.7)\n",
            "Requirement already satisfied: pandas in /usr/local/lib/python3.11/dist-packages (from evaluate) (2.2.2)\n",
            "Requirement already satisfied: requests>=2.19.0 in /usr/local/lib/python3.11/dist-packages (from evaluate) (2.32.3)\n",
            "Requirement already satisfied: tqdm>=4.62.1 in /usr/local/lib/python3.11/dist-packages (from evaluate) (4.67.1)\n",
            "Requirement already satisfied: xxhash in /usr/local/lib/python3.11/dist-packages (from evaluate) (3.5.0)\n",
            "Requirement already satisfied: multiprocess in /usr/local/lib/python3.11/dist-packages (from evaluate) (0.70.15)\n",
            "Requirement already satisfied: fsspec>=2021.05.0 in /usr/local/lib/python3.11/dist-packages (from fsspec[http]>=2021.05.0->evaluate) (2025.3.2)\n",
            "Requirement already satisfied: huggingface-hub>=0.7.0 in /usr/local/lib/python3.11/dist-packages (from evaluate) (0.31.1)\n",
            "Requirement already satisfied: packaging in /usr/local/lib/python3.11/dist-packages (from evaluate) (24.2)\n",
            "Requirement already satisfied: pyarrow>=8.0.0 in /usr/local/lib/python3.11/dist-packages (from datasets>=2.0.0->evaluate) (18.1.0)\n",
            "Requirement already satisfied: aiohttp in /usr/local/lib/python3.11/dist-packages (from datasets>=2.0.0->evaluate) (3.11.15)\n",
            "Requirement already satisfied: pyyaml>=5.1 in /usr/local/lib/python3.11/dist-packages (from datasets>=2.0.0->evaluate) (6.0.2)\n",
            "Requirement already satisfied: filelock in /usr/local/lib/python3.11/dist-packages (from huggingface-hub>=0.7.0->evaluate) (3.18.0)\n",
            "Requirement already satisfied: typing-extensions>=3.7.4.3 in /usr/local/lib/python3.11/dist-packages (from huggingface-hub>=0.7.0->evaluate) (4.13.2)\n",
            "Requirement already satisfied: hf-xet<2.0.0,>=1.1.0 in /usr/local/lib/python3.11/dist-packages (from huggingface-hub>=0.7.0->evaluate) (1.1.0)\n",
            "Requirement already satisfied: charset-normalizer<4,>=2 in /usr/local/lib/python3.11/dist-packages (from requests>=2.19.0->evaluate) (3.4.2)\n",
            "Requirement already satisfied: idna<4,>=2.5 in /usr/local/lib/python3.11/dist-packages (from requests>=2.19.0->evaluate) (3.10)\n",
            "Requirement already satisfied: urllib3<3,>=1.21.1 in /usr/local/lib/python3.11/dist-packages (from requests>=2.19.0->evaluate) (2.4.0)\n",
            "Requirement already satisfied: certifi>=2017.4.17 in /usr/local/lib/python3.11/dist-packages (from requests>=2.19.0->evaluate) (2025.4.26)\n",
            "Requirement already satisfied: python-dateutil>=2.8.2 in /usr/local/lib/python3.11/dist-packages (from pandas->evaluate) (2.9.0.post0)\n",
            "Requirement already satisfied: pytz>=2020.1 in /usr/local/lib/python3.11/dist-packages (from pandas->evaluate) (2025.2)\n",
            "Requirement already satisfied: tzdata>=2022.7 in /usr/local/lib/python3.11/dist-packages (from pandas->evaluate) (2025.2)\n",
            "Requirement already satisfied: aiohappyeyeballs>=2.3.0 in /usr/local/lib/python3.11/dist-packages (from aiohttp->datasets>=2.0.0->evaluate) (2.6.1)\n",
            "Requirement already satisfied: aiosignal>=1.1.2 in /usr/local/lib/python3.11/dist-packages (from aiohttp->datasets>=2.0.0->evaluate) (1.3.2)\n",
            "Requirement already satisfied: attrs>=17.3.0 in /usr/local/lib/python3.11/dist-packages (from aiohttp->datasets>=2.0.0->evaluate) (25.3.0)\n",
            "Requirement already satisfied: frozenlist>=1.1.1 in /usr/local/lib/python3.11/dist-packages (from aiohttp->datasets>=2.0.0->evaluate) (1.6.0)\n",
            "Requirement already satisfied: multidict<7.0,>=4.5 in /usr/local/lib/python3.11/dist-packages (from aiohttp->datasets>=2.0.0->evaluate) (6.4.3)\n",
            "Requirement already satisfied: propcache>=0.2.0 in /usr/local/lib/python3.11/dist-packages (from aiohttp->datasets>=2.0.0->evaluate) (0.3.1)\n",
            "Requirement already satisfied: yarl<2.0,>=1.17.0 in /usr/local/lib/python3.11/dist-packages (from aiohttp->datasets>=2.0.0->evaluate) (1.20.0)\n",
            "Requirement already satisfied: six>=1.5 in /usr/local/lib/python3.11/dist-packages (from python-dateutil>=2.8.2->pandas->evaluate) (1.17.0)\n"
          ]
        }
      ],
      "source": [
        "!pip install evaluate rouge_metric\n",
        "!pip install sacrebleu -q\n",
        "!pip install tiktoken -q"
      ]
    },
    {
      "cell_type": "code",
      "execution_count": 31,
      "metadata": {
        "id": "PVOSJzhSPvCX"
      },
      "outputs": [],
      "source": [
        "import numpy as np\n",
        "import evaluate\n",
        "from rouge_metric import PyRouge\n",
        "import tiktoken\n",
        "\n",
        "bleu = evaluate.load(\"sacrebleu\")\n",
        "rouge = PyRouge(rouge_n=(4), skip_gap=4)\n",
        "\n",
        "\n",
        "class RestorationFScore:\n",
        "\n",
        "    def __init__(self, n_gram: int=2):\n",
        "        self.n_gram = n_gram\n",
        "        self.tokenizer = tiktoken.encoding_for_model(MODEL_NAME)\n",
        "\n",
        "    def preprocess(self, sents):\n",
        "        for sent in sents:\n",
        "            sent_tokenize = self.tokenizer.encode(sent)\n",
        "            yield [tuple(sent_tokenize[i:i+self.n_gram]) for i, _ in enumerate(sent_tokenize)]\n",
        "\n",
        "    def _itereval(self):\n",
        "        for i, predictions in enumerate(self.predictions):\n",
        "            restored_ngrams = set(predictions).difference(self.references[i])\n",
        "            ngrams_in_ref = set(self.rewrites[i]).difference(self.references[i])\n",
        "            interagree = ngrams_in_ref.intersection(restored_ngrams)\n",
        "            if len(restored_ngrams):\n",
        "                precision = len(interagree) / len(restored_ngrams)\n",
        "            else:\n",
        "                precision = 0.\n",
        "            if len(ngrams_in_ref):\n",
        "                recall = len(interagree) / len(ngrams_in_ref)\n",
        "            else:\n",
        "                recall = 0.\n",
        "            if precision or recall:\n",
        "                yield 2 * ((precision * recall) / (precision + recall))\n",
        "            else:\n",
        "                yield 0.\n",
        "\n",
        "    def evaluate(self, predictions: list,\n",
        "                 references: list, rewrites: list):\n",
        "        self.predictions = [p for p in self.preprocess(predictions)]\n",
        "        self.references = [p for p in self.preprocess(references)]\n",
        "        self.rewrites = [p for p in self.preprocess(rewrites)]\n",
        "        return np.mean(list(self._itereval()))"
      ]
    },
    {
      "cell_type": "code",
      "execution_count": 32,
      "metadata": {
        "id": "t-Kd1EmBXF8G"
      },
      "outputs": [],
      "source": [
        "def callculate_metrics(row):\n",
        "    row[\"bleu_score\"] = bleu.compute(predictions=row.model_out_raw,\n",
        "                                     references=row.text)['score']\n",
        "\n",
        "    rouge_scores = rouge.evaluate(row.model_out_raw,\n",
        "                                  [[t] for t in row.text])\n",
        "    for k in rouge_scores:\n",
        "        row[k] = rouge_scores[k]['f']\n",
        "\n",
        "    for n in range(1, 5):\n",
        "        rf_score = RestorationFScore(n)\n",
        "        row[f\"rf_score_{n}\"] = rf_score.evaluate(predictions=row.model_out_raw,\n",
        "                                                 references=row.text,\n",
        "                                                 rewrites=row.restored_text)\n",
        "    return row"
      ]
    },
    {
      "cell_type": "code",
      "execution_count": 33,
      "metadata": {
        "id": "Mrgz3kX9e5mB"
      },
      "outputs": [],
      "source": [
        "raw_test_results[\"type\"] = \"2rca\"\n",
        "raw_test_results = raw_test_results.groupby(by=\"type\").agg(list)"
      ]
    },
    {
      "cell_type": "code",
      "execution_count": 34,
      "metadata": {
        "colab": {
          "base_uri": "https://localhost:8080/",
          "height": 112
        },
        "id": "yGh7lQylnXRa",
        "outputId": "acb5e38a-9a20-46a6-9470-25cc3ee864eb"
      },
      "outputs": [
        {
          "data": {
            "application/vnd.google.colaboratory.intrinsic+json": {
              "summary": "{\n  \"name\": \"raw_test_results\",\n  \"rows\": 1,\n  \"fields\": [\n    {\n      \"column\": \"type\",\n      \"properties\": {\n        \"dtype\": \"string\",\n        \"num_unique_values\": 1,\n        \"samples\": [\n          \"2rca\"\n        ],\n        \"semantic_type\": \"\",\n        \"description\": \"\"\n      }\n    },\n    {\n      \"column\": \"bleu_score\",\n      \"properties\": {\n        \"dtype\": \"number\",\n        \"std\": null,\n        \"min\": 63.1662158210465,\n        \"max\": 63.1662158210465,\n        \"num_unique_values\": 1,\n        \"samples\": [\n          63.1662158210465\n        ],\n        \"semantic_type\": \"\",\n        \"description\": \"\"\n      }\n    },\n    {\n      \"column\": \"rouge-1\",\n      \"properties\": {\n        \"dtype\": \"number\",\n        \"std\": null,\n        \"min\": 0.6217035119074154,\n        \"max\": 0.6217035119074154,\n        \"num_unique_values\": 1,\n        \"samples\": [\n          0.6217035119074154\n        ],\n        \"semantic_type\": \"\",\n        \"description\": \"\"\n      }\n    },\n    {\n      \"column\": \"rouge-2\",\n      \"properties\": {\n        \"dtype\": \"number\",\n        \"std\": null,\n        \"min\": 0.48875680004798416,\n        \"max\": 0.48875680004798416,\n        \"num_unique_values\": 1,\n        \"samples\": [\n          0.48875680004798416\n        ],\n        \"semantic_type\": \"\",\n        \"description\": \"\"\n      }\n    },\n    {\n      \"column\": \"rouge-3\",\n      \"properties\": {\n        \"dtype\": \"number\",\n        \"std\": null,\n        \"min\": 0.40004214864213794,\n        \"max\": 0.40004214864213794,\n        \"num_unique_values\": 1,\n        \"samples\": [\n          0.40004214864213794\n        ],\n        \"semantic_type\": \"\",\n        \"description\": \"\"\n      }\n    },\n    {\n      \"column\": \"rouge-4\",\n      \"properties\": {\n        \"dtype\": \"number\",\n        \"std\": null,\n        \"min\": 0.3300244399399683,\n        \"max\": 0.3300244399399683,\n        \"num_unique_values\": 1,\n        \"samples\": [\n          0.3300244399399683\n        ],\n        \"semantic_type\": \"\",\n        \"description\": \"\"\n      }\n    },\n    {\n      \"column\": \"rouge-l\",\n      \"properties\": {\n        \"dtype\": \"number\",\n        \"std\": null,\n        \"min\": 0.613552043293846,\n        \"max\": 0.613552043293846,\n        \"num_unique_values\": 1,\n        \"samples\": [\n          0.613552043293846\n        ],\n        \"semantic_type\": \"\",\n        \"description\": \"\"\n      }\n    },\n    {\n      \"column\": \"rf_score_1\",\n      \"properties\": {\n        \"dtype\": \"number\",\n        \"std\": null,\n        \"min\": 0.2769199893678964,\n        \"max\": 0.2769199893678964,\n        \"num_unique_values\": 1,\n        \"samples\": [\n          0.2769199893678964\n        ],\n        \"semantic_type\": \"\",\n        \"description\": \"\"\n      }\n    },\n    {\n      \"column\": \"rf_score_2\",\n      \"properties\": {\n        \"dtype\": \"number\",\n        \"std\": null,\n        \"min\": 0.20247372575436764,\n        \"max\": 0.20247372575436764,\n        \"num_unique_values\": 1,\n        \"samples\": [\n          0.20247372575436764\n        ],\n        \"semantic_type\": \"\",\n        \"description\": \"\"\n      }\n    },\n    {\n      \"column\": \"rf_score_3\",\n      \"properties\": {\n        \"dtype\": \"number\",\n        \"std\": null,\n        \"min\": 0.1735362923375302,\n        \"max\": 0.1735362923375302,\n        \"num_unique_values\": 1,\n        \"samples\": [\n          0.1735362923375302\n        ],\n        \"semantic_type\": \"\",\n        \"description\": \"\"\n      }\n    },\n    {\n      \"column\": \"rf_score_4\",\n      \"properties\": {\n        \"dtype\": \"number\",\n        \"std\": null,\n        \"min\": 0.15893876304594565,\n        \"max\": 0.15893876304594565,\n        \"num_unique_values\": 1,\n        \"samples\": [\n          0.15893876304594565\n        ],\n        \"semantic_type\": \"\",\n        \"description\": \"\"\n      }\n    }\n  ]\n}",
              "type": "dataframe"
            },
            "text/html": [
              "\n",
              "  <div id=\"df-015513dc-e126-496c-b401-01d505507fb6\" class=\"colab-df-container\">\n",
              "    <div>\n",
              "<style scoped>\n",
              "    .dataframe tbody tr th:only-of-type {\n",
              "        vertical-align: middle;\n",
              "    }\n",
              "\n",
              "    .dataframe tbody tr th {\n",
              "        vertical-align: top;\n",
              "    }\n",
              "\n",
              "    .dataframe thead th {\n",
              "        text-align: right;\n",
              "    }\n",
              "</style>\n",
              "<table border=\"1\" class=\"dataframe\">\n",
              "  <thead>\n",
              "    <tr style=\"text-align: right;\">\n",
              "      <th></th>\n",
              "      <th>bleu_score</th>\n",
              "      <th>rouge-1</th>\n",
              "      <th>rouge-2</th>\n",
              "      <th>rouge-3</th>\n",
              "      <th>rouge-4</th>\n",
              "      <th>rouge-l</th>\n",
              "      <th>rf_score_1</th>\n",
              "      <th>rf_score_2</th>\n",
              "      <th>rf_score_3</th>\n",
              "      <th>rf_score_4</th>\n",
              "    </tr>\n",
              "    <tr>\n",
              "      <th>type</th>\n",
              "      <th></th>\n",
              "      <th></th>\n",
              "      <th></th>\n",
              "      <th></th>\n",
              "      <th></th>\n",
              "      <th></th>\n",
              "      <th></th>\n",
              "      <th></th>\n",
              "      <th></th>\n",
              "      <th></th>\n",
              "    </tr>\n",
              "  </thead>\n",
              "  <tbody>\n",
              "    <tr>\n",
              "      <th>2rca</th>\n",
              "      <td>63.166216</td>\n",
              "      <td>0.621704</td>\n",
              "      <td>0.488757</td>\n",
              "      <td>0.400042</td>\n",
              "      <td>0.330024</td>\n",
              "      <td>0.613552</td>\n",
              "      <td>0.27692</td>\n",
              "      <td>0.202474</td>\n",
              "      <td>0.173536</td>\n",
              "      <td>0.158939</td>\n",
              "    </tr>\n",
              "  </tbody>\n",
              "</table>\n",
              "</div>\n",
              "    <div class=\"colab-df-buttons\">\n",
              "\n",
              "  <div class=\"colab-df-container\">\n",
              "    <button class=\"colab-df-convert\" onclick=\"convertToInteractive('df-015513dc-e126-496c-b401-01d505507fb6')\"\n",
              "            title=\"Convert this dataframe to an interactive table.\"\n",
              "            style=\"display:none;\">\n",
              "\n",
              "  <svg xmlns=\"http://www.w3.org/2000/svg\" height=\"24px\" viewBox=\"0 -960 960 960\">\n",
              "    <path d=\"M120-120v-720h720v720H120Zm60-500h600v-160H180v160Zm220 220h160v-160H400v160Zm0 220h160v-160H400v160ZM180-400h160v-160H180v160Zm440 0h160v-160H620v160ZM180-180h160v-160H180v160Zm440 0h160v-160H620v160Z\"/>\n",
              "  </svg>\n",
              "    </button>\n",
              "\n",
              "  <style>\n",
              "    .colab-df-container {\n",
              "      display:flex;\n",
              "      gap: 12px;\n",
              "    }\n",
              "\n",
              "    .colab-df-convert {\n",
              "      background-color: #E8F0FE;\n",
              "      border: none;\n",
              "      border-radius: 50%;\n",
              "      cursor: pointer;\n",
              "      display: none;\n",
              "      fill: #1967D2;\n",
              "      height: 32px;\n",
              "      padding: 0 0 0 0;\n",
              "      width: 32px;\n",
              "    }\n",
              "\n",
              "    .colab-df-convert:hover {\n",
              "      background-color: #E2EBFA;\n",
              "      box-shadow: 0px 1px 2px rgba(60, 64, 67, 0.3), 0px 1px 3px 1px rgba(60, 64, 67, 0.15);\n",
              "      fill: #174EA6;\n",
              "    }\n",
              "\n",
              "    .colab-df-buttons div {\n",
              "      margin-bottom: 4px;\n",
              "    }\n",
              "\n",
              "    [theme=dark] .colab-df-convert {\n",
              "      background-color: #3B4455;\n",
              "      fill: #D2E3FC;\n",
              "    }\n",
              "\n",
              "    [theme=dark] .colab-df-convert:hover {\n",
              "      background-color: #434B5C;\n",
              "      box-shadow: 0px 1px 3px 1px rgba(0, 0, 0, 0.15);\n",
              "      filter: drop-shadow(0px 1px 2px rgba(0, 0, 0, 0.3));\n",
              "      fill: #FFFFFF;\n",
              "    }\n",
              "  </style>\n",
              "\n",
              "    <script>\n",
              "      const buttonEl =\n",
              "        document.querySelector('#df-015513dc-e126-496c-b401-01d505507fb6 button.colab-df-convert');\n",
              "      buttonEl.style.display =\n",
              "        google.colab.kernel.accessAllowed ? 'block' : 'none';\n",
              "\n",
              "      async function convertToInteractive(key) {\n",
              "        const element = document.querySelector('#df-015513dc-e126-496c-b401-01d505507fb6');\n",
              "        const dataTable =\n",
              "          await google.colab.kernel.invokeFunction('convertToInteractive',\n",
              "                                                    [key], {});\n",
              "        if (!dataTable) return;\n",
              "\n",
              "        const docLinkHtml = 'Like what you see? Visit the ' +\n",
              "          '<a target=\"_blank\" href=https://colab.research.google.com/notebooks/data_table.ipynb>data table notebook</a>'\n",
              "          + ' to learn more about interactive tables.';\n",
              "        element.innerHTML = '';\n",
              "        dataTable['output_type'] = 'display_data';\n",
              "        await google.colab.output.renderOutput(dataTable, element);\n",
              "        const docLink = document.createElement('div');\n",
              "        docLink.innerHTML = docLinkHtml;\n",
              "        element.appendChild(docLink);\n",
              "      }\n",
              "    </script>\n",
              "  </div>\n",
              "\n",
              "    </div>\n",
              "  </div>\n"
            ],
            "text/plain": [
              "      bleu_score   rouge-1   rouge-2   rouge-3   rouge-4   rouge-l  \\\n",
              "type                                                                 \n",
              "2rca   63.166216  0.621704  0.488757  0.400042  0.330024  0.613552   \n",
              "\n",
              "      rf_score_1  rf_score_2  rf_score_3  rf_score_4  \n",
              "type                                                  \n",
              "2rca     0.27692    0.202474    0.173536    0.158939  "
            ]
          },
          "execution_count": 34,
          "metadata": {},
          "output_type": "execute_result"
        }
      ],
      "source": [
        "raw_test_results.apply(callculate_metrics, axis=1).drop(columns=[\"model_out_raw\", \"history\", \"text\", \"restored_text\"])"
      ]
    }
  ],
  "metadata": {
    "colab": {
      "provenance": []
    },
    "kernelspec": {
      "display_name": "Python 3",
      "name": "python3"
    },
    "language_info": {
      "name": "python"
    }
  },
  "nbformat": 4,
  "nbformat_minor": 0
}
