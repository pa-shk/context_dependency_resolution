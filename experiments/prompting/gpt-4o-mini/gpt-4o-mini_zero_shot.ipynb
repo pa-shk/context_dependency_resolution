{
  "cells": [
    {
      "cell_type": "code",
      "execution_count": null,
      "metadata": {},
      "outputs": [],
      "source": [
        "import sys\n",
        "import time\n",
        "\n",
        "sys.path.append('../../..')"
      ]
    },
    {
      "cell_type": "code",
      "execution_count": null,
      "metadata": {},
      "outputs": [],
      "source": [
        "import tiktoken\n",
        "\n",
        "from omegaconf import OmegaConf\n",
        "from openai import OpenAI\n",
        "from tqdm import tqdm\n",
        "\n",
        "from src.data_prepocessing import load_ds\n",
        "from src.evaluation import Evaluator"
      ]
    },
    {
      "cell_type": "markdown",
      "metadata": {},
      "source": [
        "# Experiment set up"
      ]
    },
    {
      "cell_type": "code",
      "execution_count": null,
      "metadata": {},
      "outputs": [
        {
          "name": "stdout",
          "output_type": "stream",
          "text": [
            "model_name: gpt-4o-mini\n",
            "prompt: Ты професиональный разметчик с лингвистическим образованием. Внимательно прочитай\n",
            "  диалог. Перепишите неполное высказывание на основе истории диалога. Ответ должен\n",
            "  содержать только переписанное высказывание\n",
            "\n"
          ]
        }
      ],
      "source": [
        "config = OmegaConf.load(\"openai_config.yaml\")\n",
        "print(OmegaConf.to_yaml(config))"
      ]
    },
    {
      "cell_type": "markdown",
      "metadata": {},
      "source": [
        "# Data loading"
      ]
    },
    {
      "cell_type": "code",
      "execution_count": null,
      "metadata": {},
      "outputs": [],
      "source": [
        "class HFCompatibleTokenizer:\n",
        "    def __init__(self, model_name):\n",
        "        self._tokenizer = tiktoken.encoding_for_model(model_name)\n",
        "\n",
        "    def encode(self, text):\n",
        "        return {'input_ids': self.tokenizer.encode(text)}\n",
        "    \n",
        "    def __call__(self, text):\n",
        "        return self.encode(text)\n",
        "    \n",
        "\n",
        "tokenizer = HFCompatibleTokenizer(config.model_name)"
      ]
    },
    {
      "cell_type": "code",
      "execution_count": null,
      "metadata": {},
      "outputs": [
        {
          "name": "stderr",
          "output_type": "stream",
          "text": [
            "Map: 100%|██████████| 4411/4411 [00:01<00:00, 4070.57 examples/s]\n",
            "Map: 100%|██████████| 551/551 [00:00<00:00, 4135.96 examples/s]\n",
            "Map: 100%|██████████| 551/551 [00:00<00:00, 4107.86 examples/s]\n"
          ]
        }
      ],
      "source": [
        "ds = load_ds(\"2rca_checked_version.json\")"
      ]
    },
    {
      "cell_type": "code",
      "execution_count": null,
      "metadata": {},
      "outputs": [
        {
          "data": {
            "text/plain": [
              "{'history': ['Привет.',\n",
              "  'Привет.',\n",
              "  'Как твоё настроение сегодня?',\n",
              "  'Настроение отлично, скоро куплю машину, а твоё настроение как?',\n",
              "  'Здорово, ты скоро купишь машину! У меня тоже настроение на позитиве! Я очень давно хочу в Бразилию, и, кажется, сегодня моя мечта сбудется! Вечером поедем с подругой в турфирму оплачивать наш тур в Бразилию. А у тебя есть мечта?',\n",
              "  'Давно хочу завести лабрадора, прям с детства хочу собаку. Может, когда дочка подрастет заведу себе лабрадора.',\n",
              "  'Моей собаке уже 5 лет, и я даже не представляю, как я могла жить без своей собаки раньше?! Я думаю, что у тебя всё получится и у вас скоро обязательно появится питомец! Ведь собаки такие милые! Что сегодня будешь готовить на ужин?'],\n",
              " 'phrase': 'Сегодня будет мясо с кровью! Вот только надо в магазин... Эх, пойду прогуляюсь под дождём, это успокаивает.',\n",
              " 'rewrite': 'Сегодня на ужин будет мясо с кровью! Вот только надо в магазин... Эх, пойду прогуляюсь под дождём, это успокаивает.'}"
            ]
          },
          "metadata": {},
          "output_type": "display_data"
        }
      ],
      "source": [
        "ds['train'][0]"
      ]
    },
    {
      "cell_type": "markdown",
      "metadata": {},
      "source": [
        "# Evaluation"
      ]
    },
    {
      "cell_type": "code",
      "execution_count": null,
      "metadata": {},
      "outputs": [],
      "source": [
        "def infer_ds(ds, model, **kwargs):\n",
        "    test_results = []\n",
        "\n",
        "    for i in tqdm(range(100)):\n",
        "        success = False\n",
        "        while not success:\n",
        "            try:\n",
        "                messages = [\n",
        "                    {\n",
        "                        \"role\": \"system\",\n",
        "                        \"content\": config.prompt\n",
        "                    },\n",
        "                    {\n",
        "                        \"role\": \"user\",\n",
        "                        \"content\": \"История: \" + str(ds['test']['history'][i][-1]) + \" Неполное высказвание: \" + ds['test'][\"phrase\"][i]\n",
        "                    }\n",
        "                ]\n",
        "\n",
        "                response = kwargs[\"client\"].chat.completions.create(\n",
        "                    model=model,\n",
        "                    messages=messages,\n",
        "                    temperature=1\n",
        "                )\n",
        "                out = response.choices[0].message.content\n",
        "                test_results.append(out)\n",
        "                success = True\n",
        "            except:\n",
        "                time.sleep(20)\n",
        "\n",
        "    return test_results"
      ]
    },
    {
      "cell_type": "code",
      "execution_count": null,
      "metadata": {},
      "outputs": [
        {
          "data": {
            "application/vnd.google.colaboratory.intrinsic+json": {
              "summary": "{\n  \"name\": \"raw_test_results\",\n  \"rows\": 1,\n  \"fields\": [\n    {\n      \"column\": \"type\",\n      \"properties\": {\n        \"dtype\": \"string\",\n        \"num_unique_values\": 1,\n        \"samples\": [\n          \"2rca\"\n        ],\n        \"semantic_type\": \"\",\n        \"description\": \"\"\n      }\n    },\n    {\n      \"column\": \"bleu_score\",\n      \"properties\": {\n        \"dtype\": \"number\",\n        \"std\": null,\n        \"min\": 63.1662158210465,\n        \"max\": 63.1662158210465,\n        \"num_unique_values\": 1,\n        \"samples\": [\n          63.1662158210465\n        ],\n        \"semantic_type\": \"\",\n        \"description\": \"\"\n      }\n    },\n    {\n      \"column\": \"rouge-1\",\n      \"properties\": {\n        \"dtype\": \"number\",\n        \"std\": null,\n        \"min\": 0.6217035119074154,\n        \"max\": 0.6217035119074154,\n        \"num_unique_values\": 1,\n        \"samples\": [\n          0.6217035119074154\n        ],\n        \"semantic_type\": \"\",\n        \"description\": \"\"\n      }\n    },\n    {\n      \"column\": \"rouge-2\",\n      \"properties\": {\n        \"dtype\": \"number\",\n        \"std\": null,\n        \"min\": 0.48875680004798416,\n        \"max\": 0.48875680004798416,\n        \"num_unique_values\": 1,\n        \"samples\": [\n          0.48875680004798416\n        ],\n        \"semantic_type\": \"\",\n        \"description\": \"\"\n      }\n    },\n    {\n      \"column\": \"rouge-3\",\n      \"properties\": {\n        \"dtype\": \"number\",\n        \"std\": null,\n        \"min\": 0.40004214864213794,\n        \"max\": 0.40004214864213794,\n        \"num_unique_values\": 1,\n        \"samples\": [\n          0.40004214864213794\n        ],\n        \"semantic_type\": \"\",\n        \"description\": \"\"\n      }\n    },\n    {\n      \"column\": \"rouge-4\",\n      \"properties\": {\n        \"dtype\": \"number\",\n        \"std\": null,\n        \"min\": 0.3300244399399683,\n        \"max\": 0.3300244399399683,\n        \"num_unique_values\": 1,\n        \"samples\": [\n          0.3300244399399683\n        ],\n        \"semantic_type\": \"\",\n        \"description\": \"\"\n      }\n    },\n    {\n      \"column\": \"rouge-l\",\n      \"properties\": {\n        \"dtype\": \"number\",\n        \"std\": null,\n        \"min\": 0.613552043293846,\n        \"max\": 0.613552043293846,\n        \"num_unique_values\": 1,\n        \"samples\": [\n          0.613552043293846\n        ],\n        \"semantic_type\": \"\",\n        \"description\": \"\"\n      }\n    },\n    {\n      \"column\": \"rf_score_1\",\n      \"properties\": {\n        \"dtype\": \"number\",\n        \"std\": null,\n        \"min\": 0.2769199893678964,\n        \"max\": 0.2769199893678964,\n        \"num_unique_values\": 1,\n        \"samples\": [\n          0.2769199893678964\n        ],\n        \"semantic_type\": \"\",\n        \"description\": \"\"\n      }\n    },\n    {\n      \"column\": \"rf_score_2\",\n      \"properties\": {\n        \"dtype\": \"number\",\n        \"std\": null,\n        \"min\": 0.20247372575436764,\n        \"max\": 0.20247372575436764,\n        \"num_unique_values\": 1,\n        \"samples\": [\n          0.20247372575436764\n        ],\n        \"semantic_type\": \"\",\n        \"description\": \"\"\n      }\n    },\n    {\n      \"column\": \"rf_score_3\",\n      \"properties\": {\n        \"dtype\": \"number\",\n        \"std\": null,\n        \"min\": 0.1735362923375302,\n        \"max\": 0.1735362923375302,\n        \"num_unique_values\": 1,\n        \"samples\": [\n          0.1735362923375302\n        ],\n        \"semantic_type\": \"\",\n        \"description\": \"\"\n      }\n    },\n    {\n      \"column\": \"rf_score_4\",\n      \"properties\": {\n        \"dtype\": \"number\",\n        \"std\": null,\n        \"min\": 0.15893876304594565,\n        \"max\": 0.15893876304594565,\n        \"num_unique_values\": 1,\n        \"samples\": [\n          0.15893876304594565\n        ],\n        \"semantic_type\": \"\",\n        \"description\": \"\"\n      }\n    }\n  ]\n}",
              "type": "dataframe"
            },
            "text/html": [
              "\n",
              "  <div id=\"df-015513dc-e126-496c-b401-01d505507fb6\" class=\"colab-df-container\">\n",
              "    <div>\n",
              "<style scoped>\n",
              "    .dataframe tbody tr th:only-of-type {\n",
              "        vertical-align: middle;\n",
              "    }\n",
              "\n",
              "    .dataframe tbody tr th {\n",
              "        vertical-align: top;\n",
              "    }\n",
              "\n",
              "    .dataframe thead th {\n",
              "        text-align: right;\n",
              "    }\n",
              "</style>\n",
              "<table border=\"1\" class=\"dataframe\">\n",
              "  <thead>\n",
              "    <tr style=\"text-align: right;\">\n",
              "      <th></th>\n",
              "      <th>bleu_score</th>\n",
              "      <th>rouge-1</th>\n",
              "      <th>rouge-2</th>\n",
              "      <th>rouge-3</th>\n",
              "      <th>rouge-4</th>\n",
              "      <th>rouge-l</th>\n",
              "      <th>rf_score_1</th>\n",
              "      <th>rf_score_2</th>\n",
              "      <th>rf_score_3</th>\n",
              "      <th>rf_score_4</th>\n",
              "    </tr>\n",
              "    <tr>\n",
              "      <th>type</th>\n",
              "      <th></th>\n",
              "      <th></th>\n",
              "      <th></th>\n",
              "      <th></th>\n",
              "      <th></th>\n",
              "      <th></th>\n",
              "      <th></th>\n",
              "      <th></th>\n",
              "      <th></th>\n",
              "      <th></th>\n",
              "    </tr>\n",
              "  </thead>\n",
              "  <tbody>\n",
              "    <tr>\n",
              "      <th>2rca</th>\n",
              "      <td>63.166216</td>\n",
              "      <td>0.621704</td>\n",
              "      <td>0.488757</td>\n",
              "      <td>0.400042</td>\n",
              "      <td>0.330024</td>\n",
              "      <td>0.613552</td>\n",
              "      <td>0.27692</td>\n",
              "      <td>0.202474</td>\n",
              "      <td>0.173536</td>\n",
              "      <td>0.158939</td>\n",
              "    </tr>\n",
              "  </tbody>\n",
              "</table>\n",
              "</div>\n",
              "    <div class=\"colab-df-buttons\">\n",
              "\n",
              "  <div class=\"colab-df-container\">\n",
              "    <button class=\"colab-df-convert\" onclick=\"convertToInteractive('df-015513dc-e126-496c-b401-01d505507fb6')\"\n",
              "            title=\"Convert this dataframe to an interactive table.\"\n",
              "            style=\"display:none;\">\n",
              "\n",
              "  <svg xmlns=\"http://www.w3.org/2000/svg\" height=\"24px\" viewBox=\"0 -960 960 960\">\n",
              "    <path d=\"M120-120v-720h720v720H120Zm60-500h600v-160H180v160Zm220 220h160v-160H400v160Zm0 220h160v-160H400v160ZM180-400h160v-160H180v160Zm440 0h160v-160H620v160ZM180-180h160v-160H180v160Zm440 0h160v-160H620v160Z\"/>\n",
              "  </svg>\n",
              "    </button>\n",
              "\n",
              "  <style>\n",
              "    .colab-df-container {\n",
              "      display:flex;\n",
              "      gap: 12px;\n",
              "    }\n",
              "\n",
              "    .colab-df-convert {\n",
              "      background-color: #E8F0FE;\n",
              "      border: none;\n",
              "      border-radius: 50%;\n",
              "      cursor: pointer;\n",
              "      display: none;\n",
              "      fill: #1967D2;\n",
              "      height: 32px;\n",
              "      padding: 0 0 0 0;\n",
              "      width: 32px;\n",
              "    }\n",
              "\n",
              "    .colab-df-convert:hover {\n",
              "      background-color: #E2EBFA;\n",
              "      box-shadow: 0px 1px 2px rgba(60, 64, 67, 0.3), 0px 1px 3px 1px rgba(60, 64, 67, 0.15);\n",
              "      fill: #174EA6;\n",
              "    }\n",
              "\n",
              "    .colab-df-buttons div {\n",
              "      margin-bottom: 4px;\n",
              "    }\n",
              "\n",
              "    [theme=dark] .colab-df-convert {\n",
              "      background-color: #3B4455;\n",
              "      fill: #D2E3FC;\n",
              "    }\n",
              "\n",
              "    [theme=dark] .colab-df-convert:hover {\n",
              "      background-color: #434B5C;\n",
              "      box-shadow: 0px 1px 3px 1px rgba(0, 0, 0, 0.15);\n",
              "      filter: drop-shadow(0px 1px 2px rgba(0, 0, 0, 0.3));\n",
              "      fill: #FFFFFF;\n",
              "    }\n",
              "  </style>\n",
              "\n",
              "    <script>\n",
              "      const buttonEl =\n",
              "        document.querySelector('#df-015513dc-e126-496c-b401-01d505507fb6 button.colab-df-convert');\n",
              "      buttonEl.style.display =\n",
              "        google.colab.kernel.accessAllowed ? 'block' : 'none';\n",
              "\n",
              "      async function convertToInteractive(key) {\n",
              "        const element = document.querySelector('#df-015513dc-e126-496c-b401-01d505507fb6');\n",
              "        const dataTable =\n",
              "          await google.colab.kernel.invokeFunction('convertToInteractive',\n",
              "                                                    [key], {});\n",
              "        if (!dataTable) return;\n",
              "\n",
              "        const docLinkHtml = 'Like what you see? Visit the ' +\n",
              "          '<a target=\"_blank\" href=https://colab.research.google.com/notebooks/data_table.ipynb>data table notebook</a>'\n",
              "          + ' to learn more about interactive tables.';\n",
              "        element.innerHTML = '';\n",
              "        dataTable['output_type'] = 'display_data';\n",
              "        await google.colab.output.renderOutput(dataTable, element);\n",
              "        const docLink = document.createElement('div');\n",
              "        docLink.innerHTML = docLinkHtml;\n",
              "        element.appendChild(docLink);\n",
              "      }\n",
              "    </script>\n",
              "  </div>\n",
              "\n",
              "    </div>\n",
              "  </div>\n"
            ],
            "text/plain": [
              "      bleu_score   rouge-1   rouge-2   rouge-3   rouge-4   rouge-l  \\\n",
              "type                                                                 \n",
              "2rca   63.166216  0.621704  0.488757  0.400042  0.330024  0.613552   \n",
              "\n",
              "      rf_score_1  rf_score_2  rf_score_3  rf_score_4  \n",
              "type                                                  \n",
              "2rca     0.27692    0.202474    0.173536    0.158939  "
            ]
          },
          "metadata": {},
          "output_type": "display_data"
        }
      ],
      "source": [
        "client = OpenAI()\n",
        "\n",
        "evaluator = Evaluator(dataset=ds, \n",
        "                      model=config.model_name, \n",
        "                      client=client,\n",
        "                      tokenizer=tokenizer, \n",
        "                      infer_func=infer_ds)\n",
        "\n",
        "evaluator.evaluate()"
      ]
    }
  ],
  "metadata": {
    "colab": {
      "provenance": []
    },
    "kernelspec": {
      "display_name": "Python 3",
      "name": "python3"
    },
    "language_info": {
      "name": "python"
    }
  },
  "nbformat": 4,
  "nbformat_minor": 0
}
