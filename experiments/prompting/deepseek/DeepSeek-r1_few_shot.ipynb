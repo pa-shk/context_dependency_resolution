{
  "cells": [
    {
      "cell_type": "code",
      "execution_count": 1,
      "metadata": {
        "id": "7Cieo3UAJq5U"
      },
      "outputs": [],
      "source": [
        "!pip install datasets -q"
      ]
    },
    {
      "cell_type": "code",
      "execution_count": null,
      "metadata": {},
      "outputs": [],
      "source": [
        "import os"
      ]
    },
    {
      "cell_type": "code",
      "execution_count": 2,
      "metadata": {
        "id": "VG3WPtgGDFwp"
      },
      "outputs": [],
      "source": [
        "import json\n",
        "import pandas as pd\n",
        "\n",
        "from transformers import AutoModelForCausalLM, AutoTokenizer"
      ]
    },
    {
      "cell_type": "markdown",
      "metadata": {
        "id": "Q9voUMEu_8yt"
      },
      "source": [
        "## Data loading"
      ]
    },
    {
      "cell_type": "code",
      "execution_count": 3,
      "metadata": {
        "id": "shLnd35KvbyL"
      },
      "outputs": [],
      "source": [
        "!wget https://github.com/anna-a-m/dataset-2rca/raw/refs/heads/main/data/2rca_checked_version.json -q"
      ]
    },
    {
      "cell_type": "code",
      "execution_count": 4,
      "metadata": {
        "id": "V_o7oSOPv3s8"
      },
      "outputs": [],
      "source": [
        "with open('2rca_checked_version.json') as f:\n",
        "    data = json.load(f)"
      ]
    },
    {
      "cell_type": "markdown",
      "metadata": {
        "id": "AJ35eu-RAGpo"
      },
      "source": [
        "## Data samples"
      ]
    },
    {
      "cell_type": "code",
      "execution_count": 5,
      "metadata": {
        "colab": {
          "base_uri": "https://localhost:8080/"
        },
        "id": "AblSvXitzUji",
        "outputId": "a09c4439-4de8-4551-fc7b-d5ffaf4e0023"
      },
      "outputs": [
        {
          "data": {
            "text/plain": [
              "{'History': ['Привет, расскажи о себе.',\n",
              "  'Привет! Под вкусный кофеек настроение поболтать появилось.'],\n",
              " 'Dia_ID_hash': 'dia_628e79cf',\n",
              " 'Utt_ID_hash': 'utt_64c12a9b',\n",
              " 'Phrase': 'Что читаешь? Мне нравится классика. Я тоже люблю пообщаться.',\n",
              " 'Rewrite': 'Что читаешь? Мне нравится читать классику. Я тоже люблю пообщаться.'}"
            ]
          },
          "execution_count": 5,
          "metadata": {},
          "output_type": "execute_result"
        }
      ],
      "source": [
        "data[0]"
      ]
    },
    {
      "cell_type": "code",
      "execution_count": 6,
      "metadata": {
        "colab": {
          "base_uri": "https://localhost:8080/"
        },
        "id": "4cihR2B-zZ6i",
        "outputId": "a285e8e1-f1d9-4a47-f5f8-20a6accb1359"
      },
      "outputs": [
        {
          "data": {
            "text/plain": [
              "{'History': ['Привет, расскажи о себе.',\n",
              "  'Привет! Под вкусный кофеек настроение поболтать появилось.',\n",
              "  'Что читаешь? Мне нравится читать классику. Я тоже люблю пообщаться.'],\n",
              " 'Dia_ID_hash': 'dia_628e79cf',\n",
              " 'Utt_ID_hash': 'utt_5cd9dc06',\n",
              " 'Phrase': 'Люблю животных, просто обожаю, как и свою работу. Я фантастику люблю.',\n",
              " 'Rewrite': 'Люблю животных, просто обожаю, как и свою работу. Я фантастику читать люблю.'}"
            ]
          },
          "execution_count": 6,
          "metadata": {},
          "output_type": "execute_result"
        }
      ],
      "source": [
        "data[1]"
      ]
    },
    {
      "cell_type": "code",
      "execution_count": 7,
      "metadata": {
        "colab": {
          "base_uri": "https://localhost:8080/"
        },
        "id": "Oqn-3_Lqzcx1",
        "outputId": "81c821b5-e5ac-4256-8102-16755e0dcba8"
      },
      "outputs": [
        {
          "data": {
            "text/plain": [
              "{'History': ['Привет, расскажи о себе.',\n",
              "  'Привет! Под вкусный кофеек настроение поболтать появилось.',\n",
              "  'Что читаешь? Мне нравится читать классику. Я тоже люблю пообщаться.',\n",
              "  'Люблю животных, просто обожаю, как и свою работу. Я фантастику читать люблю.',\n",
              "  'А я выращиваю фиалки и веду здоровый и активный образ жизни.'],\n",
              " 'Dia_ID_hash': 'dia_628e79cf',\n",
              " 'Utt_ID_hash': 'utt_9d73f6c2',\n",
              " 'Phrase': 'Ух ты, интересно.',\n",
              " 'Rewrite': 'Ух ты, интересно, ты фиалки выращиваешь.'}"
            ]
          },
          "execution_count": 7,
          "metadata": {},
          "output_type": "execute_result"
        }
      ],
      "source": [
        "data[2]"
      ]
    },
    {
      "cell_type": "code",
      "execution_count": 8,
      "metadata": {
        "colab": {
          "base_uri": "https://localhost:8080/"
        },
        "id": "oLER3_u2zebK",
        "outputId": "f3a92aa7-d172-41e4-8428-e56623c7ee5a"
      },
      "outputs": [
        {
          "data": {
            "text/plain": [
              "{'History': ['Привет, расскажи о себе.',\n",
              "  'Привет! Под вкусный кофеек настроение поболтать появилось.',\n",
              "  'Что читаешь? Мне нравится читать классику. Я тоже люблю пообщаться.',\n",
              "  'Люблю животных, просто обожаю, как и свою работу. Я фантастику читать люблю.',\n",
              "  'А я выращиваю фиалки и веду здоровый и активный образ жизни.',\n",
              "  'Ух ты, интересно, ты фиалки выращиваешь.'],\n",
              " 'Dia_ID_hash': 'dia_628e79cf',\n",
              " 'Utt_ID_hash': 'utt_2bfa24e4',\n",
              " 'Phrase': 'Ты случайно не принц на белом коне? Я его очень жду.',\n",
              " 'Rewrite': 'Ты случайно не принц на белом коне? Я принца на белом коне очень жду.'}"
            ]
          },
          "execution_count": 8,
          "metadata": {},
          "output_type": "execute_result"
        }
      ],
      "source": [
        "data[3]"
      ]
    },
    {
      "cell_type": "markdown",
      "metadata": {
        "id": "e4Xfj1pZBEw0"
      },
      "source": [
        "Saving sample of data for manual examination"
      ]
    },
    {
      "cell_type": "code",
      "execution_count": 9,
      "metadata": {
        "id": "ByL5NvwboMGm"
      },
      "outputs": [],
      "source": [
        "history, phrase, rewrite = [], [], []\n",
        "\n",
        "for sample in data:\n",
        "    history.append(sample[\"History\"])\n",
        "    phrase.append(sample[\"Phrase\"])\n",
        "    rewrite.append(sample[\"Rewrite\"])"
      ]
    },
    {
      "cell_type": "code",
      "execution_count": 10,
      "metadata": {
        "id": "UW3ciurvoZK-"
      },
      "outputs": [],
      "source": [
        "df = pd.DataFrame({\"history\": history, \"phrase\": phrase, \"rewrite\": rewrite})"
      ]
    },
    {
      "cell_type": "markdown",
      "metadata": {
        "id": "Fhgxszvdy0XT"
      },
      "source": [
        "## HF datasets"
      ]
    },
    {
      "cell_type": "code",
      "execution_count": 11,
      "metadata": {
        "id": "cAw117BwaUIB"
      },
      "outputs": [],
      "source": [
        "from datasets import DatasetDict, Dataset\n",
        "\n",
        "ds = Dataset.from_pandas(df)\n",
        "ds = ds.train_test_split(test_size=0.2, shuffle=True, seed=42)\n",
        "train_ds, test_ds = ds[\"train\"], ds[\"test\"]\n",
        "test_ds = test_ds.train_test_split(test_size=0.5, shuffle=True, seed=42)\n",
        "val_ds, test_ds = test_ds[\"train\"], test_ds[\"train\"]\n",
        "\n",
        "ds[\"train\"] = train_ds\n",
        "ds[\"val\"] = val_ds\n",
        "ds[\"test\"] = test_ds"
      ]
    },
    {
      "cell_type": "code",
      "execution_count": 12,
      "metadata": {
        "colab": {
          "base_uri": "https://localhost:8080/"
        },
        "id": "YP63UXIJrwXU",
        "outputId": "53e65d67-5ba0-456b-c78f-6bbf0816130c"
      },
      "outputs": [
        {
          "data": {
            "text/plain": [
              "DatasetDict({\n",
              "    train: Dataset({\n",
              "        features: ['history', 'phrase', 'rewrite'],\n",
              "        num_rows: 4411\n",
              "    })\n",
              "    test: Dataset({\n",
              "        features: ['history', 'phrase', 'rewrite'],\n",
              "        num_rows: 551\n",
              "    })\n",
              "    val: Dataset({\n",
              "        features: ['history', 'phrase', 'rewrite'],\n",
              "        num_rows: 551\n",
              "    })\n",
              "})"
            ]
          },
          "execution_count": 12,
          "metadata": {},
          "output_type": "execute_result"
        }
      ],
      "source": [
        "ds"
      ]
    },
    {
      "cell_type": "code",
      "execution_count": 13,
      "metadata": {
        "colab": {
          "base_uri": "https://localhost:8080/"
        },
        "id": "Ais8_niJXKz6",
        "outputId": "2fc2a0cf-e732-476b-eac6-e8e9cc84f22a"
      },
      "outputs": [
        {
          "name": "stdout",
          "output_type": "stream",
          "text": [
            "\u001b[?25l   \u001b[90m━━━━━━━━━━━━━━━━━━━━━━━━━━━━━━━━━━━━━━━━\u001b[0m \u001b[32m0.0/88.7 kB\u001b[0m \u001b[31m?\u001b[0m eta \u001b[36m-:--:--\u001b[0m\r\u001b[2K   \u001b[90m━━━━━━━━━━━━━━━━━━━━━━━━━━━━━━━━━━━━━━━━\u001b[0m \u001b[32m88.7/88.7 kB\u001b[0m \u001b[31m3.3 MB/s\u001b[0m eta \u001b[36m0:00:00\u001b[0m\n",
            "\u001b[?25h"
          ]
        }
      ],
      "source": [
        "!pip install together -q"
      ]
    },
    {
      "cell_type": "code",
      "execution_count": null,
      "metadata": {
        "id": "a_MKM1b5XKz7"
      },
      "outputs": [],
      "source": [
        "from together import Together\n",
        "\n",
        "client = Together()"
      ]
    },
    {
      "cell_type": "code",
      "execution_count": 48,
      "metadata": {
        "id": "K8OyWzRkJSAw"
      },
      "outputs": [],
      "source": [
        "from tqdm import tqdm"
      ]
    },
    {
      "cell_type": "code",
      "execution_count": 49,
      "metadata": {
        "id": "MrJt8LXLahtM"
      },
      "outputs": [],
      "source": [
        "prompt = \"Ты професиональный разметчик с лингвистическим образованием. Внимательно прочитай диалог. Перепишите неполное высказывание на основе истории диалога. Ответ должен содержать только переписанное высказывание\\n\""
      ]
    },
    {
      "cell_type": "code",
      "execution_count": 50,
      "metadata": {
        "id": "2HqgVUQNJyEo"
      },
      "outputs": [],
      "source": [
        "MODEL_NAME = \"deepseek-ai/DeepSeek-R1\""
      ]
    },
    {
      "cell_type": "code",
      "execution_count": 51,
      "metadata": {
        "colab": {
          "base_uri": "https://localhost:8080/"
        },
        "id": "TfAPfzp8gBSn",
        "outputId": "a7ea808e-fa83-4142-aff4-50f56450cc89"
      },
      "outputs": [
        {
          "data": {
            "text/plain": [
              "{'history': ['Привет.',\n",
              "  'Привет.',\n",
              "  'Как твоё настроение сегодня?',\n",
              "  'Настроение отлично, скоро куплю машину, а твоё настроение как?',\n",
              "  'Здорово, ты скоро купишь машину! У меня тоже настроение на позитиве! Я очень давно хочу в Бразилию, и, кажется, сегодня моя мечта сбудется! Вечером поедем с подругой в турфирму оплачивать наш тур в Бразилию. А у тебя есть мечта?',\n",
              "  'Давно хочу завести лабрадора, прям с детства хочу собаку. Может, когда дочка подрастет заведу себе лабрадора.',\n",
              "  'Моей собаке уже 5 лет, и я даже не представляю, как я могла жить без своей собаки раньше?! Я думаю, что у тебя всё получится и у вас скоро обязательно появится питомец! Ведь собаки такие милые! Что сегодня будешь готовить на ужин?'],\n",
              " 'phrase': 'Сегодня будет мясо с кровью! Вот только надо в магазин... Эх, пойду прогуляюсь под дождём, это успокаивает.',\n",
              " 'rewrite': 'Сегодня на ужин будет мясо с кровью! Вот только надо в магазин... Эх, пойду прогуляюсь под дождём, это успокаивает.'}"
            ]
          },
          "execution_count": 51,
          "metadata": {},
          "output_type": "execute_result"
        }
      ],
      "source": [
        "ds['train'][0]"
      ]
    },
    {
      "cell_type": "code",
      "execution_count": 53,
      "metadata": {
        "colab": {
          "base_uri": "https://localhost:8080/",
          "height": 462
        },
        "id": "Ae8jE7ByMzPj",
        "outputId": "a2541c98-b53f-4f29-a6f0-9ab21270a3b1"
      },
      "outputs": [
        {
          "name": "stderr",
          "output_type": "stream",
          "text": [
            " 52%|█████▏    | 52/100 [3:00:36<2:46:43, 208.40s/it]\n"
          ]
        },
        {
          "ename": "KeyboardInterrupt",
          "evalue": "",
          "output_type": "error",
          "traceback": [
            "\u001b[0;31m---------------------------------------------------------------------------\u001b[0m",
            "\u001b[0;31mRateLimitError\u001b[0m                            Traceback (most recent call last)",
            "\u001b[0;32m<ipython-input-53-c0e128d2ca98>\u001b[0m in \u001b[0;36m<cell line: 0>\u001b[0;34m()\u001b[0m\n\u001b[1;32m     50\u001b[0m \u001b[0;34m\u001b[0m\u001b[0m\n\u001b[0;32m---> 51\u001b[0;31m             response = client.chat.completions.create(\n\u001b[0m\u001b[1;32m     52\u001b[0m             \u001b[0mmodel\u001b[0m\u001b[0;34m=\u001b[0m\u001b[0mMODEL_NAME\u001b[0m\u001b[0;34m,\u001b[0m\u001b[0;34m\u001b[0m\u001b[0;34m\u001b[0m\u001b[0m\n",
            "\u001b[0;32m/usr/local/lib/python3.11/dist-packages/together/resources/chat/completions.py\u001b[0m in \u001b[0;36mcreate\u001b[0;34m(self, messages, model, max_tokens, stop, temperature, top_p, top_k, repetition_penalty, presence_penalty, frequency_penalty, min_p, logit_bias, seed, stream, logprobs, echo, n, safety_model, response_format, tools, tool_choice, **kwargs)\u001b[0m\n\u001b[1;32m    140\u001b[0m \u001b[0;34m\u001b[0m\u001b[0m\n\u001b[0;32m--> 141\u001b[0;31m         response, _, _ = requestor.request(\n\u001b[0m\u001b[1;32m    142\u001b[0m             options=TogetherRequest(\n",
            "\u001b[0;32m/usr/local/lib/python3.11/dist-packages/together/abstract/api_requestor.py\u001b[0m in \u001b[0;36mrequest\u001b[0;34m(self, options, stream, remaining_retries, request_timeout)\u001b[0m\n\u001b[1;32m    248\u001b[0m \u001b[0;34m\u001b[0m\u001b[0m\n\u001b[0;32m--> 249\u001b[0;31m         \u001b[0mresp\u001b[0m\u001b[0;34m,\u001b[0m \u001b[0mgot_stream\u001b[0m \u001b[0;34m=\u001b[0m \u001b[0mself\u001b[0m\u001b[0;34m.\u001b[0m\u001b[0m_interpret_response\u001b[0m\u001b[0;34m(\u001b[0m\u001b[0mresult\u001b[0m\u001b[0;34m,\u001b[0m \u001b[0mstream\u001b[0m\u001b[0;34m)\u001b[0m\u001b[0;34m\u001b[0m\u001b[0;34m\u001b[0m\u001b[0m\n\u001b[0m\u001b[1;32m    250\u001b[0m         \u001b[0;32mreturn\u001b[0m \u001b[0mresp\u001b[0m\u001b[0;34m,\u001b[0m \u001b[0mgot_stream\u001b[0m\u001b[0;34m,\u001b[0m \u001b[0mself\u001b[0m\u001b[0;34m.\u001b[0m\u001b[0mapi_key\u001b[0m\u001b[0;34m\u001b[0m\u001b[0;34m\u001b[0m\u001b[0m\n",
            "\u001b[0;32m/usr/local/lib/python3.11/dist-packages/together/abstract/api_requestor.py\u001b[0m in \u001b[0;36m_interpret_response\u001b[0;34m(self, result, stream)\u001b[0m\n\u001b[1;32m    634\u001b[0m             return (\n\u001b[0;32m--> 635\u001b[0;31m                 self._interpret_response_line(\n\u001b[0m\u001b[1;32m    636\u001b[0m                     \u001b[0mcontent\u001b[0m\u001b[0;34m,\u001b[0m\u001b[0;34m\u001b[0m\u001b[0;34m\u001b[0m\u001b[0m\n",
            "\u001b[0;32m/usr/local/lib/python3.11/dist-packages/together/abstract/api_requestor.py\u001b[0m in \u001b[0;36m_interpret_response_line\u001b[0;34m(self, rbody, rcode, rheaders, stream)\u001b[0m\n\u001b[1;32m    706\u001b[0m         \u001b[0;32mif\u001b[0m \u001b[0;32mnot\u001b[0m \u001b[0;36m200\u001b[0m \u001b[0;34m<=\u001b[0m \u001b[0mrcode\u001b[0m \u001b[0;34m<\u001b[0m \u001b[0;36m300\u001b[0m\u001b[0;34m:\u001b[0m\u001b[0;34m\u001b[0m\u001b[0;34m\u001b[0m\u001b[0m\n\u001b[0;32m--> 707\u001b[0;31m             \u001b[0;32mraise\u001b[0m \u001b[0mself\u001b[0m\u001b[0;34m.\u001b[0m\u001b[0mhandle_error_response\u001b[0m\u001b[0;34m(\u001b[0m\u001b[0mresp\u001b[0m\u001b[0;34m,\u001b[0m \u001b[0mrcode\u001b[0m\u001b[0;34m,\u001b[0m \u001b[0mstream_error\u001b[0m\u001b[0;34m=\u001b[0m\u001b[0mstream\u001b[0m\u001b[0;34m)\u001b[0m\u001b[0;34m\u001b[0m\u001b[0;34m\u001b[0m\u001b[0m\n\u001b[0m\u001b[1;32m    708\u001b[0m         \u001b[0;32mreturn\u001b[0m \u001b[0mresp\u001b[0m\u001b[0;34m\u001b[0m\u001b[0;34m\u001b[0m\u001b[0m\n",
            "\u001b[0;31mRateLimitError\u001b[0m: Error code: 429 - {\"message\": \"You have reached the rate limit specific to this model deepseek-ai/DeepSeek-R1. The maximum rate limit for this model is 0.3 queries and 60000 tokens per minute. This limit differs from the general rate limits published at Together AI rate limits documentation (https://docs.together.ai/docs/rate-limits). For inquiries about increasing your model-specific rate limit, please contact our sales team (https://www.together.ai/forms/contact-sales)\", \"type_\": \"model_rate_limit\"}",
            "\nDuring handling of the above exception, another exception occurred:\n",
            "\u001b[0;31mKeyboardInterrupt\u001b[0m                         Traceback (most recent call last)",
            "\u001b[0;32m<ipython-input-53-c0e128d2ca98>\u001b[0m in \u001b[0;36m<cell line: 0>\u001b[0;34m()\u001b[0m\n\u001b[1;32m     58\u001b[0m             \u001b[0msuccess\u001b[0m \u001b[0;34m=\u001b[0m \u001b[0;32mTrue\u001b[0m\u001b[0;34m\u001b[0m\u001b[0;34m\u001b[0m\u001b[0m\n\u001b[1;32m     59\u001b[0m         \u001b[0;32mexcept\u001b[0m\u001b[0;34m:\u001b[0m\u001b[0;34m\u001b[0m\u001b[0;34m\u001b[0m\u001b[0m\n\u001b[0;32m---> 60\u001b[0;31m             \u001b[0mtime\u001b[0m\u001b[0;34m.\u001b[0m\u001b[0msleep\u001b[0m\u001b[0;34m(\u001b[0m\u001b[0;36m20\u001b[0m\u001b[0;34m)\u001b[0m\u001b[0;34m\u001b[0m\u001b[0;34m\u001b[0m\u001b[0m\n\u001b[0m",
            "\u001b[0;31mKeyboardInterrupt\u001b[0m: "
          ]
        }
      ],
      "source": [
        "import time\n",
        "raw_test_results_new = []\n",
        "\n",
        "\n",
        "for i in tqdm(range(100)):\n",
        "    success = False\n",
        "    while not success:\n",
        "        try:\n",
        "            model=MODEL_NAME,\n",
        "            messages = [\n",
        "                {\n",
        "                    \"role\": \"system\",\n",
        "                    \"content\": prompt\n",
        "                },\n",
        "\n",
        "                {\n",
        "                    \"role\": \"user\",\n",
        "                    \"content\": \"История: \" + str(ds['train']['history'][0][-1]) + \" Неполное высказвание: \" + ds['train'][\"phrase\"][0]\n",
        "                },\n",
        "                {\n",
        "                    \"role\": \"assistant\",\n",
        "                    \"content\": ds['train']['rewrite'][0]\n",
        "                },\n",
        "\n",
        "                {\n",
        "                    \"role\": \"user\",\n",
        "                    \"content\": \"История: \" + str(ds['train']['history'][1][-1]) + \" Неполное высказвание: \" + ds['train'][\"phrase\"][1]\n",
        "                },\n",
        "                {\n",
        "                    \"role\": \"assistant\",\n",
        "                    \"content\": ds['train']['rewrite'][1]\n",
        "                },\n",
        "\n",
        "                {\n",
        "                    \"role\": \"user\",\n",
        "                    \"content\": \"История: \" + str(ds['train']['history'][2][-1]) + \" Неполное высказвание: \" + ds['train'][\"phrase\"][2]\n",
        "                },\n",
        "                {\n",
        "                    \"role\": \"assistant\",\n",
        "                    \"content\": ds['train']['rewrite'][2]\n",
        "                },\n",
        "\n",
        "\n",
        "                {\n",
        "                    \"role\": \"user\",\n",
        "                    \"content\": \"История: \" + str(ds['test']['history'][i][-1]) + \" Неполное высказвание: \" + ds['test'][\"phrase\"][i]\n",
        "                    }\n",
        "                ]\n",
        "\n",
        "            response = client.chat.completions.create(\n",
        "            model=MODEL_NAME,\n",
        "            messages=messages,\n",
        "            temperature=1\n",
        "        )\n",
        "            out = response.choices[0].message.content\n",
        "            raw_test_results_new.append(out)\n",
        "            success = True\n",
        "        except:\n",
        "            time.sleep(20)\n"
      ]
    },
    {
      "cell_type": "markdown",
      "metadata": {
        "id": "Jl3PDAGSDkuO"
      },
      "source": []
    },
    {
      "cell_type": "code",
      "execution_count": null,
      "metadata": {
        "id": "8V8EivBCDkAt"
      },
      "outputs": [],
      "source": []
    },
    {
      "cell_type": "code",
      "execution_count": 54,
      "metadata": {
        "colab": {
          "base_uri": "https://localhost:8080/"
        },
        "id": "5aSQ_KLhXyIR",
        "outputId": "545ed3d7-18cc-4101-ab65-766b47fee300"
      },
      "outputs": [
        {
          "data": {
            "text/plain": [
              "52"
            ]
          },
          "execution_count": 54,
          "metadata": {},
          "output_type": "execute_result"
        }
      ],
      "source": [
        "len(raw_test_results_new)"
      ]
    },
    {
      "cell_type": "code",
      "execution_count": 55,
      "metadata": {
        "colab": {
          "base_uri": "https://localhost:8080/"
        },
        "id": "sBUH3if0jEOX",
        "outputId": "6a55997c-766e-40db-8b27-9a2a3e848e79"
      },
      "outputs": [
        {
          "name": "stdout",
          "output_type": "stream",
          "text": [
            "<think>\n",
            "Okay, let's see here. The user is acting like a professional annotator with a linguistics background. They've given me a history and an incomplete statement to rewrite based on the dialog history. The task is to only provide the rewritten statement.\n",
            "\n",
            "Looking at the history: \"Привет. Откуда ты?\" (Hello. Where are you from?), and the incomplete response is \"Я из Твери, а ты?\" (I'm from Tver, and you?).\n",
            "\n",
            "The previous examples show that the assistant expanded the incomplete statements by making them more complete, while maintaining the original meaning. For instance, \"Дима, а тебя?\" became \"Меня зовут Дима, а тебя как зовут?\" which is a more complete question.\n",
            "\n",
            "So in this case, the incomplete response \"Я из Твери, а ты?\" needs to be expanded. The user probably expects a more structured sentence, like adding the verb or question structure. In Russian, a common way to respond would be \"Я из Твери, а ты откуда?\" which specifies the question is about origin. Alternatively, it could be structured as \"Я из Твери, а ты откуда будешь?\" but that might be too formal.\n",
            "\n",
            "Checking previous correct responses: \"Нет времени, всё на путешествия уходит.\" became \"Нет времени работать, всё время на путешествия уходит.\" So adding missing verbs or making the sentence grammatically complete. The key here is to complete the sentence while keeping the original meaning and using natural Russian.\n",
            "\n",
            "The original is \"Я из Твери, а ты?\" which is a common way to respond, but to make it more complete, adding \"откуда\" would be precise. \"Я из Твери, а ты откуда?\" This way, the response is a full sentence with the question properly formed. Alternatively, \"Я из Твери, а ты из какого города?\" but that might be changing the structure more than needed. \n",
            "\n",
            "Since previous examples just added the necessary words without changing structure much, probably \"Я из Твери, а ты откуда?\" is the right approach.\n",
            "</think>\n",
            "\n",
            "Я из Твери, а ты откуда?\n"
          ]
        }
      ],
      "source": [
        "print(raw_test_results_new[0])"
      ]
    },
    {
      "cell_type": "code",
      "execution_count": null,
      "metadata": {
        "id": "beS8u6g1OFHe"
      },
      "outputs": [],
      "source": [
        "raw_test_results_old = raw_test_results_new"
      ]
    },
    {
      "cell_type": "code",
      "execution_count": 58,
      "metadata": {
        "id": "DgzE60WvNyiq"
      },
      "outputs": [],
      "source": [
        "raw_test_results_new = [r.split(\"</think>\")[-1] for r in raw_test_results_new]"
      ]
    },
    {
      "cell_type": "code",
      "execution_count": 72,
      "metadata": {
        "colab": {
          "base_uri": "https://localhost:8080/",
          "height": 519
        },
        "id": "2nuqT3IWIGc2",
        "outputId": "8b97c2a1-9bd7-4942-ca8b-e12ff9e0753e"
      },
      "outputs": [
        {
          "data": {
            "application/vnd.google.colaboratory.intrinsic+json": {
              "summary": "{\n  \"name\": \"raw_test_results\",\n  \"rows\": 52,\n  \"fields\": [\n    {\n      \"column\": \"model_out_raw\",\n      \"properties\": {\n        \"dtype\": \"string\",\n        \"num_unique_values\": 52,\n        \"samples\": [\n          \"\\n\\n\\u0418\\u043d\\u0434\\u0438\\u0439\\u0441\\u043a\\u0443\\u044e \\u043a\\u0443\\u0445\\u043d\\u044e \\u0441\\u0447\\u0438\\u0442\\u0430\\u044e \\u043e\\u0447\\u0435\\u043d\\u044c \\u043e\\u0440\\u0438\\u0433\\u0438\\u043d\\u0430\\u043b\\u044c\\u043d\\u043e\\u0439, \\u0445\\u043e\\u0442\\u044f \\u043f\\u043e\\u0437\\u043d\\u0430\\u043a\\u043e\\u043c\\u0438\\u043b\\u0441\\u044f \\u0441 \\u043d\\u0435\\u0439 \\u043d\\u0435\\u0434\\u0430\\u0432\\u043d\\u043e \\u2014 \\u043d\\u0430 \\u0441\\u0432\\u0430\\u0434\\u044c\\u0431\\u0435 \\u0443 \\u0440\\u043e\\u0434\\u0438\\u0442\\u0435\\u043b\\u0435\\u0439. \\u0410 \\u043f\\u043e\\u0433\\u043e\\u0434\\u0430 \\u0443 \\u043d\\u0430\\u0441 \\u0437\\u0430\\u043c\\u0435\\u0447\\u0430\\u0442\\u0435\\u043b\\u044c\\u043d\\u0430\\u044f, \\u0441\\u0430\\u043c\\u043e\\u0435 \\u0442\\u043e \\u0434\\u043b\\u044f \\u043a\\u0430\\u0442\\u0430\\u043d\\u0438\\u044f \\u043d\\u0430 \\u043b\\u044b\\u0436\\u0430\\u0445!\",\n          \"\\n\\n\\u041f\\u043e\\u043a\\u0430 \\u043d\\u0435 \\u0432\\u0441\\u0442\\u0440\\u0435\\u0442\\u0438\\u043b \\u0441\\u0432\\u043e\\u044e \\u043f\\u043e\\u043b\\u043e\\u0432\\u0438\\u043d\\u043a\\u0443, \\u0445\\u043e\\u0442\\u044f \\u044f \\u043e\\u0447\\u0435\\u043d\\u044c \\u0445\\u043e\\u0440\\u043e\\u0448\\u0438\\u0439 \\u0447\\u0435\\u043b\\u043e\\u0432\\u0435\\u043a. \\u0410 \\u0443 \\u0432\\u0430\\u0441 \\u0435\\u0441\\u0442\\u044c \\u043f\\u0438\\u0442\\u043e\\u043c\\u0446\\u044b?\",\n          \"\\n\\n\\u0421\\u043e\\u0433\\u043b\\u0430\\u0441\\u0435\\u043d \\u0441 \\u0442\\u043e\\u0431\\u043e\\u0439. \\u042f \\u043f\\u0440\\u0435\\u0434\\u043f\\u043e\\u0447\\u0438\\u0442\\u0430\\u044e \\u043e\\u0442\\u0434\\u044b\\u0445\\u0430\\u0442\\u044c \\u0441 \\u043a\\u043d\\u0438\\u0433\\u043e\\u0439 \\u2014 \\u044d\\u0442\\u043e \\u043d\\u0435 \\u043d\\u0430\\u043f\\u0440\\u044f\\u0433\\u0430\\u0435\\u0442, \\u043e\\u0441\\u043e\\u0431\\u0435\\u043d\\u043d\\u043e \\u043d\\u0440\\u0430\\u0432\\u0438\\u0442\\u0441\\u044f \\u0447\\u0438\\u0442\\u0430\\u0442\\u044c \\u043d\\u0430 \\u043f\\u0440\\u0438\\u0440\\u043e\\u0434\\u0435: \\u0438 \\u043f\\u043e\\u043b\\u044c\\u0437\\u0430, \\u0438 \\u0443\\u0434\\u043e\\u0432\\u043e\\u043b\\u044c\\u0441\\u0442\\u0432\\u0438\\u0435. \\u0416\\u0438\\u0432\\u0430\\u044f \\u043c\\u0443\\u0437\\u044b\\u043a\\u0430 \\u0442\\u043e\\u0436\\u0435 \\u0431\\u043b\\u0438\\u0437\\u043a\\u0430, \\u043a\\u0441\\u0442\\u0430\\u0442\\u0438, \\u044f \\u0441\\u0430\\u043c \\u043d\\u0435\\u043f\\u043b\\u043e\\u0445\\u043e \\u043f\\u043e\\u044e.\"\n        ],\n        \"semantic_type\": \"\",\n        \"description\": \"\"\n      }\n    },\n    {\n      \"column\": \"history\",\n      \"properties\": {\n        \"dtype\": \"object\",\n        \"semantic_type\": \"\",\n        \"description\": \"\"\n      }\n    },\n    {\n      \"column\": \"text\",\n      \"properties\": {\n        \"dtype\": \"string\",\n        \"num_unique_values\": 51,\n        \"samples\": [\n          \"\\u0410\\u0444\\u0438\\u0433\\u0435\\u0442\\u044c, \\u0432\\u043e\\u0442 \\u044d\\u0442\\u043e \\u0442\\u044b \\u043f\\u043e\\u043f\\u0430\\u043b. \\u041c\\u043e\\u0436\\u0435\\u0442 \\u043f\\u043e\\u043c\\u043e\\u0447\\u044c \\u0447\\u0435\\u043c?\",\n          \"\\u0422\\u0440\\u0443\\u0431\\u044b.\",\n          \"\\u0421\\u043e\\u0433\\u043b\\u0430\\u0441\\u0435\\u043d. \\u042f \\u043e\\u0442\\u0434\\u044b\\u0445\\u0430\\u044e \\u0432\\u043c\\u0435\\u0441\\u0442\\u0435 \\u0441 \\u043a\\u043d\\u0438\\u0433\\u043e\\u0439, \\u043e\\u043d\\u0430 \\u043c\\u0435\\u043d\\u044f \\u043d\\u0435 \\u043d\\u0430\\u043f\\u0440\\u044f\\u0433\\u0430\\u0435\\u0442, \\u043e\\u0441\\u043e\\u0431\\u0435\\u043d\\u043d\\u043e \\u043b\\u044e\\u0431\\u043b\\u044e \\u0447\\u0438\\u0442\\u0430\\u0442\\u044c \\u043d\\u0430 \\u043f\\u0440\\u0438\\u0440\\u043e\\u0434\\u0435, \\u0438 \\u043f\\u043e\\u043b\\u0435\\u0437\\u043d\\u043e, \\u0438 \\u043f\\u0440\\u0438\\u044f\\u0442\\u043d\\u043e. \\u042f \\u0442\\u043e\\u0436\\u0435 \\u043b\\u044e\\u0431\\u043b\\u044e \\u0436\\u0438\\u0432\\u0443\\u044e \\u043c\\u0443\\u0437\\u044b\\u043a\\u0443, \\u0441\\u0430\\u043c, \\u043a\\u0441\\u0442\\u0430\\u0442\\u0438, \\u0442\\u043e\\u0436\\u0435 \\u043d\\u0435\\u043f\\u043b\\u043e\\u0445\\u043e \\u043f\\u043e\\u044e.\"\n        ],\n        \"semantic_type\": \"\",\n        \"description\": \"\"\n      }\n    },\n    {\n      \"column\": \"restored_text\",\n      \"properties\": {\n        \"dtype\": \"string\",\n        \"num_unique_values\": 52,\n        \"samples\": [\n          \"\\u0410 \\u043f\\u043e\\u0433\\u043e\\u0434\\u0430 \\u0443 \\u043d\\u0430\\u0441 \\u0437\\u0430\\u043c\\u0435\\u0447\\u0430\\u0442\\u0435\\u043b\\u044c\\u043d\\u0430\\u044f. \\u041f\\u043e\\u0433\\u043e\\u0434\\u0430 \\u0443 \\u043d\\u0430\\u0441 \\u0441\\u0430\\u043c\\u043e\\u0435 \\u0442\\u043e \\u0434\\u043b\\u044f \\u0442\\u043e\\u0433\\u043e, \\u0447\\u0442\\u043e\\u0431\\u044b \\u043f\\u043e\\u043a\\u0430\\u0442\\u0430\\u0442\\u044c\\u0441\\u044f \\u043d\\u0430 \\u043b\\u044b\\u0436\\u0430\\u0445. \\u0421\\u0447\\u0438\\u0442\\u0430\\u044e \\u0438\\u043d\\u0434\\u0438\\u0439\\u0441\\u043a\\u0443\\u044e \\u043a\\u0443\\u0445\\u043d\\u044e \\u043e\\u0447\\u0435\\u043d\\u044c \\u043e\\u0440\\u0438\\u0433\\u0438\\u043d\\u0430\\u043b\\u044c\\u043d\\u043e\\u0439, \\u0445\\u043e\\u0442\\u044f \\u043f\\u043e\\u0437\\u043d\\u0430\\u043a\\u043e\\u043c\\u0438\\u043b\\u0441\\u044f \\u0441 \\u0438\\u043d\\u0434\\u0438\\u0439\\u0441\\u043a\\u043e\\u0439 \\u043a\\u0443\\u0445\\u043d\\u0435\\u0439 \\u043d\\u0435\\u0434\\u0430\\u0432\\u043d\\u043e. \\u041d\\u0430 \\u0441\\u0432\\u0430\\u0434\\u044c\\u0431\\u0435 \\u0443 \\u0440\\u043e\\u0434\\u0438\\u0442\\u0435\\u043b\\u0435\\u0439 \\u043f\\u043e\\u0437\\u043d\\u0430\\u043a\\u043e\\u043c\\u0438\\u043b\\u0441\\u044f \\u0441 \\u0438\\u043d\\u0434\\u0438\\u0439\\u0441\\u043a\\u043e\\u0439 \\u043a\\u0443\\u0445\\u043d\\u0435\\u0439.\",\n          \"\\u042f \\u043d\\u0435 \\u0432\\u0441\\u0442\\u0440\\u0435\\u0442\\u0438\\u043b \\u043f\\u043e\\u043a\\u0430 \\u0441\\u0432\\u043e\\u044e \\u043f\\u043e\\u043b\\u043e\\u0432\\u0438\\u043d\\u043a\\u0443, \\u0445\\u043e\\u0442\\u044f \\u044f \\u043e\\u0447\\u0435\\u043d\\u044c \\u0445\\u043e\\u0440\\u043e\\u0448\\u0438\\u0439 \\u0447\\u0435\\u043b\\u043e\\u0432\\u0435\\u043a. \\u0415\\u0449\\u0451, \\u0430 \\u0443 \\u0432\\u0430\\u0441 \\u0435\\u0441\\u0442\\u044c \\u043f\\u0438\\u0442\\u043e\\u043c\\u0446\\u044b?\",\n          \"\\u0421\\u043e\\u0433\\u043b\\u0430\\u0441\\u0435\\u043d, \\u0432\\u0435\\u0440\\u043d\\u0443\\u0442\\u044c\\u0441\\u044f \\u043a \\u043a\\u043e\\u0440\\u043d\\u044f\\u043c \\u044d\\u0442\\u043e \\u043f\\u0440\\u0430\\u0432\\u0438\\u043b\\u044c\\u043d\\u043e. \\u042f \\u043e\\u0442\\u0434\\u044b\\u0445\\u0430\\u044e \\u0432\\u043c\\u0435\\u0441\\u0442\\u0435 \\u0441 \\u043a\\u043d\\u0438\\u0433\\u043e\\u0439, \\u043e\\u043d\\u0430 \\u043c\\u0435\\u043d\\u044f \\u043d\\u0435 \\u043d\\u0430\\u043f\\u0440\\u044f\\u0433\\u0430\\u0435\\u0442, \\u043e\\u0441\\u043e\\u0431\\u0435\\u043d\\u043d\\u043e \\u043b\\u044e\\u0431\\u043b\\u044e \\u0447\\u0438\\u0442\\u0430\\u0442\\u044c \\u043d\\u0430 \\u043f\\u0440\\u0438\\u0440\\u043e\\u0434\\u0435, \\u0438 \\u043f\\u043e\\u043b\\u0435\\u0437\\u043d\\u043e, \\u0438 \\u043f\\u0440\\u0438\\u044f\\u0442\\u043d\\u043e. \\u042f \\u0442\\u043e\\u0436\\u0435 \\u043b\\u044e\\u0431\\u043b\\u044e \\u0436\\u0438\\u0432\\u0443\\u044e \\u043c\\u0443\\u0437\\u044b\\u043a\\u0443, \\u0441\\u0430\\u043c, \\u043a\\u0441\\u0442\\u0430\\u0442\\u0438, \\u0442\\u043e\\u0436\\u0435 \\u043d\\u0435\\u043f\\u043b\\u043e\\u0445\\u043e \\u043f\\u043e\\u044e.\"\n        ],\n        \"semantic_type\": \"\",\n        \"description\": \"\"\n      }\n    }\n  ]\n}",
              "type": "dataframe",
              "variable_name": "raw_test_results"
            },
            "text/html": [
              "\n",
              "  <div id=\"df-787f469f-e720-443c-8eff-c77366a7f820\" class=\"colab-df-container\">\n",
              "    <div>\n",
              "<style scoped>\n",
              "    .dataframe tbody tr th:only-of-type {\n",
              "        vertical-align: middle;\n",
              "    }\n",
              "\n",
              "    .dataframe tbody tr th {\n",
              "        vertical-align: top;\n",
              "    }\n",
              "\n",
              "    .dataframe thead th {\n",
              "        text-align: right;\n",
              "    }\n",
              "</style>\n",
              "<table border=\"1\" class=\"dataframe\">\n",
              "  <thead>\n",
              "    <tr style=\"text-align: right;\">\n",
              "      <th></th>\n",
              "      <th>model_out_raw</th>\n",
              "      <th>history</th>\n",
              "      <th>text</th>\n",
              "      <th>restored_text</th>\n",
              "    </tr>\n",
              "  </thead>\n",
              "  <tbody>\n",
              "    <tr>\n",
              "      <th>0</th>\n",
              "      <td>\\n\\nЯ из Твери, а ты откуда?</td>\n",
              "      <td>[Привет., Привет. Откуда ты?]</td>\n",
              "      <td>Я из Твери, а ты?</td>\n",
              "      <td>Я из Твери, а ты откуда?</td>\n",
              "    </tr>\n",
              "    <tr>\n",
              "      <th>1</th>\n",
              "      <td>\\n\\nДа, именно Питерский политех. Жаль, что уч...</td>\n",
              "      <td>[Привет., Привет! Сколько тебе лет? Ты где-то ...</td>\n",
              "      <td>Да, именно Питерский. Жаль, что не в месте учи...</td>\n",
              "      <td>Да, именно Питерский политех. Жаль, что не вме...</td>\n",
              "    </tr>\n",
              "    <tr>\n",
              "      <th>2</th>\n",
              "      <td>\\n\\nМои дети — это мои песики. Пока не встрети...</td>\n",
              "      <td>[Приветики! Как дела?, Привет! Всё хорошо, а у...</td>\n",
              "      <td>Мои дети - мои песики. Пока не нашла достойног...</td>\n",
              "      <td>Мои дети - мои песики. Пока не нашла достойног...</td>\n",
              "    </tr>\n",
              "    <tr>\n",
              "      <th>3</th>\n",
              "      <td>\\n\\nА где ты живёшь? В городе? И какие фрукты ...</td>\n",
              "      <td>[Привет., Привет., Расскажи о себе., Я собираю...</td>\n",
              "      <td>Где живёшь? В городе где-то? Какие любишь?</td>\n",
              "      <td>Где живёшь? В городе где-то? Какие фрукты любишь?</td>\n",
              "    </tr>\n",
              "    <tr>\n",
              "      <th>4</th>\n",
              "      <td>\\n\\nДа, это самое главное. А с кем ты работаешь?</td>\n",
              "      <td>[Здравствуй. Как тебе погодка?, Привет, я дума...</td>\n",
              "      <td>Да, это самое главное, с кем ты работаешь?</td>\n",
              "      <td>Да, это самое главное что весна придет через п...</td>\n",
              "    </tr>\n",
              "    <tr>\n",
              "      <th>5</th>\n",
              "      <td>\\n\\nИногда беру ее (собаку) с собой, а у тебя ...</td>\n",
              "      <td>[Привет, ты откуда? Я фотограф. Люблю путешест...</td>\n",
              "      <td>Иногда беру ее с собой,  у тебя кто?</td>\n",
              "      <td>Иногда беру дочь с собой в путешествие, а у те...</td>\n",
              "    </tr>\n",
              "    <tr>\n",
              "      <th>6</th>\n",
              "      <td>\\n\\nЯ всегда за новые знакомства.</td>\n",
              "      <td>[Добрый вечер, вы не против новых знакомств?]</td>\n",
              "      <td>Я всегда за.</td>\n",
              "      <td>Я всегда за знакомства.</td>\n",
              "    </tr>\n",
              "    <tr>\n",
              "      <th>7</th>\n",
              "      <td>\\n\\nЯ певица. А вы кем работаете?</td>\n",
              "      <td>[Привет., Привет, Алла., Чем вы занимаетесь?]</td>\n",
              "      <td>Певица. А вы?</td>\n",
              "      <td>Я певица. А вы чем занимаетесь?</td>\n",
              "    </tr>\n",
              "    <tr>\n",
              "      <th>8</th>\n",
              "      <td>\\n\\nЧтобы не испортить зрение и осанку из-за д...</td>\n",
              "      <td>[Привет., О, привет! Рад новому знакомству! Ты...</td>\n",
              "      <td>Чтобы не испортить зрение и осанку за компьюте...</td>\n",
              "      <td>Чтобы не испортить зрение и осанку за компьюте...</td>\n",
              "    </tr>\n",
              "    <tr>\n",
              "      <th>9</th>\n",
              "      <td>\\n\\nДа, я и учусь, и работаю.</td>\n",
              "      <td>[Привет., Привет. Как дела?, Отлично у меня де...</td>\n",
              "      <td>Да, и учусь, и работаю.</td>\n",
              "      <td>Да, я и учусь, и работаю.</td>\n",
              "    </tr>\n",
              "  </tbody>\n",
              "</table>\n",
              "</div>\n",
              "    <div class=\"colab-df-buttons\">\n",
              "\n",
              "  <div class=\"colab-df-container\">\n",
              "    <button class=\"colab-df-convert\" onclick=\"convertToInteractive('df-787f469f-e720-443c-8eff-c77366a7f820')\"\n",
              "            title=\"Convert this dataframe to an interactive table.\"\n",
              "            style=\"display:none;\">\n",
              "\n",
              "  <svg xmlns=\"http://www.w3.org/2000/svg\" height=\"24px\" viewBox=\"0 -960 960 960\">\n",
              "    <path d=\"M120-120v-720h720v720H120Zm60-500h600v-160H180v160Zm220 220h160v-160H400v160Zm0 220h160v-160H400v160ZM180-400h160v-160H180v160Zm440 0h160v-160H620v160ZM180-180h160v-160H180v160Zm440 0h160v-160H620v160Z\"/>\n",
              "  </svg>\n",
              "    </button>\n",
              "\n",
              "  <style>\n",
              "    .colab-df-container {\n",
              "      display:flex;\n",
              "      gap: 12px;\n",
              "    }\n",
              "\n",
              "    .colab-df-convert {\n",
              "      background-color: #E8F0FE;\n",
              "      border: none;\n",
              "      border-radius: 50%;\n",
              "      cursor: pointer;\n",
              "      display: none;\n",
              "      fill: #1967D2;\n",
              "      height: 32px;\n",
              "      padding: 0 0 0 0;\n",
              "      width: 32px;\n",
              "    }\n",
              "\n",
              "    .colab-df-convert:hover {\n",
              "      background-color: #E2EBFA;\n",
              "      box-shadow: 0px 1px 2px rgba(60, 64, 67, 0.3), 0px 1px 3px 1px rgba(60, 64, 67, 0.15);\n",
              "      fill: #174EA6;\n",
              "    }\n",
              "\n",
              "    .colab-df-buttons div {\n",
              "      margin-bottom: 4px;\n",
              "    }\n",
              "\n",
              "    [theme=dark] .colab-df-convert {\n",
              "      background-color: #3B4455;\n",
              "      fill: #D2E3FC;\n",
              "    }\n",
              "\n",
              "    [theme=dark] .colab-df-convert:hover {\n",
              "      background-color: #434B5C;\n",
              "      box-shadow: 0px 1px 3px 1px rgba(0, 0, 0, 0.15);\n",
              "      filter: drop-shadow(0px 1px 2px rgba(0, 0, 0, 0.3));\n",
              "      fill: #FFFFFF;\n",
              "    }\n",
              "  </style>\n",
              "\n",
              "    <script>\n",
              "      const buttonEl =\n",
              "        document.querySelector('#df-787f469f-e720-443c-8eff-c77366a7f820 button.colab-df-convert');\n",
              "      buttonEl.style.display =\n",
              "        google.colab.kernel.accessAllowed ? 'block' : 'none';\n",
              "\n",
              "      async function convertToInteractive(key) {\n",
              "        const element = document.querySelector('#df-787f469f-e720-443c-8eff-c77366a7f820');\n",
              "        const dataTable =\n",
              "          await google.colab.kernel.invokeFunction('convertToInteractive',\n",
              "                                                    [key], {});\n",
              "        if (!dataTable) return;\n",
              "\n",
              "        const docLinkHtml = 'Like what you see? Visit the ' +\n",
              "          '<a target=\"_blank\" href=https://colab.research.google.com/notebooks/data_table.ipynb>data table notebook</a>'\n",
              "          + ' to learn more about interactive tables.';\n",
              "        element.innerHTML = '';\n",
              "        dataTable['output_type'] = 'display_data';\n",
              "        await google.colab.output.renderOutput(dataTable, element);\n",
              "        const docLink = document.createElement('div');\n",
              "        docLink.innerHTML = docLinkHtml;\n",
              "        element.appendChild(docLink);\n",
              "      }\n",
              "    </script>\n",
              "  </div>\n",
              "\n",
              "\n",
              "    <div id=\"df-82dbdfbc-dfd7-4035-8c69-b44618387e4e\">\n",
              "      <button class=\"colab-df-quickchart\" onclick=\"quickchart('df-82dbdfbc-dfd7-4035-8c69-b44618387e4e')\"\n",
              "                title=\"Suggest charts\"\n",
              "                style=\"display:none;\">\n",
              "\n",
              "<svg xmlns=\"http://www.w3.org/2000/svg\" height=\"24px\"viewBox=\"0 0 24 24\"\n",
              "     width=\"24px\">\n",
              "    <g>\n",
              "        <path d=\"M19 3H5c-1.1 0-2 .9-2 2v14c0 1.1.9 2 2 2h14c1.1 0 2-.9 2-2V5c0-1.1-.9-2-2-2zM9 17H7v-7h2v7zm4 0h-2V7h2v10zm4 0h-2v-4h2v4z\"/>\n",
              "    </g>\n",
              "</svg>\n",
              "      </button>\n",
              "\n",
              "<style>\n",
              "  .colab-df-quickchart {\n",
              "      --bg-color: #E8F0FE;\n",
              "      --fill-color: #1967D2;\n",
              "      --hover-bg-color: #E2EBFA;\n",
              "      --hover-fill-color: #174EA6;\n",
              "      --disabled-fill-color: #AAA;\n",
              "      --disabled-bg-color: #DDD;\n",
              "  }\n",
              "\n",
              "  [theme=dark] .colab-df-quickchart {\n",
              "      --bg-color: #3B4455;\n",
              "      --fill-color: #D2E3FC;\n",
              "      --hover-bg-color: #434B5C;\n",
              "      --hover-fill-color: #FFFFFF;\n",
              "      --disabled-bg-color: #3B4455;\n",
              "      --disabled-fill-color: #666;\n",
              "  }\n",
              "\n",
              "  .colab-df-quickchart {\n",
              "    background-color: var(--bg-color);\n",
              "    border: none;\n",
              "    border-radius: 50%;\n",
              "    cursor: pointer;\n",
              "    display: none;\n",
              "    fill: var(--fill-color);\n",
              "    height: 32px;\n",
              "    padding: 0;\n",
              "    width: 32px;\n",
              "  }\n",
              "\n",
              "  .colab-df-quickchart:hover {\n",
              "    background-color: var(--hover-bg-color);\n",
              "    box-shadow: 0 1px 2px rgba(60, 64, 67, 0.3), 0 1px 3px 1px rgba(60, 64, 67, 0.15);\n",
              "    fill: var(--button-hover-fill-color);\n",
              "  }\n",
              "\n",
              "  .colab-df-quickchart-complete:disabled,\n",
              "  .colab-df-quickchart-complete:disabled:hover {\n",
              "    background-color: var(--disabled-bg-color);\n",
              "    fill: var(--disabled-fill-color);\n",
              "    box-shadow: none;\n",
              "  }\n",
              "\n",
              "  .colab-df-spinner {\n",
              "    border: 2px solid var(--fill-color);\n",
              "    border-color: transparent;\n",
              "    border-bottom-color: var(--fill-color);\n",
              "    animation:\n",
              "      spin 1s steps(1) infinite;\n",
              "  }\n",
              "\n",
              "  @keyframes spin {\n",
              "    0% {\n",
              "      border-color: transparent;\n",
              "      border-bottom-color: var(--fill-color);\n",
              "      border-left-color: var(--fill-color);\n",
              "    }\n",
              "    20% {\n",
              "      border-color: transparent;\n",
              "      border-left-color: var(--fill-color);\n",
              "      border-top-color: var(--fill-color);\n",
              "    }\n",
              "    30% {\n",
              "      border-color: transparent;\n",
              "      border-left-color: var(--fill-color);\n",
              "      border-top-color: var(--fill-color);\n",
              "      border-right-color: var(--fill-color);\n",
              "    }\n",
              "    40% {\n",
              "      border-color: transparent;\n",
              "      border-right-color: var(--fill-color);\n",
              "      border-top-color: var(--fill-color);\n",
              "    }\n",
              "    60% {\n",
              "      border-color: transparent;\n",
              "      border-right-color: var(--fill-color);\n",
              "    }\n",
              "    80% {\n",
              "      border-color: transparent;\n",
              "      border-right-color: var(--fill-color);\n",
              "      border-bottom-color: var(--fill-color);\n",
              "    }\n",
              "    90% {\n",
              "      border-color: transparent;\n",
              "      border-bottom-color: var(--fill-color);\n",
              "    }\n",
              "  }\n",
              "</style>\n",
              "\n",
              "      <script>\n",
              "        async function quickchart(key) {\n",
              "          const quickchartButtonEl =\n",
              "            document.querySelector('#' + key + ' button');\n",
              "          quickchartButtonEl.disabled = true;  // To prevent multiple clicks.\n",
              "          quickchartButtonEl.classList.add('colab-df-spinner');\n",
              "          try {\n",
              "            const charts = await google.colab.kernel.invokeFunction(\n",
              "                'suggestCharts', [key], {});\n",
              "          } catch (error) {\n",
              "            console.error('Error during call to suggestCharts:', error);\n",
              "          }\n",
              "          quickchartButtonEl.classList.remove('colab-df-spinner');\n",
              "          quickchartButtonEl.classList.add('colab-df-quickchart-complete');\n",
              "        }\n",
              "        (() => {\n",
              "          let quickchartButtonEl =\n",
              "            document.querySelector('#df-82dbdfbc-dfd7-4035-8c69-b44618387e4e button');\n",
              "          quickchartButtonEl.style.display =\n",
              "            google.colab.kernel.accessAllowed ? 'block' : 'none';\n",
              "        })();\n",
              "      </script>\n",
              "    </div>\n",
              "    </div>\n",
              "  </div>\n"
            ],
            "text/plain": [
              "                                       model_out_raw  \\\n",
              "0                       \\n\\nЯ из Твери, а ты откуда?   \n",
              "1  \\n\\nДа, именно Питерский политех. Жаль, что уч...   \n",
              "2  \\n\\nМои дети — это мои песики. Пока не встрети...   \n",
              "3  \\n\\nА где ты живёшь? В городе? И какие фрукты ...   \n",
              "4   \\n\\nДа, это самое главное. А с кем ты работаешь?   \n",
              "5  \\n\\nИногда беру ее (собаку) с собой, а у тебя ...   \n",
              "6                  \\n\\nЯ всегда за новые знакомства.   \n",
              "7                  \\n\\nЯ певица. А вы кем работаете?   \n",
              "8  \\n\\nЧтобы не испортить зрение и осанку из-за д...   \n",
              "9                      \\n\\nДа, я и учусь, и работаю.   \n",
              "\n",
              "                                             history  \\\n",
              "0                      [Привет., Привет. Откуда ты?]   \n",
              "1  [Привет., Привет! Сколько тебе лет? Ты где-то ...   \n",
              "2  [Приветики! Как дела?, Привет! Всё хорошо, а у...   \n",
              "3  [Привет., Привет., Расскажи о себе., Я собираю...   \n",
              "4  [Здравствуй. Как тебе погодка?, Привет, я дума...   \n",
              "5  [Привет, ты откуда? Я фотограф. Люблю путешест...   \n",
              "6      [Добрый вечер, вы не против новых знакомств?]   \n",
              "7      [Привет., Привет, Алла., Чем вы занимаетесь?]   \n",
              "8  [Привет., О, привет! Рад новому знакомству! Ты...   \n",
              "9  [Привет., Привет. Как дела?, Отлично у меня де...   \n",
              "\n",
              "                                                text  \\\n",
              "0                                  Я из Твери, а ты?   \n",
              "1  Да, именно Питерский. Жаль, что не в месте учи...   \n",
              "2  Мои дети - мои песики. Пока не нашла достойног...   \n",
              "3         Где живёшь? В городе где-то? Какие любишь?   \n",
              "4         Да, это самое главное, с кем ты работаешь?   \n",
              "5               Иногда беру ее с собой,  у тебя кто?   \n",
              "6                                       Я всегда за.   \n",
              "7                                      Певица. А вы?   \n",
              "8  Чтобы не испортить зрение и осанку за компьюте...   \n",
              "9                            Да, и учусь, и работаю.   \n",
              "\n",
              "                                       restored_text  \n",
              "0                           Я из Твери, а ты откуда?  \n",
              "1  Да, именно Питерский политех. Жаль, что не вме...  \n",
              "2  Мои дети - мои песики. Пока не нашла достойног...  \n",
              "3  Где живёшь? В городе где-то? Какие фрукты любишь?  \n",
              "4  Да, это самое главное что весна придет через п...  \n",
              "5  Иногда беру дочь с собой в путешествие, а у те...  \n",
              "6                            Я всегда за знакомства.  \n",
              "7                    Я певица. А вы чем занимаетесь?  \n",
              "8  Чтобы не испортить зрение и осанку за компьюте...  \n",
              "9                          Да, я и учусь, и работаю.  "
            ]
          },
          "execution_count": 72,
          "metadata": {},
          "output_type": "execute_result"
        }
      ],
      "source": [
        "import pandas as pd\n",
        "\n",
        "raw_test_results = pd.DataFrame(raw_test_results_new, columns=['model_out_raw'])\n",
        "\n",
        "raw_test_results['history'] = ds['test']['history'][:52]\n",
        "raw_test_results['text'] = ds['test']['phrase'][:52]\n",
        "raw_test_results['restored_text'] = ds['test']['rewrite'][:52]\n",
        "\n",
        "raw_test_results.head(10)"
      ]
    },
    {
      "cell_type": "code",
      "execution_count": 77,
      "metadata": {
        "id": "uZEhIWIunTQK"
      },
      "outputs": [],
      "source": [
        "raw_test_results = raw_test_results[~raw_test_results.model_out_raw.map(lambda x: x.startswith(\"<think>\"))]"
      ]
    },
    {
      "cell_type": "code",
      "execution_count": 78,
      "metadata": {
        "id": "S2DOTmaUgiH0"
      },
      "outputs": [],
      "source": [
        "raw_test_results.to_csv(f\"{MODEL_NAME.split('/')[-1]}_raw_test_results.csv\")"
      ]
    },
    {
      "cell_type": "code",
      "execution_count": 79,
      "metadata": {
        "id": "tp-Ix19fFJIy"
      },
      "outputs": [],
      "source": [
        "!pip install evaluate rouge_metric -q\n",
        "!pip install sacrebleu -q"
      ]
    },
    {
      "cell_type": "code",
      "execution_count": 80,
      "metadata": {
        "id": "PVOSJzhSPvCX"
      },
      "outputs": [],
      "source": [
        "import numpy as np\n",
        "import evaluate\n",
        "from rouge_metric import PyRouge\n",
        "\n",
        "bleu = evaluate.load(\"sacrebleu\")\n",
        "rouge = PyRouge(rouge_n=(4), skip_gap=4)\n",
        "\n",
        "\n",
        "class RestorationFScore:\n",
        "\n",
        "    def __init__(self, n_gram: int=2):\n",
        "        self.n_gram = n_gram\n",
        "        self.tokenizer = tokenizer\n",
        "\n",
        "    def preprocess(self, sents):\n",
        "        for sent in sents:\n",
        "            sent_tokenize = self.tokenizer.encode(sent)\n",
        "            yield [tuple(sent_tokenize[i:i+self.n_gram]) for i, _ in enumerate(sent_tokenize)]\n",
        "\n",
        "    def _itereval(self):\n",
        "        for i, predictions in enumerate(self.predictions):\n",
        "            restored_ngrams = set(predictions).difference(self.references[i])\n",
        "            ngrams_in_ref = set(self.rewrites[i]).difference(self.references[i])\n",
        "            interagree = ngrams_in_ref.intersection(restored_ngrams)\n",
        "            if len(restored_ngrams):\n",
        "                precision = len(interagree) / len(restored_ngrams)\n",
        "            else:\n",
        "                precision = 0.\n",
        "            if len(ngrams_in_ref):\n",
        "                recall = len(interagree) / len(ngrams_in_ref)\n",
        "            else:\n",
        "                recall = 0.\n",
        "            if precision or recall:\n",
        "                yield 2 * ((precision * recall) / (precision + recall))\n",
        "            else:\n",
        "                yield 0.\n",
        "\n",
        "    def evaluate(self, predictions: list,\n",
        "                 references: list, rewrites: list):\n",
        "        self.predictions = [p for p in self.preprocess(predictions)]\n",
        "        self.references = [p for p in self.preprocess(references)]\n",
        "        self.rewrites = [p for p in self.preprocess(rewrites)]\n",
        "        return np.mean(list(self._itereval()))"
      ]
    },
    {
      "cell_type": "code",
      "execution_count": 81,
      "metadata": {
        "id": "t-Kd1EmBXF8G"
      },
      "outputs": [],
      "source": [
        "def callculate_metrics(row):\n",
        "    row[\"bleu_score\"] = bleu.compute(predictions=row.model_out_raw,\n",
        "                                     references=row.text)['score']\n",
        "\n",
        "    rouge_scores = rouge.evaluate(row.model_out_raw,\n",
        "                                  [[t] for t in row.text])\n",
        "    for k in rouge_scores:\n",
        "        row[k] = rouge_scores[k]['f']\n",
        "\n",
        "    for n in range(1, 5):\n",
        "        rf_score = RestorationFScore(n)\n",
        "        row[f\"rf_score_{n}\"] = rf_score.evaluate(predictions=row.model_out_raw,\n",
        "                                                 references=row.text,\n",
        "                                                 rewrites=row.restored_text)\n",
        "    return row"
      ]
    },
    {
      "cell_type": "code",
      "execution_count": 82,
      "metadata": {
        "colab": {
          "base_uri": "https://localhost:8080/"
        },
        "id": "Mrgz3kX9e5mB",
        "outputId": "9fff53fb-7d38-4368-b45f-b685027f16c2"
      },
      "outputs": [
        {
          "name": "stderr",
          "output_type": "stream",
          "text": [
            "<ipython-input-82-2a0a5f4aee2c>:1: SettingWithCopyWarning: \n",
            "A value is trying to be set on a copy of a slice from a DataFrame.\n",
            "Try using .loc[row_indexer,col_indexer] = value instead\n",
            "\n",
            "See the caveats in the documentation: https://pandas.pydata.org/pandas-docs/stable/user_guide/indexing.html#returning-a-view-versus-a-copy\n",
            "  raw_test_results[\"type\"] = \"2rca\"\n"
          ]
        }
      ],
      "source": [
        "raw_test_results[\"type\"] = \"2rca\"\n",
        "raw_test_results = raw_test_results.groupby(by=\"type\").agg(list)"
      ]
    },
    {
      "cell_type": "code",
      "execution_count": 83,
      "metadata": {
        "id": "VAVVconEXnlI"
      },
      "outputs": [],
      "source": [
        "from transformers import AutoTokenizer\n",
        "\n",
        "tokenizer = AutoTokenizer.from_pretrained(\"deepseek-ai/DeepSeek-R1\")"
      ]
    },
    {
      "cell_type": "code",
      "execution_count": 84,
      "metadata": {
        "colab": {
          "base_uri": "https://localhost:8080/",
          "height": 112
        },
        "id": "aVe4wk7aiLNK",
        "outputId": "80b89eea-9718-4c0c-fefa-ecc4231a99cb"
      },
      "outputs": [
        {
          "data": {
            "application/vnd.google.colaboratory.intrinsic+json": {
              "summary": "{\n  \"name\": \"raw_test_results\",\n  \"rows\": 1,\n  \"fields\": [\n    {\n      \"column\": \"type\",\n      \"properties\": {\n        \"dtype\": \"string\",\n        \"num_unique_values\": 1,\n        \"samples\": [\n          \"2rca\"\n        ],\n        \"semantic_type\": \"\",\n        \"description\": \"\"\n      }\n    },\n    {\n      \"column\": \"bleu_score\",\n      \"properties\": {\n        \"dtype\": \"number\",\n        \"std\": null,\n        \"min\": 41.75598963590772,\n        \"max\": 41.75598963590772,\n        \"num_unique_values\": 1,\n        \"samples\": [\n          41.75598963590772\n        ],\n        \"semantic_type\": \"\",\n        \"description\": \"\"\n      }\n    },\n    {\n      \"column\": \"rouge-1\",\n      \"properties\": {\n        \"dtype\": \"number\",\n        \"std\": null,\n        \"min\": 0.5607164504278617,\n        \"max\": 0.5607164504278617,\n        \"num_unique_values\": 1,\n        \"samples\": [\n          0.5607164504278617\n        ],\n        \"semantic_type\": \"\",\n        \"description\": \"\"\n      }\n    },\n    {\n      \"column\": \"rouge-2\",\n      \"properties\": {\n        \"dtype\": \"number\",\n        \"std\": null,\n        \"min\": 0.3735653999895325,\n        \"max\": 0.3735653999895325,\n        \"num_unique_values\": 1,\n        \"samples\": [\n          0.3735653999895325\n        ],\n        \"semantic_type\": \"\",\n        \"description\": \"\"\n      }\n    },\n    {\n      \"column\": \"rouge-3\",\n      \"properties\": {\n        \"dtype\": \"number\",\n        \"std\": null,\n        \"min\": 0.2543572602480765,\n        \"max\": 0.2543572602480765,\n        \"num_unique_values\": 1,\n        \"samples\": [\n          0.2543572602480765\n        ],\n        \"semantic_type\": \"\",\n        \"description\": \"\"\n      }\n    },\n    {\n      \"column\": \"rouge-4\",\n      \"properties\": {\n        \"dtype\": \"number\",\n        \"std\": null,\n        \"min\": 0.1649173074458954,\n        \"max\": 0.1649173074458954,\n        \"num_unique_values\": 1,\n        \"samples\": [\n          0.1649173074458954\n        ],\n        \"semantic_type\": \"\",\n        \"description\": \"\"\n      }\n    },\n    {\n      \"column\": \"rouge-l\",\n      \"properties\": {\n        \"dtype\": \"number\",\n        \"std\": null,\n        \"min\": 0.5424175581794828,\n        \"max\": 0.5424175581794828,\n        \"num_unique_values\": 1,\n        \"samples\": [\n          0.5424175581794828\n        ],\n        \"semantic_type\": \"\",\n        \"description\": \"\"\n      }\n    },\n    {\n      \"column\": \"rf_score_1\",\n      \"properties\": {\n        \"dtype\": \"number\",\n        \"std\": null,\n        \"min\": 0.35734024527206953,\n        \"max\": 0.35734024527206953,\n        \"num_unique_values\": 1,\n        \"samples\": [\n          0.35734024527206953\n        ],\n        \"semantic_type\": \"\",\n        \"description\": \"\"\n      }\n    },\n    {\n      \"column\": \"rf_score_2\",\n      \"properties\": {\n        \"dtype\": \"number\",\n        \"std\": null,\n        \"min\": 0.2724334402848861,\n        \"max\": 0.2724334402848861,\n        \"num_unique_values\": 1,\n        \"samples\": [\n          0.2724334402848861\n        ],\n        \"semantic_type\": \"\",\n        \"description\": \"\"\n      }\n    },\n    {\n      \"column\": \"rf_score_3\",\n      \"properties\": {\n        \"dtype\": \"number\",\n        \"std\": null,\n        \"min\": 0.2416063600043279,\n        \"max\": 0.2416063600043279,\n        \"num_unique_values\": 1,\n        \"samples\": [\n          0.2416063600043279\n        ],\n        \"semantic_type\": \"\",\n        \"description\": \"\"\n      }\n    },\n    {\n      \"column\": \"rf_score_4\",\n      \"properties\": {\n        \"dtype\": \"number\",\n        \"std\": null,\n        \"min\": 0.21401004684061264,\n        \"max\": 0.21401004684061264,\n        \"num_unique_values\": 1,\n        \"samples\": [\n          0.21401004684061264\n        ],\n        \"semantic_type\": \"\",\n        \"description\": \"\"\n      }\n    }\n  ]\n}",
              "type": "dataframe"
            },
            "text/html": [
              "\n",
              "  <div id=\"df-efa461d0-d89e-402c-b676-162d29c92fa3\" class=\"colab-df-container\">\n",
              "    <div>\n",
              "<style scoped>\n",
              "    .dataframe tbody tr th:only-of-type {\n",
              "        vertical-align: middle;\n",
              "    }\n",
              "\n",
              "    .dataframe tbody tr th {\n",
              "        vertical-align: top;\n",
              "    }\n",
              "\n",
              "    .dataframe thead th {\n",
              "        text-align: right;\n",
              "    }\n",
              "</style>\n",
              "<table border=\"1\" class=\"dataframe\">\n",
              "  <thead>\n",
              "    <tr style=\"text-align: right;\">\n",
              "      <th></th>\n",
              "      <th>bleu_score</th>\n",
              "      <th>rouge-1</th>\n",
              "      <th>rouge-2</th>\n",
              "      <th>rouge-3</th>\n",
              "      <th>rouge-4</th>\n",
              "      <th>rouge-l</th>\n",
              "      <th>rf_score_1</th>\n",
              "      <th>rf_score_2</th>\n",
              "      <th>rf_score_3</th>\n",
              "      <th>rf_score_4</th>\n",
              "    </tr>\n",
              "    <tr>\n",
              "      <th>type</th>\n",
              "      <th></th>\n",
              "      <th></th>\n",
              "      <th></th>\n",
              "      <th></th>\n",
              "      <th></th>\n",
              "      <th></th>\n",
              "      <th></th>\n",
              "      <th></th>\n",
              "      <th></th>\n",
              "      <th></th>\n",
              "    </tr>\n",
              "  </thead>\n",
              "  <tbody>\n",
              "    <tr>\n",
              "      <th>2rca</th>\n",
              "      <td>41.75599</td>\n",
              "      <td>0.560716</td>\n",
              "      <td>0.373565</td>\n",
              "      <td>0.254357</td>\n",
              "      <td>0.164917</td>\n",
              "      <td>0.542418</td>\n",
              "      <td>0.35734</td>\n",
              "      <td>0.272433</td>\n",
              "      <td>0.241606</td>\n",
              "      <td>0.21401</td>\n",
              "    </tr>\n",
              "  </tbody>\n",
              "</table>\n",
              "</div>\n",
              "    <div class=\"colab-df-buttons\">\n",
              "\n",
              "  <div class=\"colab-df-container\">\n",
              "    <button class=\"colab-df-convert\" onclick=\"convertToInteractive('df-efa461d0-d89e-402c-b676-162d29c92fa3')\"\n",
              "            title=\"Convert this dataframe to an interactive table.\"\n",
              "            style=\"display:none;\">\n",
              "\n",
              "  <svg xmlns=\"http://www.w3.org/2000/svg\" height=\"24px\" viewBox=\"0 -960 960 960\">\n",
              "    <path d=\"M120-120v-720h720v720H120Zm60-500h600v-160H180v160Zm220 220h160v-160H400v160Zm0 220h160v-160H400v160ZM180-400h160v-160H180v160Zm440 0h160v-160H620v160ZM180-180h160v-160H180v160Zm440 0h160v-160H620v160Z\"/>\n",
              "  </svg>\n",
              "    </button>\n",
              "\n",
              "  <style>\n",
              "    .colab-df-container {\n",
              "      display:flex;\n",
              "      gap: 12px;\n",
              "    }\n",
              "\n",
              "    .colab-df-convert {\n",
              "      background-color: #E8F0FE;\n",
              "      border: none;\n",
              "      border-radius: 50%;\n",
              "      cursor: pointer;\n",
              "      display: none;\n",
              "      fill: #1967D2;\n",
              "      height: 32px;\n",
              "      padding: 0 0 0 0;\n",
              "      width: 32px;\n",
              "    }\n",
              "\n",
              "    .colab-df-convert:hover {\n",
              "      background-color: #E2EBFA;\n",
              "      box-shadow: 0px 1px 2px rgba(60, 64, 67, 0.3), 0px 1px 3px 1px rgba(60, 64, 67, 0.15);\n",
              "      fill: #174EA6;\n",
              "    }\n",
              "\n",
              "    .colab-df-buttons div {\n",
              "      margin-bottom: 4px;\n",
              "    }\n",
              "\n",
              "    [theme=dark] .colab-df-convert {\n",
              "      background-color: #3B4455;\n",
              "      fill: #D2E3FC;\n",
              "    }\n",
              "\n",
              "    [theme=dark] .colab-df-convert:hover {\n",
              "      background-color: #434B5C;\n",
              "      box-shadow: 0px 1px 3px 1px rgba(0, 0, 0, 0.15);\n",
              "      filter: drop-shadow(0px 1px 2px rgba(0, 0, 0, 0.3));\n",
              "      fill: #FFFFFF;\n",
              "    }\n",
              "  </style>\n",
              "\n",
              "    <script>\n",
              "      const buttonEl =\n",
              "        document.querySelector('#df-efa461d0-d89e-402c-b676-162d29c92fa3 button.colab-df-convert');\n",
              "      buttonEl.style.display =\n",
              "        google.colab.kernel.accessAllowed ? 'block' : 'none';\n",
              "\n",
              "      async function convertToInteractive(key) {\n",
              "        const element = document.querySelector('#df-efa461d0-d89e-402c-b676-162d29c92fa3');\n",
              "        const dataTable =\n",
              "          await google.colab.kernel.invokeFunction('convertToInteractive',\n",
              "                                                    [key], {});\n",
              "        if (!dataTable) return;\n",
              "\n",
              "        const docLinkHtml = 'Like what you see? Visit the ' +\n",
              "          '<a target=\"_blank\" href=https://colab.research.google.com/notebooks/data_table.ipynb>data table notebook</a>'\n",
              "          + ' to learn more about interactive tables.';\n",
              "        element.innerHTML = '';\n",
              "        dataTable['output_type'] = 'display_data';\n",
              "        await google.colab.output.renderOutput(dataTable, element);\n",
              "        const docLink = document.createElement('div');\n",
              "        docLink.innerHTML = docLinkHtml;\n",
              "        element.appendChild(docLink);\n",
              "      }\n",
              "    </script>\n",
              "  </div>\n",
              "\n",
              "    </div>\n",
              "  </div>\n"
            ],
            "text/plain": [
              "      bleu_score   rouge-1   rouge-2   rouge-3   rouge-4   rouge-l  \\\n",
              "type                                                                 \n",
              "2rca    41.75599  0.560716  0.373565  0.254357  0.164917  0.542418   \n",
              "\n",
              "      rf_score_1  rf_score_2  rf_score_3  rf_score_4  \n",
              "type                                                  \n",
              "2rca     0.35734    0.272433    0.241606     0.21401  "
            ]
          },
          "execution_count": 84,
          "metadata": {},
          "output_type": "execute_result"
        }
      ],
      "source": [
        "raw_test_results.apply(callculate_metrics, axis=1).drop(columns=[\"model_out_raw\", \"history\", \"text\", \"restored_text\"])"
      ]
    },
    {
      "cell_type": "code",
      "execution_count": null,
      "metadata": {
        "id": "zL4YoTqZnXN6"
      },
      "outputs": [],
      "source": []
    }
  ],
  "metadata": {
    "colab": {
      "provenance": []
    },
    "kernelspec": {
      "display_name": "Python 3",
      "name": "python3"
    },
    "language_info": {
      "name": "python"
    }
  },
  "nbformat": 4,
  "nbformat_minor": 0
}
