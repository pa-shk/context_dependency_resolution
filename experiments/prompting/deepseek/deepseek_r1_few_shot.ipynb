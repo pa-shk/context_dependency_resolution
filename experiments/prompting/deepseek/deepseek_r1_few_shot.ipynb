{
  "cells": [
    {
      "cell_type": "code",
      "execution_count": 1,
      "metadata": {},
      "outputs": [],
      "source": [
        "import sys\n",
        "import time\n",
        "\n",
        "sys.path.append('../../..')"
      ]
    },
    {
      "cell_type": "code",
      "execution_count": 3,
      "metadata": {},
      "outputs": [],
      "source": [
        "from omegaconf import OmegaConf\n",
        "from together import Together\n",
        "from transformers import AutoTokenizer\n",
        "from tqdm import tqdm\n",
        "\n",
        "from src.data_prepocessing import load_ds\n",
        "from src.evaluation import Evaluator"
      ]
    },
    {
      "cell_type": "markdown",
      "metadata": {},
      "source": [
        "# Experiment set up"
      ]
    },
    {
      "cell_type": "code",
      "execution_count": 4,
      "metadata": {},
      "outputs": [
        {
          "name": "stdout",
          "output_type": "stream",
          "text": [
            "model_name: deepseek-ai/DeepSeek-R1\n",
            "prompt: Ты професиональный разметчик с лингвистическим образованием. Внимательно прочитай\n",
            "  диалог. Перепишите неполное высказывание на основе истории диалога. Ответ должен\n",
            "  содержать только переписанное высказывание\n",
            "\n"
          ]
        }
      ],
      "source": [
        "config = OmegaConf.load(\"deepseek_r1_config.yaml\")\n",
        "print(OmegaConf.to_yaml(config))"
      ]
    },
    {
      "cell_type": "markdown",
      "metadata": {},
      "source": [
        "# Data loading"
      ]
    },
    {
      "cell_type": "code",
      "execution_count": null,
      "metadata": {},
      "outputs": [
        {
          "name": "stderr",
          "output_type": "stream",
          "text": [
            "You are using the default legacy behaviour of the <class 'transformers.models.t5.tokenization_t5.T5Tokenizer'>. This is expected, and simply means that the `legacy` (previous) behavior will be used so nothing changes for you. If you want to use the new behaviour, set `legacy=False`. This should only be set if you understand what it means, and thoroughly read the reason why this was added as explained in https://github.com/huggingface/transformers/pull/24565\n"
          ]
        }
      ],
      "source": [
        "tokenizer = AutoTokenizer.from_pretrained(config.model_name)"
      ]
    },
    {
      "cell_type": "code",
      "execution_count": null,
      "metadata": {},
      "outputs": [
        {
          "name": "stderr",
          "output_type": "stream",
          "text": [
            "Map: 100%|██████████| 4411/4411 [00:01<00:00, 4070.57 examples/s]\n",
            "Map: 100%|██████████| 551/551 [00:00<00:00, 4135.96 examples/s]\n",
            "Map: 100%|██████████| 551/551 [00:00<00:00, 4107.86 examples/s]\n"
          ]
        }
      ],
      "source": [
        "ds = load_ds(\"2rca_checked_version.json\")"
      ]
    },
    {
      "cell_type": "code",
      "execution_count": 51,
      "metadata": {
        "colab": {
          "base_uri": "https://localhost:8080/"
        },
        "id": "TfAPfzp8gBSn",
        "outputId": "a7ea808e-fa83-4142-aff4-50f56450cc89"
      },
      "outputs": [
        {
          "data": {
            "text/plain": [
              "{'history': ['Привет.',\n",
              "  'Привет.',\n",
              "  'Как твоё настроение сегодня?',\n",
              "  'Настроение отлично, скоро куплю машину, а твоё настроение как?',\n",
              "  'Здорово, ты скоро купишь машину! У меня тоже настроение на позитиве! Я очень давно хочу в Бразилию, и, кажется, сегодня моя мечта сбудется! Вечером поедем с подругой в турфирму оплачивать наш тур в Бразилию. А у тебя есть мечта?',\n",
              "  'Давно хочу завести лабрадора, прям с детства хочу собаку. Может, когда дочка подрастет заведу себе лабрадора.',\n",
              "  'Моей собаке уже 5 лет, и я даже не представляю, как я могла жить без своей собаки раньше?! Я думаю, что у тебя всё получится и у вас скоро обязательно появится питомец! Ведь собаки такие милые! Что сегодня будешь готовить на ужин?'],\n",
              " 'phrase': 'Сегодня будет мясо с кровью! Вот только надо в магазин... Эх, пойду прогуляюсь под дождём, это успокаивает.',\n",
              " 'rewrite': 'Сегодня на ужин будет мясо с кровью! Вот только надо в магазин... Эх, пойду прогуляюсь под дождём, это успокаивает.'}"
            ]
          },
          "execution_count": 51,
          "metadata": {},
          "output_type": "execute_result"
        }
      ],
      "source": [
        "ds['train'][0]"
      ]
    },
    {
      "cell_type": "markdown",
      "metadata": {},
      "source": [
        "# Evaluation"
      ]
    },
    {
      "cell_type": "code",
      "execution_count": null,
      "metadata": {},
      "outputs": [],
      "source": [
        "def infer_ds(ds, model, **kwargs):\n",
        "    test_results = []\n",
        "\n",
        "    for i in tqdm(range(100)):\n",
        "        success = False\n",
        "        while not success:\n",
        "            try:\n",
        "                messages = [\n",
        "                    {\n",
        "                        \"role\": \"system\",\n",
        "                        \"content\": config.prompt\n",
        "                    },\n",
        "\n",
        "                    {\n",
        "                        \"role\": \"user\",\n",
        "                        \"content\": \"История: \" + str(ds['train']['history'][0][-1]) + \" Неполное высказвание: \" + ds['train'][\"phrase\"][0]\n",
        "                    },\n",
        "                    {\n",
        "                        \"role\": \"assistant\",\n",
        "                        \"content\": ds['train']['rewrite'][0]\n",
        "                    },\n",
        "\n",
        "                    {\n",
        "                        \"role\": \"user\",\n",
        "                        \"content\": \"История: \" + str(ds['train']['history'][1][-1]) + \" Неполное высказвание: \" + ds['train'][\"phrase\"][1]\n",
        "                    },\n",
        "                    {\n",
        "                        \"role\": \"assistant\",\n",
        "                        \"content\": ds['train']['rewrite'][1]\n",
        "                    },\n",
        "\n",
        "                    {\n",
        "                        \"role\": \"user\",\n",
        "                        \"content\": \"История: \" + str(ds['train']['history'][2][-1]) + \" Неполное высказвание: \" + ds['train'][\"phrase\"][2]\n",
        "                    },\n",
        "                    {\n",
        "                        \"role\": \"assistant\",\n",
        "                        \"content\": ds['train']['rewrite'][2]\n",
        "                    },\n",
        "\n",
        "\n",
        "                    {\n",
        "                        \"role\": \"user\",\n",
        "                        \"content\": \"История: \" + str(ds['test']['history'][i][-1]) + \" Неполное высказвание: \" + ds['test'][\"phrase\"][i]\n",
        "                    }\n",
        "                ]\n",
        "\n",
        "                response = kwargs[\"client\"].chat.completions.create(\n",
        "                    model=model,\n",
        "                    messages=messages,\n",
        "                    temperature=1\n",
        "                )\n",
        "                out = response.choices[0].message.content\n",
        "                test_results.append(out)\n",
        "                success = True\n",
        "            except:\n",
        "                time.sleep(20)\n",
        "\n",
        "    return [r.split(\"</think>\")[-1] for r in test_results]"
      ]
    },
    {
      "cell_type": "code",
      "execution_count": null,
      "metadata": {
        "colab": {
          "base_uri": "https://localhost:8080/",
          "height": 112
        },
        "id": "aVe4wk7aiLNK",
        "outputId": "80b89eea-9718-4c0c-fefa-ecc4231a99cb"
      },
      "outputs": [
        {
          "data": {
            "application/vnd.google.colaboratory.intrinsic+json": {
              "summary": "{\n  \"name\": \"raw_test_results\",\n  \"rows\": 1,\n  \"fields\": [\n    {\n      \"column\": \"type\",\n      \"properties\": {\n        \"dtype\": \"string\",\n        \"num_unique_values\": 1,\n        \"samples\": [\n          \"2rca\"\n        ],\n        \"semantic_type\": \"\",\n        \"description\": \"\"\n      }\n    },\n    {\n      \"column\": \"bleu_score\",\n      \"properties\": {\n        \"dtype\": \"number\",\n        \"std\": null,\n        \"min\": 41.75598963590772,\n        \"max\": 41.75598963590772,\n        \"num_unique_values\": 1,\n        \"samples\": [\n          41.75598963590772\n        ],\n        \"semantic_type\": \"\",\n        \"description\": \"\"\n      }\n    },\n    {\n      \"column\": \"rouge-1\",\n      \"properties\": {\n        \"dtype\": \"number\",\n        \"std\": null,\n        \"min\": 0.5607164504278617,\n        \"max\": 0.5607164504278617,\n        \"num_unique_values\": 1,\n        \"samples\": [\n          0.5607164504278617\n        ],\n        \"semantic_type\": \"\",\n        \"description\": \"\"\n      }\n    },\n    {\n      \"column\": \"rouge-2\",\n      \"properties\": {\n        \"dtype\": \"number\",\n        \"std\": null,\n        \"min\": 0.3735653999895325,\n        \"max\": 0.3735653999895325,\n        \"num_unique_values\": 1,\n        \"samples\": [\n          0.3735653999895325\n        ],\n        \"semantic_type\": \"\",\n        \"description\": \"\"\n      }\n    },\n    {\n      \"column\": \"rouge-3\",\n      \"properties\": {\n        \"dtype\": \"number\",\n        \"std\": null,\n        \"min\": 0.2543572602480765,\n        \"max\": 0.2543572602480765,\n        \"num_unique_values\": 1,\n        \"samples\": [\n          0.2543572602480765\n        ],\n        \"semantic_type\": \"\",\n        \"description\": \"\"\n      }\n    },\n    {\n      \"column\": \"rouge-4\",\n      \"properties\": {\n        \"dtype\": \"number\",\n        \"std\": null,\n        \"min\": 0.1649173074458954,\n        \"max\": 0.1649173074458954,\n        \"num_unique_values\": 1,\n        \"samples\": [\n          0.1649173074458954\n        ],\n        \"semantic_type\": \"\",\n        \"description\": \"\"\n      }\n    },\n    {\n      \"column\": \"rouge-l\",\n      \"properties\": {\n        \"dtype\": \"number\",\n        \"std\": null,\n        \"min\": 0.5424175581794828,\n        \"max\": 0.5424175581794828,\n        \"num_unique_values\": 1,\n        \"samples\": [\n          0.5424175581794828\n        ],\n        \"semantic_type\": \"\",\n        \"description\": \"\"\n      }\n    },\n    {\n      \"column\": \"rf_score_1\",\n      \"properties\": {\n        \"dtype\": \"number\",\n        \"std\": null,\n        \"min\": 0.35734024527206953,\n        \"max\": 0.35734024527206953,\n        \"num_unique_values\": 1,\n        \"samples\": [\n          0.35734024527206953\n        ],\n        \"semantic_type\": \"\",\n        \"description\": \"\"\n      }\n    },\n    {\n      \"column\": \"rf_score_2\",\n      \"properties\": {\n        \"dtype\": \"number\",\n        \"std\": null,\n        \"min\": 0.2724334402848861,\n        \"max\": 0.2724334402848861,\n        \"num_unique_values\": 1,\n        \"samples\": [\n          0.2724334402848861\n        ],\n        \"semantic_type\": \"\",\n        \"description\": \"\"\n      }\n    },\n    {\n      \"column\": \"rf_score_3\",\n      \"properties\": {\n        \"dtype\": \"number\",\n        \"std\": null,\n        \"min\": 0.2416063600043279,\n        \"max\": 0.2416063600043279,\n        \"num_unique_values\": 1,\n        \"samples\": [\n          0.2416063600043279\n        ],\n        \"semantic_type\": \"\",\n        \"description\": \"\"\n      }\n    },\n    {\n      \"column\": \"rf_score_4\",\n      \"properties\": {\n        \"dtype\": \"number\",\n        \"std\": null,\n        \"min\": 0.21401004684061264,\n        \"max\": 0.21401004684061264,\n        \"num_unique_values\": 1,\n        \"samples\": [\n          0.21401004684061264\n        ],\n        \"semantic_type\": \"\",\n        \"description\": \"\"\n      }\n    }\n  ]\n}",
              "type": "dataframe"
            },
            "text/html": [
              "\n",
              "  <div id=\"df-efa461d0-d89e-402c-b676-162d29c92fa3\" class=\"colab-df-container\">\n",
              "    <div>\n",
              "<style scoped>\n",
              "    .dataframe tbody tr th:only-of-type {\n",
              "        vertical-align: middle;\n",
              "    }\n",
              "\n",
              "    .dataframe tbody tr th {\n",
              "        vertical-align: top;\n",
              "    }\n",
              "\n",
              "    .dataframe thead th {\n",
              "        text-align: right;\n",
              "    }\n",
              "</style>\n",
              "<table border=\"1\" class=\"dataframe\">\n",
              "  <thead>\n",
              "    <tr style=\"text-align: right;\">\n",
              "      <th></th>\n",
              "      <th>bleu_score</th>\n",
              "      <th>rouge-1</th>\n",
              "      <th>rouge-2</th>\n",
              "      <th>rouge-3</th>\n",
              "      <th>rouge-4</th>\n",
              "      <th>rouge-l</th>\n",
              "      <th>rf_score_1</th>\n",
              "      <th>rf_score_2</th>\n",
              "      <th>rf_score_3</th>\n",
              "      <th>rf_score_4</th>\n",
              "    </tr>\n",
              "    <tr>\n",
              "      <th>type</th>\n",
              "      <th></th>\n",
              "      <th></th>\n",
              "      <th></th>\n",
              "      <th></th>\n",
              "      <th></th>\n",
              "      <th></th>\n",
              "      <th></th>\n",
              "      <th></th>\n",
              "      <th></th>\n",
              "      <th></th>\n",
              "    </tr>\n",
              "  </thead>\n",
              "  <tbody>\n",
              "    <tr>\n",
              "      <th>2rca</th>\n",
              "      <td>41.75599</td>\n",
              "      <td>0.560716</td>\n",
              "      <td>0.373565</td>\n",
              "      <td>0.254357</td>\n",
              "      <td>0.164917</td>\n",
              "      <td>0.542418</td>\n",
              "      <td>0.35734</td>\n",
              "      <td>0.272433</td>\n",
              "      <td>0.241606</td>\n",
              "      <td>0.21401</td>\n",
              "    </tr>\n",
              "  </tbody>\n",
              "</table>\n",
              "</div>\n",
              "    <div class=\"colab-df-buttons\">\n",
              "\n",
              "  <div class=\"colab-df-container\">\n",
              "    <button class=\"colab-df-convert\" onclick=\"convertToInteractive('df-efa461d0-d89e-402c-b676-162d29c92fa3')\"\n",
              "            title=\"Convert this dataframe to an interactive table.\"\n",
              "            style=\"display:none;\">\n",
              "\n",
              "  <svg xmlns=\"http://www.w3.org/2000/svg\" height=\"24px\" viewBox=\"0 -960 960 960\">\n",
              "    <path d=\"M120-120v-720h720v720H120Zm60-500h600v-160H180v160Zm220 220h160v-160H400v160Zm0 220h160v-160H400v160ZM180-400h160v-160H180v160Zm440 0h160v-160H620v160ZM180-180h160v-160H180v160Zm440 0h160v-160H620v160Z\"/>\n",
              "  </svg>\n",
              "    </button>\n",
              "\n",
              "  <style>\n",
              "    .colab-df-container {\n",
              "      display:flex;\n",
              "      gap: 12px;\n",
              "    }\n",
              "\n",
              "    .colab-df-convert {\n",
              "      background-color: #E8F0FE;\n",
              "      border: none;\n",
              "      border-radius: 50%;\n",
              "      cursor: pointer;\n",
              "      display: none;\n",
              "      fill: #1967D2;\n",
              "      height: 32px;\n",
              "      padding: 0 0 0 0;\n",
              "      width: 32px;\n",
              "    }\n",
              "\n",
              "    .colab-df-convert:hover {\n",
              "      background-color: #E2EBFA;\n",
              "      box-shadow: 0px 1px 2px rgba(60, 64, 67, 0.3), 0px 1px 3px 1px rgba(60, 64, 67, 0.15);\n",
              "      fill: #174EA6;\n",
              "    }\n",
              "\n",
              "    .colab-df-buttons div {\n",
              "      margin-bottom: 4px;\n",
              "    }\n",
              "\n",
              "    [theme=dark] .colab-df-convert {\n",
              "      background-color: #3B4455;\n",
              "      fill: #D2E3FC;\n",
              "    }\n",
              "\n",
              "    [theme=dark] .colab-df-convert:hover {\n",
              "      background-color: #434B5C;\n",
              "      box-shadow: 0px 1px 3px 1px rgba(0, 0, 0, 0.15);\n",
              "      filter: drop-shadow(0px 1px 2px rgba(0, 0, 0, 0.3));\n",
              "      fill: #FFFFFF;\n",
              "    }\n",
              "  </style>\n",
              "\n",
              "    <script>\n",
              "      const buttonEl =\n",
              "        document.querySelector('#df-efa461d0-d89e-402c-b676-162d29c92fa3 button.colab-df-convert');\n",
              "      buttonEl.style.display =\n",
              "        google.colab.kernel.accessAllowed ? 'block' : 'none';\n",
              "\n",
              "      async function convertToInteractive(key) {\n",
              "        const element = document.querySelector('#df-efa461d0-d89e-402c-b676-162d29c92fa3');\n",
              "        const dataTable =\n",
              "          await google.colab.kernel.invokeFunction('convertToInteractive',\n",
              "                                                    [key], {});\n",
              "        if (!dataTable) return;\n",
              "\n",
              "        const docLinkHtml = 'Like what you see? Visit the ' +\n",
              "          '<a target=\"_blank\" href=https://colab.research.google.com/notebooks/data_table.ipynb>data table notebook</a>'\n",
              "          + ' to learn more about interactive tables.';\n",
              "        element.innerHTML = '';\n",
              "        dataTable['output_type'] = 'display_data';\n",
              "        await google.colab.output.renderOutput(dataTable, element);\n",
              "        const docLink = document.createElement('div');\n",
              "        docLink.innerHTML = docLinkHtml;\n",
              "        element.appendChild(docLink);\n",
              "      }\n",
              "    </script>\n",
              "  </div>\n",
              "\n",
              "    </div>\n",
              "  </div>\n"
            ],
            "text/plain": [
              "      bleu_score   rouge-1   rouge-2   rouge-3   rouge-4   rouge-l  \\\n",
              "type                                                                 \n",
              "2rca    41.75599  0.560716  0.373565  0.254357  0.164917  0.542418   \n",
              "\n",
              "      rf_score_1  rf_score_2  rf_score_3  rf_score_4  \n",
              "type                                                  \n",
              "2rca     0.35734    0.272433    0.241606     0.21401  "
            ]
          },
          "execution_count": 84,
          "metadata": {},
          "output_type": "execute_result"
        }
      ],
      "source": [
        "client = Together()\n",
        "\n",
        "evaluator = Evaluator(dataset=ds, \n",
        "                      model=config.model_name, \n",
        "                      client=client,\n",
        "                      tokenizer=tokenizer, \n",
        "                      infer_func=infer_ds)\n",
        "\n",
        "evaluator.evaluate()"
      ]
    }
  ],
  "metadata": {
    "colab": {
      "provenance": []
    },
    "kernelspec": {
      "display_name": "context_dep",
      "language": "python",
      "name": "python3"
    },
    "language_info": {
      "codemirror_mode": {
        "name": "ipython",
        "version": 3
      },
      "file_extension": ".py",
      "mimetype": "text/x-python",
      "name": "python",
      "nbconvert_exporter": "python",
      "pygments_lexer": "ipython3",
      "version": "3.11.13"
    }
  },
  "nbformat": 4,
  "nbformat_minor": 0
}
